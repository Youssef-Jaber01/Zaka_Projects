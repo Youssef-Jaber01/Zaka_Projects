{
  "cells": [
    {
      "cell_type": "markdown",
      "metadata": {
        "id": "LvhDcQCBR_tW"
      },
      "source": [
        "# Challenge of the Week - ML Workflow\n",
        "\n",
        "© 2022 Zaka AI, Inc. All Rights Reserved.\n",
        "\n",
        "---\n",
        "\n",
        "## Part A: Adaboost\n",
        "\n",
        "After doing your research and understanding about adaboost, please answer the following questions.\n",
        "Just write the choice letter (a,b,c,d) in a list, as provided in the sample answer below.\n",
        "\n",
        "**Sample Answer:**<br>\n",
        "* q1 = [\"f\"] (for one response)\n",
        "* q2 = [\"h\", \"g\"] (for several responses)"
      ]
    },
    {
      "cell_type": "markdown",
      "metadata": {
        "id": "gYDEoim1R_tZ"
      },
      "source": [
        "**Q1: Adaboost is classified as which kind of ensemble method?**\n",
        "* a) Bagging\n",
        "* b) Boosting\n",
        "* c) Stacking\n",
        "* d) All of the above\n"
      ]
    },
    {
      "cell_type": "markdown",
      "metadata": {
        "id": "tOtBES3BR_ta"
      },
      "source": [
        "**Q2: How do we combine the results of individual weak learners in AdaBoost?**\n",
        "* a) By averaging the predictions of weak learners\n",
        "* b) By multiplying the predictions of weak learners\n",
        "* c) By taking the majority vote of weak learners\n",
        "* d) By weighting the predictions of weak learners based on their accuracy"
      ]
    },
    {
      "cell_type": "markdown",
      "metadata": {
        "id": "R6d_YAcCR_ta"
      },
      "source": [
        "**Q3: Can Adaboost be used for regression?**\n",
        "* a) Yes\n",
        "* b) No\n",
        "* c) Maybe"
      ]
    },
    {
      "cell_type": "markdown",
      "metadata": {
        "id": "PyQ-Ek1VR_tb"
      },
      "source": [
        "**Q4: Which of the following algorithms cannot be used with Adaboost**\n",
        "* a) SVM\n",
        "* b) Decision Tree\n",
        "* c) k-means\n",
        "* d) Apriori\n",
        "* e) None of the above cannot be used with Adaboost"
      ]
    },
    {
      "cell_type": "markdown",
      "metadata": {
        "id": "m72J_jw-R_tb"
      },
      "source": [
        "**Q5: What is the purpose of updating the sample weights in Adaboost?**\n",
        "* a) To reduce the importance of samples that were correctly classified by the weak classifier\n",
        "* b) To give more importance to samples that were misclassified by the weak classifier\n",
        "* c) To give equal importance to all samples in the training set\n",
        "* d) To give more importance to samples that are difficult to classify"
      ]
    },
    {
      "cell_type": "markdown",
      "metadata": {
        "id": "b2CifSwaR_tb"
      },
      "source": [
        "**Q6: How many times does the training of weak classifiers and the updating of sample weights occur in the Adaboost algorithm?**\n",
        "* a) Once\n",
        "* b) Twice\n",
        "* c) Until the desired number of weak classifiers is reached\n",
        "* d) Until a stopping criteria is reached"
      ]
    },
    {
      "cell_type": "code",
      "execution_count": null,
      "metadata": {
        "tags": [],
        "id": "1AG8XkI8R_tb"
      },
      "outputs": [],
      "source": [
        "q1 = [\"b\"]\n",
        "q2 = [\"d\"]\n",
        "q3 = [\"a\"]\n",
        "q4 = [\"c\",\"d\"]\n",
        "q5 = [\"b\"]\n",
        "q6 = [\"c\"]"
      ]
    },
    {
      "cell_type": "markdown",
      "metadata": {
        "id": "SKzBo_NmCSMR"
      },
      "source": [
        "\n",
        "## Part B: Case Study: Classifying Smokers vs Non Smokers\n",
        "\n",
        "**Objective:**\n",
        "\n",
        "In this challenge, you will work on a dataset that you saw during week 1 but this time with different aspect. Your goal is not only to make a prediction, it is to make a prediction with the best possible way. So you will be building, evaluating, and improving your model.\n",
        "\n",
        "\n",
        "## Dataset Description\n",
        "\n",
        "\n",
        "*   **age**: age of primary beneficiary\n",
        "*   **sex**: insurance contractor gender, female, male\n",
        "*   **bmi**: Body mass index, providing an understanding of body, weights that are relatively high or low relative to height,\n",
        "objective index of body weight (kg / m ^ 2) using the ratio of height to weight, ideally 18.5 to 24.9\n",
        "*   **children**: Number of children covered by health insurance / Number of dependents\n",
        "*   **smoker**: Smoking\n",
        "*   **region**: the beneficiary's residential area in the US, northeast, southeast, southwest, northwest.\n",
        "*   **charges**: Individual medical costs billed by health insurance"
      ]
    },
    {
      "cell_type": "markdown",
      "metadata": {
        "id": "lW2QzRbXR5Ph"
      },
      "source": [
        "Our problem would be to predict if a person is smoker or not based on all the other features in the dataset."
      ]
    },
    {
      "cell_type": "markdown",
      "metadata": {
        "id": "5k7QqVknG5ya"
      },
      "source": [
        "## 1. Data Loading"
      ]
    },
    {
      "cell_type": "markdown",
      "metadata": {
        "id": "GfyJQMOnE_48"
      },
      "source": [
        "#### Import necessary python modules\n",
        "\n",
        "We will need the following libraries:\n",
        " - Numpy — for scientific computing (e.g., linear algebra (vectors & matrices)).\n",
        " - Pandas — providing high-performance, easy-to-use data reading, manipulation, and analysis.\n",
        " - Matplotlib — plotting & visualization.\n",
        " - scikit-learn — a tool for data mining and machine learning models."
      ]
    },
    {
      "cell_type": "code",
      "execution_count": null,
      "metadata": {
        "id": "nHjlyBIER_td"
      },
      "outputs": [],
      "source": [
        "import warnings\n",
        "warnings.filterwarnings('ignore')"
      ]
    },
    {
      "cell_type": "code",
      "execution_count": null,
      "metadata": {
        "id": "u9nnDKPjAfGq"
      },
      "outputs": [],
      "source": [
        "import numpy as np\n",
        "import pandas as pd\n",
        "import matplotlib.pyplot as plt\n",
        "\n",
        "from sklearn.model_selection import train_test_split\n",
        "from sklearn.linear_model import LogisticRegression\n",
        "from sklearn.preprocessing import LabelEncoder"
      ]
    },
    {
      "cell_type": "markdown",
      "metadata": {
        "id": "M3P3BLSpJK1k"
      },
      "source": [
        "#### Load the data\n",
        "\n",
        "You can find the dataset [here](https://drive.google.com/file/d/1Mzp81y5b6JeqecIoI3CuUlrv86PTHJqU/view?usp=share_link). Download it and load it to your colab environment using pd.read_csv('filename.csv')"
      ]
    },
    {
      "cell_type": "markdown",
      "metadata": {
        "id": "4LEivAvUHIE3"
      },
      "source": [
        "#### Read & visualize data\n",
        "Data now is stored on disk in a csv (Comma Separated Values) file. To load the data to our code, we use **pandas** module, more specifically, the **read_csv** function."
      ]
    },
    {
      "cell_type": "code",
      "execution_count": null,
      "metadata": {
        "id": "_hep8239AzVU",
        "tags": [],
        "colab": {
          "base_uri": "https://localhost:8080/",
          "height": 206
        },
        "outputId": "42845da8-d5dd-4ed7-faa5-d7976263c465"
      },
      "outputs": [
        {
          "output_type": "execute_result",
          "data": {
            "text/plain": [
              "   age     sex     bmi  children smoker     region      charges\n",
              "0   19  female  27.900         0    yes  southwest  16884.92400\n",
              "1   18    male  33.770         1     no  southeast   1725.55230\n",
              "2   28    male  33.000         3     no  southeast   4449.46200\n",
              "3   33    male  22.705         0     no  northwest  21984.47061\n",
              "4   32    male  28.880         0     no  northwest   3866.85520"
            ],
            "text/html": [
              "\n",
              "  <div id=\"df-81585ec6-0139-4ce5-b608-bde1f8724b75\">\n",
              "    <div class=\"colab-df-container\">\n",
              "      <div>\n",
              "<style scoped>\n",
              "    .dataframe tbody tr th:only-of-type {\n",
              "        vertical-align: middle;\n",
              "    }\n",
              "\n",
              "    .dataframe tbody tr th {\n",
              "        vertical-align: top;\n",
              "    }\n",
              "\n",
              "    .dataframe thead th {\n",
              "        text-align: right;\n",
              "    }\n",
              "</style>\n",
              "<table border=\"1\" class=\"dataframe\">\n",
              "  <thead>\n",
              "    <tr style=\"text-align: right;\">\n",
              "      <th></th>\n",
              "      <th>age</th>\n",
              "      <th>sex</th>\n",
              "      <th>bmi</th>\n",
              "      <th>children</th>\n",
              "      <th>smoker</th>\n",
              "      <th>region</th>\n",
              "      <th>charges</th>\n",
              "    </tr>\n",
              "  </thead>\n",
              "  <tbody>\n",
              "    <tr>\n",
              "      <th>0</th>\n",
              "      <td>19</td>\n",
              "      <td>female</td>\n",
              "      <td>27.900</td>\n",
              "      <td>0</td>\n",
              "      <td>yes</td>\n",
              "      <td>southwest</td>\n",
              "      <td>16884.92400</td>\n",
              "    </tr>\n",
              "    <tr>\n",
              "      <th>1</th>\n",
              "      <td>18</td>\n",
              "      <td>male</td>\n",
              "      <td>33.770</td>\n",
              "      <td>1</td>\n",
              "      <td>no</td>\n",
              "      <td>southeast</td>\n",
              "      <td>1725.55230</td>\n",
              "    </tr>\n",
              "    <tr>\n",
              "      <th>2</th>\n",
              "      <td>28</td>\n",
              "      <td>male</td>\n",
              "      <td>33.000</td>\n",
              "      <td>3</td>\n",
              "      <td>no</td>\n",
              "      <td>southeast</td>\n",
              "      <td>4449.46200</td>\n",
              "    </tr>\n",
              "    <tr>\n",
              "      <th>3</th>\n",
              "      <td>33</td>\n",
              "      <td>male</td>\n",
              "      <td>22.705</td>\n",
              "      <td>0</td>\n",
              "      <td>no</td>\n",
              "      <td>northwest</td>\n",
              "      <td>21984.47061</td>\n",
              "    </tr>\n",
              "    <tr>\n",
              "      <th>4</th>\n",
              "      <td>32</td>\n",
              "      <td>male</td>\n",
              "      <td>28.880</td>\n",
              "      <td>0</td>\n",
              "      <td>no</td>\n",
              "      <td>northwest</td>\n",
              "      <td>3866.85520</td>\n",
              "    </tr>\n",
              "  </tbody>\n",
              "</table>\n",
              "</div>\n",
              "      <button class=\"colab-df-convert\" onclick=\"convertToInteractive('df-81585ec6-0139-4ce5-b608-bde1f8724b75')\"\n",
              "              title=\"Convert this dataframe to an interactive table.\"\n",
              "              style=\"display:none;\">\n",
              "        \n",
              "  <svg xmlns=\"http://www.w3.org/2000/svg\" height=\"24px\"viewBox=\"0 0 24 24\"\n",
              "       width=\"24px\">\n",
              "    <path d=\"M0 0h24v24H0V0z\" fill=\"none\"/>\n",
              "    <path d=\"M18.56 5.44l.94 2.06.94-2.06 2.06-.94-2.06-.94-.94-2.06-.94 2.06-2.06.94zm-11 1L8.5 8.5l.94-2.06 2.06-.94-2.06-.94L8.5 2.5l-.94 2.06-2.06.94zm10 10l.94 2.06.94-2.06 2.06-.94-2.06-.94-.94-2.06-.94 2.06-2.06.94z\"/><path d=\"M17.41 7.96l-1.37-1.37c-.4-.4-.92-.59-1.43-.59-.52 0-1.04.2-1.43.59L10.3 9.45l-7.72 7.72c-.78.78-.78 2.05 0 2.83L4 21.41c.39.39.9.59 1.41.59.51 0 1.02-.2 1.41-.59l7.78-7.78 2.81-2.81c.8-.78.8-2.07 0-2.86zM5.41 20L4 18.59l7.72-7.72 1.47 1.35L5.41 20z\"/>\n",
              "  </svg>\n",
              "      </button>\n",
              "      \n",
              "  <style>\n",
              "    .colab-df-container {\n",
              "      display:flex;\n",
              "      flex-wrap:wrap;\n",
              "      gap: 12px;\n",
              "    }\n",
              "\n",
              "    .colab-df-convert {\n",
              "      background-color: #E8F0FE;\n",
              "      border: none;\n",
              "      border-radius: 50%;\n",
              "      cursor: pointer;\n",
              "      display: none;\n",
              "      fill: #1967D2;\n",
              "      height: 32px;\n",
              "      padding: 0 0 0 0;\n",
              "      width: 32px;\n",
              "    }\n",
              "\n",
              "    .colab-df-convert:hover {\n",
              "      background-color: #E2EBFA;\n",
              "      box-shadow: 0px 1px 2px rgba(60, 64, 67, 0.3), 0px 1px 3px 1px rgba(60, 64, 67, 0.15);\n",
              "      fill: #174EA6;\n",
              "    }\n",
              "\n",
              "    [theme=dark] .colab-df-convert {\n",
              "      background-color: #3B4455;\n",
              "      fill: #D2E3FC;\n",
              "    }\n",
              "\n",
              "    [theme=dark] .colab-df-convert:hover {\n",
              "      background-color: #434B5C;\n",
              "      box-shadow: 0px 1px 3px 1px rgba(0, 0, 0, 0.15);\n",
              "      filter: drop-shadow(0px 1px 2px rgba(0, 0, 0, 0.3));\n",
              "      fill: #FFFFFF;\n",
              "    }\n",
              "  </style>\n",
              "\n",
              "      <script>\n",
              "        const buttonEl =\n",
              "          document.querySelector('#df-81585ec6-0139-4ce5-b608-bde1f8724b75 button.colab-df-convert');\n",
              "        buttonEl.style.display =\n",
              "          google.colab.kernel.accessAllowed ? 'block' : 'none';\n",
              "\n",
              "        async function convertToInteractive(key) {\n",
              "          const element = document.querySelector('#df-81585ec6-0139-4ce5-b608-bde1f8724b75');\n",
              "          const dataTable =\n",
              "            await google.colab.kernel.invokeFunction('convertToInteractive',\n",
              "                                                     [key], {});\n",
              "          if (!dataTable) return;\n",
              "\n",
              "          const docLinkHtml = 'Like what you see? Visit the ' +\n",
              "            '<a target=\"_blank\" href=https://colab.research.google.com/notebooks/data_table.ipynb>data table notebook</a>'\n",
              "            + ' to learn more about interactive tables.';\n",
              "          element.innerHTML = '';\n",
              "          dataTable['output_type'] = 'display_data';\n",
              "          await google.colab.output.renderOutput(dataTable, element);\n",
              "          const docLink = document.createElement('div');\n",
              "          docLink.innerHTML = docLinkHtml;\n",
              "          element.appendChild(docLink);\n",
              "        }\n",
              "      </script>\n",
              "    </div>\n",
              "  </div>\n",
              "  "
            ]
          },
          "metadata": {},
          "execution_count": 6
        }
      ],
      "source": [
        "# read CSV file in Pandas\n",
        "path = \"/content/insurance.csv\"\n",
        "data =  pd.read_csv(path)\n",
        "\n",
        "# display first 5 rows\n",
        "data.head()"
      ]
    },
    {
      "cell_type": "markdown",
      "metadata": {
        "id": "qgIxvmAKhiqe"
      },
      "source": [
        "## 2. Exploratory Data Analysis\n",
        "\n",
        "Let's dig deeper & understand our data"
      ]
    },
    {
      "cell_type": "markdown",
      "metadata": {
        "id": "LbXDTkiQhzwq"
      },
      "source": [
        "**Task:** how many rows & columns in our dataset"
      ]
    },
    {
      "cell_type": "code",
      "execution_count": null,
      "metadata": {
        "id": "nUf0K_SMh1og",
        "tags": [],
        "colab": {
          "base_uri": "https://localhost:8080/"
        },
        "outputId": "5fdbb056-6072-4fdc-d117-329c03be56a3"
      },
      "outputs": [
        {
          "output_type": "stream",
          "name": "stdout",
          "text": [
            "There are 1338 rows and 7 columns.\n"
          ]
        }
      ],
      "source": [
        "# get the number of rows and columns\n",
        "rows = data.shape[0]\n",
        "columns = data.shape[1]\n",
        "\n",
        "print('There are {} rows and {} columns.'.format(rows,columns))"
      ]
    },
    {
      "cell_type": "markdown",
      "metadata": {
        "id": "rPqsS9S2B2M4"
      },
      "source": [
        "Using the function **info()**, we can check:\n",
        " - data types (int, float, or object (e.g., string))\n",
        " - missing values\n",
        " - memory usage\n",
        " - number of rows and columns"
      ]
    },
    {
      "cell_type": "code",
      "execution_count": null,
      "metadata": {
        "id": "exWsHvXSA7nz",
        "tags": [],
        "colab": {
          "base_uri": "https://localhost:8080/"
        },
        "outputId": "37905338-9b1b-4d37-d3c5-7015c04f5b51"
      },
      "outputs": [
        {
          "output_type": "stream",
          "name": "stdout",
          "text": [
            "<class 'pandas.core.frame.DataFrame'>\n",
            "RangeIndex: 1338 entries, 0 to 1337\n",
            "Data columns (total 7 columns):\n",
            " #   Column    Non-Null Count  Dtype  \n",
            "---  ------    --------------  -----  \n",
            " 0   age       1338 non-null   int64  \n",
            " 1   sex       1338 non-null   object \n",
            " 2   bmi       1335 non-null   float64\n",
            " 3   children  1338 non-null   int64  \n",
            " 4   smoker    1338 non-null   object \n",
            " 5   region    1338 non-null   object \n",
            " 6   charges   1338 non-null   float64\n",
            "dtypes: float64(2), int64(2), object(3)\n",
            "memory usage: 73.3+ KB\n"
          ]
        }
      ],
      "source": [
        "data.info()"
      ]
    },
    {
      "cell_type": "code",
      "execution_count": null,
      "metadata": {
        "id": "zwovYV9pB68O",
        "tags": []
      },
      "outputs": [],
      "source": [
        "columns_with_missing_values = \"bmi\""
      ]
    },
    {
      "cell_type": "markdown",
      "metadata": {
        "id": "Kt2KsZa2B63T"
      },
      "source": [
        "Using the function **describe()**, we can check the mean, standard deviation, maximum, and minimum of each numerical feature (column)"
      ]
    },
    {
      "cell_type": "code",
      "execution_count": null,
      "metadata": {
        "id": "pifR8QwkA-DW",
        "tags": [],
        "colab": {
          "base_uri": "https://localhost:8080/",
          "height": 300
        },
        "outputId": "05f090cd-5776-463b-dd3e-85d9794f640f"
      },
      "outputs": [
        {
          "output_type": "execute_result",
          "data": {
            "text/plain": [
              "               age          bmi     children       charges\n",
              "count  1338.000000  1335.000000  1338.000000   1338.000000\n",
              "mean     39.207025    30.661423     1.094918  13270.422265\n",
              "std      14.049960     6.101038     1.205493  12110.011237\n",
              "min      18.000000    15.960000     0.000000   1121.873900\n",
              "25%      27.000000    26.302500     0.000000   4740.287150\n",
              "50%      39.000000    30.400000     1.000000   9382.033000\n",
              "75%      51.000000    34.687500     2.000000  16639.912515\n",
              "max      64.000000    53.130000     5.000000  63770.428010"
            ],
            "text/html": [
              "\n",
              "  <div id=\"df-9170ebc0-a1ad-43ff-b365-a4f4f7560886\">\n",
              "    <div class=\"colab-df-container\">\n",
              "      <div>\n",
              "<style scoped>\n",
              "    .dataframe tbody tr th:only-of-type {\n",
              "        vertical-align: middle;\n",
              "    }\n",
              "\n",
              "    .dataframe tbody tr th {\n",
              "        vertical-align: top;\n",
              "    }\n",
              "\n",
              "    .dataframe thead th {\n",
              "        text-align: right;\n",
              "    }\n",
              "</style>\n",
              "<table border=\"1\" class=\"dataframe\">\n",
              "  <thead>\n",
              "    <tr style=\"text-align: right;\">\n",
              "      <th></th>\n",
              "      <th>age</th>\n",
              "      <th>bmi</th>\n",
              "      <th>children</th>\n",
              "      <th>charges</th>\n",
              "    </tr>\n",
              "  </thead>\n",
              "  <tbody>\n",
              "    <tr>\n",
              "      <th>count</th>\n",
              "      <td>1338.000000</td>\n",
              "      <td>1335.000000</td>\n",
              "      <td>1338.000000</td>\n",
              "      <td>1338.000000</td>\n",
              "    </tr>\n",
              "    <tr>\n",
              "      <th>mean</th>\n",
              "      <td>39.207025</td>\n",
              "      <td>30.661423</td>\n",
              "      <td>1.094918</td>\n",
              "      <td>13270.422265</td>\n",
              "    </tr>\n",
              "    <tr>\n",
              "      <th>std</th>\n",
              "      <td>14.049960</td>\n",
              "      <td>6.101038</td>\n",
              "      <td>1.205493</td>\n",
              "      <td>12110.011237</td>\n",
              "    </tr>\n",
              "    <tr>\n",
              "      <th>min</th>\n",
              "      <td>18.000000</td>\n",
              "      <td>15.960000</td>\n",
              "      <td>0.000000</td>\n",
              "      <td>1121.873900</td>\n",
              "    </tr>\n",
              "    <tr>\n",
              "      <th>25%</th>\n",
              "      <td>27.000000</td>\n",
              "      <td>26.302500</td>\n",
              "      <td>0.000000</td>\n",
              "      <td>4740.287150</td>\n",
              "    </tr>\n",
              "    <tr>\n",
              "      <th>50%</th>\n",
              "      <td>39.000000</td>\n",
              "      <td>30.400000</td>\n",
              "      <td>1.000000</td>\n",
              "      <td>9382.033000</td>\n",
              "    </tr>\n",
              "    <tr>\n",
              "      <th>75%</th>\n",
              "      <td>51.000000</td>\n",
              "      <td>34.687500</td>\n",
              "      <td>2.000000</td>\n",
              "      <td>16639.912515</td>\n",
              "    </tr>\n",
              "    <tr>\n",
              "      <th>max</th>\n",
              "      <td>64.000000</td>\n",
              "      <td>53.130000</td>\n",
              "      <td>5.000000</td>\n",
              "      <td>63770.428010</td>\n",
              "    </tr>\n",
              "  </tbody>\n",
              "</table>\n",
              "</div>\n",
              "      <button class=\"colab-df-convert\" onclick=\"convertToInteractive('df-9170ebc0-a1ad-43ff-b365-a4f4f7560886')\"\n",
              "              title=\"Convert this dataframe to an interactive table.\"\n",
              "              style=\"display:none;\">\n",
              "        \n",
              "  <svg xmlns=\"http://www.w3.org/2000/svg\" height=\"24px\"viewBox=\"0 0 24 24\"\n",
              "       width=\"24px\">\n",
              "    <path d=\"M0 0h24v24H0V0z\" fill=\"none\"/>\n",
              "    <path d=\"M18.56 5.44l.94 2.06.94-2.06 2.06-.94-2.06-.94-.94-2.06-.94 2.06-2.06.94zm-11 1L8.5 8.5l.94-2.06 2.06-.94-2.06-.94L8.5 2.5l-.94 2.06-2.06.94zm10 10l.94 2.06.94-2.06 2.06-.94-2.06-.94-.94-2.06-.94 2.06-2.06.94z\"/><path d=\"M17.41 7.96l-1.37-1.37c-.4-.4-.92-.59-1.43-.59-.52 0-1.04.2-1.43.59L10.3 9.45l-7.72 7.72c-.78.78-.78 2.05 0 2.83L4 21.41c.39.39.9.59 1.41.59.51 0 1.02-.2 1.41-.59l7.78-7.78 2.81-2.81c.8-.78.8-2.07 0-2.86zM5.41 20L4 18.59l7.72-7.72 1.47 1.35L5.41 20z\"/>\n",
              "  </svg>\n",
              "      </button>\n",
              "      \n",
              "  <style>\n",
              "    .colab-df-container {\n",
              "      display:flex;\n",
              "      flex-wrap:wrap;\n",
              "      gap: 12px;\n",
              "    }\n",
              "\n",
              "    .colab-df-convert {\n",
              "      background-color: #E8F0FE;\n",
              "      border: none;\n",
              "      border-radius: 50%;\n",
              "      cursor: pointer;\n",
              "      display: none;\n",
              "      fill: #1967D2;\n",
              "      height: 32px;\n",
              "      padding: 0 0 0 0;\n",
              "      width: 32px;\n",
              "    }\n",
              "\n",
              "    .colab-df-convert:hover {\n",
              "      background-color: #E2EBFA;\n",
              "      box-shadow: 0px 1px 2px rgba(60, 64, 67, 0.3), 0px 1px 3px 1px rgba(60, 64, 67, 0.15);\n",
              "      fill: #174EA6;\n",
              "    }\n",
              "\n",
              "    [theme=dark] .colab-df-convert {\n",
              "      background-color: #3B4455;\n",
              "      fill: #D2E3FC;\n",
              "    }\n",
              "\n",
              "    [theme=dark] .colab-df-convert:hover {\n",
              "      background-color: #434B5C;\n",
              "      box-shadow: 0px 1px 3px 1px rgba(0, 0, 0, 0.15);\n",
              "      filter: drop-shadow(0px 1px 2px rgba(0, 0, 0, 0.3));\n",
              "      fill: #FFFFFF;\n",
              "    }\n",
              "  </style>\n",
              "\n",
              "      <script>\n",
              "        const buttonEl =\n",
              "          document.querySelector('#df-9170ebc0-a1ad-43ff-b365-a4f4f7560886 button.colab-df-convert');\n",
              "        buttonEl.style.display =\n",
              "          google.colab.kernel.accessAllowed ? 'block' : 'none';\n",
              "\n",
              "        async function convertToInteractive(key) {\n",
              "          const element = document.querySelector('#df-9170ebc0-a1ad-43ff-b365-a4f4f7560886');\n",
              "          const dataTable =\n",
              "            await google.colab.kernel.invokeFunction('convertToInteractive',\n",
              "                                                     [key], {});\n",
              "          if (!dataTable) return;\n",
              "\n",
              "          const docLinkHtml = 'Like what you see? Visit the ' +\n",
              "            '<a target=\"_blank\" href=https://colab.research.google.com/notebooks/data_table.ipynb>data table notebook</a>'\n",
              "            + ' to learn more about interactive tables.';\n",
              "          element.innerHTML = '';\n",
              "          dataTable['output_type'] = 'display_data';\n",
              "          await google.colab.output.renderOutput(dataTable, element);\n",
              "          const docLink = document.createElement('div');\n",
              "          docLink.innerHTML = docLinkHtml;\n",
              "          element.appendChild(docLink);\n",
              "        }\n",
              "      </script>\n",
              "    </div>\n",
              "  </div>\n",
              "  "
            ]
          },
          "metadata": {},
          "execution_count": 10
        }
      ],
      "source": [
        "data.describe()"
      ]
    },
    {
      "cell_type": "code",
      "execution_count": null,
      "metadata": {
        "id": "x6RrrXrkCM8z",
        "tags": []
      },
      "outputs": [],
      "source": [
        "mean_bmi = 30.661423"
      ]
    },
    {
      "cell_type": "code",
      "execution_count": null,
      "metadata": {
        "id": "EsC5G4rMCZQC",
        "tags": []
      },
      "outputs": [],
      "source": [
        "std_bmi = 6.101038"
      ]
    },
    {
      "cell_type": "markdown",
      "metadata": {
        "id": "-C6DoqLJkZaJ"
      },
      "source": [
        "#### Data Imbalance Checking\n",
        "\n",
        "First, let's see how many smokers vs non-smokers we have."
      ]
    },
    {
      "cell_type": "code",
      "execution_count": null,
      "metadata": {
        "id": "2bYxq0B4m4eg",
        "tags": [],
        "colab": {
          "base_uri": "https://localhost:8080/"
        },
        "outputId": "2fe663d3-4843-4fd1-f6af-fc396f553997"
      },
      "outputs": [
        {
          "output_type": "stream",
          "name": "stdout",
          "text": [
            "There are 274 smokers and 1064 non-smokers.\n"
          ]
        }
      ],
      "source": [
        "# select smokers\n",
        "smokers = data[data['smoker']=='yes']\n",
        "# select non smokers\n",
        "non_smokers = data[data['smoker']=='no']\n",
        "\n",
        "print('There are {} smokers and {} non-smokers.'.format(smokers.shape[0], non_smokers.shape[0]))"
      ]
    },
    {
      "cell_type": "markdown",
      "metadata": {
        "id": "ubd9V3ulRbqY"
      },
      "source": [
        "From these results it is clear that we have an imbalance in our dataset that we will try to resolve later."
      ]
    },
    {
      "cell_type": "markdown",
      "metadata": {
        "id": "knOEySxYaOwJ"
      },
      "source": [
        "### Exploratory Data Analysis"
      ]
    },
    {
      "cell_type": "markdown",
      "metadata": {
        "id": "yzGzI6TbaSbB"
      },
      "source": [
        "Let's start by seeing how much each feature tells us about a person being  a smoker or not, and tell about the most significant feature (just write the name of that feature as it appears in the dataset)"
      ]
    },
    {
      "cell_type": "code",
      "execution_count": null,
      "metadata": {
        "id": "albiV9oTXWye",
        "tags": [],
        "colab": {
          "base_uri": "https://localhost:8080/",
          "height": 1000
        },
        "outputId": "3677e69f-37b5-4ad6-f69c-8d131eb433f6"
      },
      "outputs": [
        {
          "output_type": "display_data",
          "data": {
            "text/plain": [
              "<Figure size 720x1440 with 8 Axes>"
            ],
            "image/png": "[encoded data removed]"
          },
          "metadata": {
            "needs_background": "light"
          }
        }
      ],
      "source": [
        "import seaborn as sns\n",
        "numerical_features = [\"age\",\"bmi\",\"charges\",\"children\"]\n",
        "subplot_number = 421\n",
        "\n",
        "# Plot each feature for smokers and non-smokers\n",
        "fig, axs = plt.subplots(nrows=4, ncols=2, figsize=(10, 20))\n",
        "\n",
        "sns.violinplot(x=smokers['age'], ax=axs[0,0])\n",
        "sns.violinplot(x=non_smokers['age'], ax=axs[0,1])\n",
        "\n",
        "sns.violinplot(x=smokers['bmi'], ax=axs[1,0])\n",
        "sns.violinplot(x=non_smokers['bmi'], ax=axs[1,1])\n",
        "\n",
        "sns.violinplot(x=smokers['charges'], ax=axs[2,0])\n",
        "sns.violinplot(x=non_smokers['charges'], ax=axs[2,1])\n",
        "\n",
        "sns.violinplot(x=smokers['children'], ax=axs[3,0])\n",
        "sns.violinplot(x=non_smokers['children'], ax=axs[3,1])\n",
        "\n",
        "axs[0,0].set_title('Age - Smokers')\n",
        "axs[0,1].set_title('Age - Non-smokers')\n",
        "\n",
        "axs[1,0].set_title('BMI - Smokers')\n",
        "axs[1,1].set_title('BMI - Non-smokers')\n",
        "\n",
        "axs[2,0].set_title('Charges - Smokers')\n",
        "axs[2,1].set_title('Charges - Non-smokers')\n",
        "\n",
        "axs[3,0].set_title('Children - Smokers')\n",
        "axs[3,1].set_title('Children - Non-smokers')\n",
        "\n",
        "plt.tight_layout()\n",
        "plt.show()"
      ]
    },
    {
      "cell_type": "code",
      "execution_count": null,
      "metadata": {
        "id": "kEbGEs0QDKHD",
        "tags": []
      },
      "outputs": [],
      "source": [
        "most_significant_feature = \"charges\""
      ]
    },
    {
      "cell_type": "markdown",
      "metadata": {
        "id": "5gjS7Ss5aji3"
      },
      "source": [
        "Now let's see if the gender influences being a smoker or not.\n",
        "To do so, perform crosstabbing between gender and smoker. Plot the results of the crosstab, and check who smokes more (simply type: male, female, or none)\n"
      ]
    },
    {
      "cell_type": "code",
      "execution_count": null,
      "metadata": {
        "id": "defv0Lx4aqDy",
        "tags": [],
        "colab": {
          "base_uri": "https://localhost:8080/",
          "height": 392
        },
        "outputId": "122b7bbd-9a52-4453-9478-694d4f7fbcb4"
      },
      "outputs": [
        {
          "output_type": "stream",
          "name": "stdout",
          "text": [
            "smoker   no  yes\n",
            "sex             \n",
            "female  547  115\n",
            "male    517  159\n"
          ]
        },
        {
          "output_type": "execute_result",
          "data": {
            "text/plain": [
              "<matplotlib.axes._subplots.AxesSubplot at 0x7f64d4533280>"
            ]
          },
          "metadata": {},
          "execution_count": 16
        },
        {
          "output_type": "display_data",
          "data": {
            "text/plain": [
              "<Figure size 432x288 with 1 Axes>"
            ],
            "image/png": "[encoded data removed]"
          },
          "metadata": {
            "needs_background": "light"
          }
        }
      ],
      "source": [
        "Gender = pd.crosstab(index=data['sex'], columns=data[\"smoker\"])\n",
        "print(Gender)\n",
        "Gender.plot(kind='bar', stacked=True)"
      ]
    },
    {
      "cell_type": "code",
      "execution_count": null,
      "metadata": {
        "id": "ZbIczUl5D9pu",
        "tags": []
      },
      "outputs": [],
      "source": [
        "gender_that_smokes_more = \"male\""
      ]
    },
    {
      "cell_type": "markdown",
      "metadata": {
        "id": "NkfHKg_GR_ti"
      },
      "source": [
        "Do the same for the region and tell which region has the most smokers (answer by the type of region, or simply answe none)"
      ]
    },
    {
      "cell_type": "code",
      "execution_count": null,
      "metadata": {
        "id": "RteNFVg-b-lj",
        "tags": [],
        "colab": {
          "base_uri": "https://localhost:8080/",
          "height": 443
        },
        "outputId": "de2720a5-afca-4d48-978b-627b1b6a87d1"
      },
      "outputs": [
        {
          "output_type": "stream",
          "name": "stdout",
          "text": [
            "smoker      no  yes\n",
            "region             \n",
            "northeast  257   67\n",
            "northwest  267   58\n",
            "southeast  273   91\n",
            "southwest  267   58\n"
          ]
        },
        {
          "output_type": "execute_result",
          "data": {
            "text/plain": [
              "<matplotlib.axes._subplots.AxesSubplot at 0x7f64d450b850>"
            ]
          },
          "metadata": {},
          "execution_count": 18
        },
        {
          "output_type": "display_data",
          "data": {
            "text/plain": [
              "<Figure size 432x288 with 1 Axes>"
            ],
            "image/png": "[encoded data removed]"
          },
          "metadata": {
            "needs_background": "light"
          }
        }
      ],
      "source": [
        "Region = pd.crosstab(index=data['region'], columns=data[\"smoker\"])\n",
        "print(Region)\n",
        "Region.plot(kind='bar', stacked=True)"
      ]
    },
    {
      "cell_type": "code",
      "execution_count": null,
      "metadata": {
        "id": "MLUCoyxoEg81",
        "tags": []
      },
      "outputs": [],
      "source": [
        "region_with_most_smokers = 'southeast'"
      ]
    },
    {
      "cell_type": "markdown",
      "metadata": {
        "id": "xYAQ7S3M3vC0"
      },
      "source": [
        "Also here we have a slight difference."
      ]
    },
    {
      "cell_type": "markdown",
      "metadata": {
        "id": "g3X3fDBXnX16"
      },
      "source": [
        "## 3. Data Preprocessing\n",
        "\"Garbage in, garbage out\".\n",
        "\n",
        "Data should be preprocessed and cleaned to get rid of noisy data.\n",
        "Preprocessing includes:\n",
        " - dealing with missing data\n",
        "   - remove whole rows (if they are not a lot)\n",
        "   - infer (e.g., date of birth & age)\n",
        "   - fill with mean, median, or even 0\n",
        " - removing unsued column(s)\n",
        " - convert categorical (non numerical) data into numerical\n",
        " - normalization: standarize data ranges for all features (e.g., between 0 and 1)\n",
        "\n",
        "\n",
        "\n",
        "---\n",
        "\n",
        "\n",
        "\n"
      ]
    },
    {
      "cell_type": "markdown",
      "metadata": {
        "id": "zfzt6JhbR_ti"
      },
      "source": [
        " Let's start by removing missing data."
      ]
    },
    {
      "cell_type": "code",
      "execution_count": null,
      "metadata": {
        "id": "ZXvduiy1nckz",
        "tags": []
      },
      "outputs": [],
      "source": [
        "data_no_nulls = data.dropna()"
      ]
    },
    {
      "cell_type": "markdown",
      "metadata": {
        "id": "VGcXlEP6ryIZ"
      },
      "source": [
        "#### Convert Categorical columns to numerical\n",
        "\n",
        "*   We need to convert the sex column from male/female to 0/1.\n",
        "*   We need to convert the smoker column from no/yes to 0/1.\n",
        "*   We need to convert the region column from (northeast, northwest, etc.) to 0,1,2,etc.\n",
        "\n",
        "**Use the data_no_nulls dataframe**\n",
        "\n",
        "Start with the 'sex' column\n",
        "\n"
      ]
    },
    {
      "cell_type": "code",
      "source": [
        "le = LabelEncoder()"
      ],
      "metadata": {
        "id": "q7M2kTjQDwzb"
      },
      "execution_count": null,
      "outputs": []
    },
    {
      "cell_type": "code",
      "execution_count": null,
      "metadata": {
        "id": "cpEbrz7HnfuY",
        "tags": []
      },
      "outputs": [],
      "source": [
        "data_no_nulls['sex'] = le.fit_transform(data_no_nulls['sex'])"
      ]
    },
    {
      "cell_type": "markdown",
      "metadata": {
        "id": "AuX-fpHesgmi"
      },
      "source": [
        "And now the smokers column"
      ]
    },
    {
      "cell_type": "code",
      "execution_count": null,
      "metadata": {
        "id": "LfU8gCe7sCDS",
        "tags": []
      },
      "outputs": [],
      "source": [
        "data_no_nulls['smoker'] = le.fit_transform(data_no_nulls['smoker'])"
      ]
    },
    {
      "cell_type": "markdown",
      "metadata": {
        "id": "7ovM89R-eYCi"
      },
      "source": [
        "And now the Region Column"
      ]
    },
    {
      "cell_type": "code",
      "execution_count": null,
      "metadata": {
        "id": "Ug0gruFnebxI",
        "tags": []
      },
      "outputs": [],
      "source": [
        "data_no_nulls['region'] = le.fit_transform(data_no_nulls['region'])"
      ]
    },
    {
      "cell_type": "markdown",
      "metadata": {
        "id": "uwfqKXYftiS-"
      },
      "source": [
        "#### Normalization\n",
        "\n",
        "Let's scale all the columns by dividing by the maximum and saving the result in **final_df**"
      ]
    },
    {
      "cell_type": "code",
      "execution_count": null,
      "metadata": {
        "id": "oOxtgIjhu36f",
        "tags": [],
        "colab": {
          "base_uri": "https://localhost:8080/",
          "height": 300
        },
        "outputId": "2800d6e3-24e3-4278-c3a3-acfc2cd5237f"
      },
      "outputs": [
        {
          "output_type": "execute_result",
          "data": {
            "text/plain": [
              "               age          sex          bmi     children       smoker  \\\n",
              "count  1335.000000  1335.000000  1335.000000  1335.000000  1335.000000   \n",
              "mean      0.612441     0.504869     0.577102     0.219476     0.205243   \n",
              "std       0.219491     0.500164     0.114832     0.241145     0.404031   \n",
              "min       0.281250     0.000000     0.300395     0.000000     0.000000   \n",
              "25%       0.421875     0.000000     0.495059     0.000000     0.000000   \n",
              "50%       0.609375     1.000000     0.572181     0.200000     0.000000   \n",
              "75%       0.796875     1.000000     0.652880     0.400000     0.000000   \n",
              "max       1.000000     1.000000     1.000000     1.000000     1.000000   \n",
              "\n",
              "            region      charges  \n",
              "count  1335.000000  1335.000000  \n",
              "mean      0.504619     0.208299  \n",
              "std       0.368180     0.190041  \n",
              "min       0.000000     0.017592  \n",
              "25%       0.333333     0.074365  \n",
              "50%       0.666667     0.147187  \n",
              "75%       0.666667     0.262144  \n",
              "max       1.000000     1.000000  "
            ],
            "text/html": [
              "\n",
              "  <div id=\"df-ae29ef6f-e3d4-4d91-8011-0e223edeae0d\">\n",
              "    <div class=\"colab-df-container\">\n",
              "      <div>\n",
              "<style scoped>\n",
              "    .dataframe tbody tr th:only-of-type {\n",
              "        vertical-align: middle;\n",
              "    }\n",
              "\n",
              "    .dataframe tbody tr th {\n",
              "        vertical-align: top;\n",
              "    }\n",
              "\n",
              "    .dataframe thead th {\n",
              "        text-align: right;\n",
              "    }\n",
              "</style>\n",
              "<table border=\"1\" class=\"dataframe\">\n",
              "  <thead>\n",
              "    <tr style=\"text-align: right;\">\n",
              "      <th></th>\n",
              "      <th>age</th>\n",
              "      <th>sex</th>\n",
              "      <th>bmi</th>\n",
              "      <th>children</th>\n",
              "      <th>smoker</th>\n",
              "      <th>region</th>\n",
              "      <th>charges</th>\n",
              "    </tr>\n",
              "  </thead>\n",
              "  <tbody>\n",
              "    <tr>\n",
              "      <th>count</th>\n",
              "      <td>1335.000000</td>\n",
              "      <td>1335.000000</td>\n",
              "      <td>1335.000000</td>\n",
              "      <td>1335.000000</td>\n",
              "      <td>1335.000000</td>\n",
              "      <td>1335.000000</td>\n",
              "      <td>1335.000000</td>\n",
              "    </tr>\n",
              "    <tr>\n",
              "      <th>mean</th>\n",
              "      <td>0.612441</td>\n",
              "      <td>0.504869</td>\n",
              "      <td>0.577102</td>\n",
              "      <td>0.219476</td>\n",
              "      <td>0.205243</td>\n",
              "      <td>0.504619</td>\n",
              "      <td>0.208299</td>\n",
              "    </tr>\n",
              "    <tr>\n",
              "      <th>std</th>\n",
              "      <td>0.219491</td>\n",
              "      <td>0.500164</td>\n",
              "      <td>0.114832</td>\n",
              "      <td>0.241145</td>\n",
              "      <td>0.404031</td>\n",
              "      <td>0.368180</td>\n",
              "      <td>0.190041</td>\n",
              "    </tr>\n",
              "    <tr>\n",
              "      <th>min</th>\n",
              "      <td>0.281250</td>\n",
              "      <td>0.000000</td>\n",
              "      <td>0.300395</td>\n",
              "      <td>0.000000</td>\n",
              "      <td>0.000000</td>\n",
              "      <td>0.000000</td>\n",
              "      <td>0.017592</td>\n",
              "    </tr>\n",
              "    <tr>\n",
              "      <th>25%</th>\n",
              "      <td>0.421875</td>\n",
              "      <td>0.000000</td>\n",
              "      <td>0.495059</td>\n",
              "      <td>0.000000</td>\n",
              "      <td>0.000000</td>\n",
              "      <td>0.333333</td>\n",
              "      <td>0.074365</td>\n",
              "    </tr>\n",
              "    <tr>\n",
              "      <th>50%</th>\n",
              "      <td>0.609375</td>\n",
              "      <td>1.000000</td>\n",
              "      <td>0.572181</td>\n",
              "      <td>0.200000</td>\n",
              "      <td>0.000000</td>\n",
              "      <td>0.666667</td>\n",
              "      <td>0.147187</td>\n",
              "    </tr>\n",
              "    <tr>\n",
              "      <th>75%</th>\n",
              "      <td>0.796875</td>\n",
              "      <td>1.000000</td>\n",
              "      <td>0.652880</td>\n",
              "      <td>0.400000</td>\n",
              "      <td>0.000000</td>\n",
              "      <td>0.666667</td>\n",
              "      <td>0.262144</td>\n",
              "    </tr>\n",
              "    <tr>\n",
              "      <th>max</th>\n",
              "      <td>1.000000</td>\n",
              "      <td>1.000000</td>\n",
              "      <td>1.000000</td>\n",
              "      <td>1.000000</td>\n",
              "      <td>1.000000</td>\n",
              "      <td>1.000000</td>\n",
              "      <td>1.000000</td>\n",
              "    </tr>\n",
              "  </tbody>\n",
              "</table>\n",
              "</div>\n",
              "      <button class=\"colab-df-convert\" onclick=\"convertToInteractive('df-ae29ef6f-e3d4-4d91-8011-0e223edeae0d')\"\n",
              "              title=\"Convert this dataframe to an interactive table.\"\n",
              "              style=\"display:none;\">\n",
              "        \n",
              "  <svg xmlns=\"http://www.w3.org/2000/svg\" height=\"24px\"viewBox=\"0 0 24 24\"\n",
              "       width=\"24px\">\n",
              "    <path d=\"M0 0h24v24H0V0z\" fill=\"none\"/>\n",
              "    <path d=\"M18.56 5.44l.94 2.06.94-2.06 2.06-.94-2.06-.94-.94-2.06-.94 2.06-2.06.94zm-11 1L8.5 8.5l.94-2.06 2.06-.94-2.06-.94L8.5 2.5l-.94 2.06-2.06.94zm10 10l.94 2.06.94-2.06 2.06-.94-2.06-.94-.94-2.06-.94 2.06-2.06.94z\"/><path d=\"M17.41 7.96l-1.37-1.37c-.4-.4-.92-.59-1.43-.59-.52 0-1.04.2-1.43.59L10.3 9.45l-7.72 7.72c-.78.78-.78 2.05 0 2.83L4 21.41c.39.39.9.59 1.41.59.51 0 1.02-.2 1.41-.59l7.78-7.78 2.81-2.81c.8-.78.8-2.07 0-2.86zM5.41 20L4 18.59l7.72-7.72 1.47 1.35L5.41 20z\"/>\n",
              "  </svg>\n",
              "      </button>\n",
              "      \n",
              "  <style>\n",
              "    .colab-df-container {\n",
              "      display:flex;\n",
              "      flex-wrap:wrap;\n",
              "      gap: 12px;\n",
              "    }\n",
              "\n",
              "    .colab-df-convert {\n",
              "      background-color: #E8F0FE;\n",
              "      border: none;\n",
              "      border-radius: 50%;\n",
              "      cursor: pointer;\n",
              "      display: none;\n",
              "      fill: #1967D2;\n",
              "      height: 32px;\n",
              "      padding: 0 0 0 0;\n",
              "      width: 32px;\n",
              "    }\n",
              "\n",
              "    .colab-df-convert:hover {\n",
              "      background-color: #E2EBFA;\n",
              "      box-shadow: 0px 1px 2px rgba(60, 64, 67, 0.3), 0px 1px 3px 1px rgba(60, 64, 67, 0.15);\n",
              "      fill: #174EA6;\n",
              "    }\n",
              "\n",
              "    [theme=dark] .colab-df-convert {\n",
              "      background-color: #3B4455;\n",
              "      fill: #D2E3FC;\n",
              "    }\n",
              "\n",
              "    [theme=dark] .colab-df-convert:hover {\n",
              "      background-color: #434B5C;\n",
              "      box-shadow: 0px 1px 3px 1px rgba(0, 0, 0, 0.15);\n",
              "      filter: drop-shadow(0px 1px 2px rgba(0, 0, 0, 0.3));\n",
              "      fill: #FFFFFF;\n",
              "    }\n",
              "  </style>\n",
              "\n",
              "      <script>\n",
              "        const buttonEl =\n",
              "          document.querySelector('#df-ae29ef6f-e3d4-4d91-8011-0e223edeae0d button.colab-df-convert');\n",
              "        buttonEl.style.display =\n",
              "          google.colab.kernel.accessAllowed ? 'block' : 'none';\n",
              "\n",
              "        async function convertToInteractive(key) {\n",
              "          const element = document.querySelector('#df-ae29ef6f-e3d4-4d91-8011-0e223edeae0d');\n",
              "          const dataTable =\n",
              "            await google.colab.kernel.invokeFunction('convertToInteractive',\n",
              "                                                     [key], {});\n",
              "          if (!dataTable) return;\n",
              "\n",
              "          const docLinkHtml = 'Like what you see? Visit the ' +\n",
              "            '<a target=\"_blank\" href=https://colab.research.google.com/notebooks/data_table.ipynb>data table notebook</a>'\n",
              "            + ' to learn more about interactive tables.';\n",
              "          element.innerHTML = '';\n",
              "          dataTable['output_type'] = 'display_data';\n",
              "          await google.colab.output.renderOutput(dataTable, element);\n",
              "          const docLink = document.createElement('div');\n",
              "          docLink.innerHTML = docLinkHtml;\n",
              "          element.appendChild(docLink);\n",
              "        }\n",
              "      </script>\n",
              "    </div>\n",
              "  </div>\n",
              "  "
            ]
          },
          "metadata": {},
          "execution_count": 25
        }
      ],
      "source": [
        "final_df = data_no_nulls / np.max(data_no_nulls, axis=0)\n",
        "final_df.describe()"
      ]
    },
    {
      "cell_type": "markdown",
      "metadata": {
        "id": "nwQPUuGy8vmw"
      },
      "source": [
        "## 4. Model Training & Testing\n",
        "\n"
      ]
    },
    {
      "cell_type": "markdown",
      "metadata": {
        "id": "LTNYhHSpHezL"
      },
      "source": [
        "#### Data splits\n",
        "\n",
        "Before training, we need to split data into training (80%) & testing (20%) with random state of 42"
      ]
    },
    {
      "cell_type": "code",
      "execution_count": null,
      "metadata": {
        "id": "5n3DqBUG892K",
        "tags": [],
        "colab": {
          "base_uri": "https://localhost:8080/"
        },
        "outputId": "a6aa3ceb-2326-4654-962e-ef9af6a287e6"
      },
      "outputs": [
        {
          "output_type": "stream",
          "name": "stdout",
          "text": [
            "(1068, 6) (1068,)\n",
            "(267, 6) (267,)\n"
          ]
        }
      ],
      "source": [
        "from sklearn.model_selection import train_test_split\n",
        "\n",
        "X = final_df.drop(columns = \"smoker\",axis=1)\n",
        "\n",
        "y = final_df['smoker']\n",
        "\n",
        "# split dataset in a 80/20 split with random state of 42\n",
        "x_train, x_test, y_train, y_test = train_test_split(X , y , test_size=0.2 , random_state= 42 )\n",
        "\n",
        "print(x_train.shape, y_train.shape)\n",
        "print(x_test.shape, y_test.shape)"
      ]
    },
    {
      "cell_type": "markdown",
      "metadata": {
        "id": "7dPqqZiT97Eg"
      },
      "source": [
        "#### Logistic Regression Modeling\n"
      ]
    },
    {
      "cell_type": "markdown",
      "metadata": {
        "id": "YXn7CaFYR_tk"
      },
      "source": [
        "Create a logistic regression model named *model_1* and train it on the *x_train_1* and *y_train_1*"
      ]
    },
    {
      "cell_type": "code",
      "execution_count": null,
      "metadata": {
        "id": "CYUD8wNF9bm3",
        "tags": [],
        "colab": {
          "base_uri": "https://localhost:8080/"
        },
        "outputId": "ef9112e8-324a-463e-f936-6a384e848f3f"
      },
      "outputs": [
        {
          "output_type": "execute_result",
          "data": {
            "text/plain": [
              "LogisticRegression()"
            ]
          },
          "metadata": {},
          "execution_count": 27
        }
      ],
      "source": [
        "from sklearn.linear_model import LogisticRegression\n",
        "# define our logistic regression model\n",
        "model_1 = LogisticRegression()\n",
        "# train our model\n",
        "model_1.fit(x_train,y_train)"
      ]
    },
    {
      "cell_type": "markdown",
      "metadata": {
        "id": "8KIBXHUKHijy"
      },
      "source": [
        "#### Evaluation\n",
        "Compute accuracy, precision and recall for the model on the test set."
      ]
    },
    {
      "cell_type": "code",
      "execution_count": null,
      "metadata": {
        "id": "jEhqbtbCHmg8",
        "tags": [],
        "colab": {
          "base_uri": "https://localhost:8080/"
        },
        "outputId": "db0a0155-7fb3-4551-f056-af9e8d3f1e47"
      },
      "outputs": [
        {
          "output_type": "stream",
          "name": "stdout",
          "text": [
            "Accuracy: 0.898876404494382 \n",
            "Precision: 0.9523809523809523 \n",
            "Recall: 0.6153846153846154 \n",
            "F1 Score: 0.7476635514018692\n"
          ]
        }
      ],
      "source": [
        "from sklearn.metrics import accuracy_score, precision_score, recall_score, f1_score\n",
        "\n",
        "y_pred_1 = model_1.predict(x_test)\n",
        "\n",
        "\n",
        "accuracy_model_1 = accuracy_score(y_test, y_pred_1)\n",
        "precision_model_1 = precision_score(y_test, y_pred_1)\n",
        "recall_model_1 = recall_score(y_test, y_pred_1)\n",
        "f1_score_model_1 = f1_score(y_test, y_pred_1)\n",
        "\n",
        "print(\"Accuracy:\", accuracy_model_1,\n",
        "      \"\\nPrecision:\",precision_model_1,\n",
        "      \"\\nRecall:\", recall_model_1,\n",
        "      \"\\nF1 Score:\", f1_score_model_1)"
      ]
    },
    {
      "cell_type": "markdown",
      "metadata": {
        "id": "HTuXCuF4kJKX"
      },
      "source": [
        "We can see that the recall, and the f1 score can be improved."
      ]
    },
    {
      "cell_type": "markdown",
      "metadata": {
        "id": "GvDITkSAj1GI"
      },
      "source": [
        "## 5. Model Improvement"
      ]
    },
    {
      "cell_type": "markdown",
      "metadata": {
        "id": "kEQegNwxkE4t"
      },
      "source": [
        "Now we will try to improve the model that we built."
      ]
    },
    {
      "cell_type": "markdown",
      "metadata": {
        "id": "muAmLM-Hmpv0"
      },
      "source": [
        "#### Handle data Imbalance"
      ]
    },
    {
      "cell_type": "markdown",
      "metadata": {
        "id": "9MzV8OJ5m03J"
      },
      "source": [
        "1. Plot a bar plot for the smoker column.\n",
        "\n",
        "2. We can see that we have a clearly imbalanced dataset. To handle it, we choose to do 2 steps:\n",
        "* Oversampling the minority class with a factor of 0.5\n",
        "* Undersampling the majority class to obtain the same number in the 2 classes\n",
        "<br>\n",
        "We do that by using the RandomOverSaampler and RandomUnderSampler from the imblearn library.\n",
        "\n",
        "3. Plot a bar plot for the smoker column after balancing"
      ]
    },
    {
      "cell_type": "code",
      "execution_count": null,
      "metadata": {
        "id": "1KMyylha2Y-g",
        "tags": [],
        "colab": {
          "base_uri": "https://localhost:8080/",
          "height": 288
        },
        "outputId": "6173e206-d8cc-4032-d129-0c61e76d56b8"
      },
      "outputs": [
        {
          "output_type": "execute_result",
          "data": {
            "text/plain": [
              "<matplotlib.axes._subplots.AxesSubplot at 0x7f64d43c9850>"
            ]
          },
          "metadata": {},
          "execution_count": 30
        },
        {
          "output_type": "display_data",
          "data": {
            "text/plain": [
              "<Figure size 432x288 with 1 Axes>"
            ],
            "image/png": "[encoded data removed]"
          },
          "metadata": {
            "needs_background": "light"
          }
        }
      ],
      "source": [
        "final_df['smoker'].value_counts().plot(kind='bar')"
      ]
    },
    {
      "cell_type": "code",
      "execution_count": null,
      "metadata": {
        "id": "9-ZRF4gMnjuf",
        "tags": []
      },
      "outputs": [],
      "source": [
        "from imblearn.over_sampling import RandomOverSampler\n",
        "from imblearn.under_sampling import RandomUnderSampler\n",
        "\n",
        "oversampler = RandomOverSampler(sampling_strategy=0.5)\n",
        "undersampler = RandomUnderSampler()\n",
        "\n",
        "X_resampled, y_resampled = oversampler.fit_resample(x_train, y_train)\n",
        "x_new, y_new =  undersampler.fit_resample(X_resampled, y_resampled)"
      ]
    },
    {
      "cell_type": "code",
      "execution_count": null,
      "metadata": {
        "id": "WjVUHgi_ou-g",
        "tags": [],
        "colab": {
          "base_uri": "https://localhost:8080/",
          "height": 288
        },
        "outputId": "ad8436b7-4fd9-4712-aba2-1090ff4293c3"
      },
      "outputs": [
        {
          "output_type": "execute_result",
          "data": {
            "text/plain": [
              "<matplotlib.axes._subplots.AxesSubplot at 0x7f64cf90dc70>"
            ]
          },
          "metadata": {},
          "execution_count": 32
        },
        {
          "output_type": "display_data",
          "data": {
            "text/plain": [
              "<Figure size 432x288 with 1 Axes>"
            ],
            "image/png": "[encoded data removed]"
          },
          "metadata": {
            "needs_background": "light"
          }
        }
      ],
      "source": [
        "y_new.value_counts().plot(kind='bar')"
      ]
    },
    {
      "cell_type": "markdown",
      "metadata": {
        "id": "p371dd97R_tn"
      },
      "source": [
        "Train the model on the balanced dataset. Don't forget to split between training and testing. Also use a random state of 42"
      ]
    },
    {
      "cell_type": "code",
      "execution_count": null,
      "metadata": {
        "id": "Z_z-8P_io7GK",
        "tags": [],
        "colab": {
          "base_uri": "https://localhost:8080/"
        },
        "outputId": "d66bd19e-7c9d-4cf1-e35e-49351d0446e8"
      },
      "outputs": [
        {
          "output_type": "execute_result",
          "data": {
            "text/plain": [
              "LogisticRegression()"
            ]
          },
          "metadata": {},
          "execution_count": 33
        }
      ],
      "source": [
        "model_1.fit(x_new,y_new)"
      ]
    },
    {
      "cell_type": "markdown",
      "metadata": {
        "id": "N_W1MR7fR_tn"
      },
      "source": [
        "Evaluate the model on the test set"
      ]
    },
    {
      "cell_type": "code",
      "execution_count": null,
      "metadata": {
        "id": "q6pV29t-pcFm",
        "tags": [],
        "colab": {
          "base_uri": "https://localhost:8080/"
        },
        "outputId": "1990baa8-4e2e-4726-debb-f29f9b5c6d56"
      },
      "outputs": [
        {
          "output_type": "stream",
          "name": "stdout",
          "text": [
            "Accuracy: 0.9700374531835206 \n",
            "Precision: 0.8904109589041096 \n",
            "Recall: 1.0 \n",
            "F1 Score: 0.9420289855072463\n"
          ]
        }
      ],
      "source": [
        "from sklearn.metrics import accuracy_score, precision_score, recall_score, f1_score\n",
        "y_pred = model_1.predict(x_test)\n",
        "\n",
        "accuracy_model_2 = accuracy_score(y_test,y_pred)\n",
        "precision_model_2 = precision_score(y_test,y_pred)\n",
        "recall_model_2 = recall_score(y_test,y_pred)\n",
        "f1_score_model_2 = f1_score(y_test,y_pred)\n",
        "\n",
        "print(\"Accuracy:\", accuracy_model_2,\n",
        "      \"\\nPrecision:\",precision_model_2,\n",
        "      \"\\nRecall:\", recall_model_2,\n",
        "      \"\\nF1 Score:\", f1_score_model_2)"
      ]
    },
    {
      "cell_type": "markdown",
      "metadata": {
        "id": "yDP6PNQUtzJZ"
      },
      "source": [
        "We can see how much our scores got better when we balanced our dataset."
      ]
    },
    {
      "cell_type": "markdown",
      "metadata": {
        "id": "0kIR_0OOuehK"
      },
      "source": [
        "#### Regularization with Hyperparameter Tuning"
      ]
    },
    {
      "cell_type": "markdown",
      "metadata": {
        "id": "r4JMLSS4uj-y"
      },
      "source": [
        "We will be tuning the hyperparameter C in the logistic regression model that we used. This hyperparameter represents regularization.\n",
        "<br><img src=\"https://equatio-api.texthelp.com/svg/C%5C%20%3D%5C%20%5Cfrac%7B1%7D%7B%5Clambda%7D\" alt=\"C equals 1 over lamda\">"
      ]
    },
    {
      "cell_type": "markdown",
      "metadata": {
        "id": "r46K-FU-0_N2"
      },
      "source": [
        "We will also know have to decide what type of regularization we will use: L1, or L2.\n",
        "\n",
        "Since we have several parameters to tune, we will be doing what we call a GridSearch, to search for the best model having the best pair of hyperparameters."
      ]
    },
    {
      "cell_type": "code",
      "execution_count": null,
      "metadata": {
        "id": "Jp_8fVD6u9YC",
        "tags": [],
        "colab": {
          "base_uri": "https://localhost:8080/"
        },
        "outputId": "1d2073d5-f57b-4a50-af66-85a739be1145"
      },
      "outputs": [
        {
          "output_type": "stream",
          "name": "stdout",
          "text": [
            "Mean Accuracy: 0.944\n",
            "Config: {'C': 100, 'penalty': 'l1'}\n"
          ]
        }
      ],
      "source": [
        "from sklearn.model_selection import GridSearchCV\n",
        "#Create a logistic regression model named LR and choose the liblinear solver because it supports the L1 regularization\n",
        "LR = LogisticRegression(solver='liblinear')\n",
        "\n",
        "# Define the hyperparameter grid\n",
        "LRparam_grid = {'penalty': ['l1', 'l2'], 'C': [0.001, 0.01, 0.1, 1, 10, 100, 1000]}\n",
        "\n",
        "# Create the GridSearch object\n",
        "LR_search = GridSearchCV(LR, LRparam_grid, cv=5)\n",
        "\n",
        "# fitting the model for grid search. Use x_train_2 and y_train_2\n",
        "LR_search.fit(x_train, y_train)\n",
        "\n",
        "# summarize\n",
        "print('Mean Accuracy: %.3f' % LR_search.best_score_)\n",
        "print('Config: %s' % LR_search.best_params_)"
      ]
    },
    {
      "cell_type": "markdown",
      "metadata": {
        "id": "MxNQ-THDuZK8"
      },
      "source": [
        "We're seeing in the results, for each combination of hyperparameters how good the model is performing."
      ]
    },
    {
      "cell_type": "markdown",
      "metadata": {
        "id": "ledU43xMviNL"
      },
      "source": [
        "Let's assess the model's performance in general for those specified hyperparameters."
      ]
    },
    {
      "cell_type": "code",
      "execution_count": null,
      "metadata": {
        "id": "1mwc0KjxvoZe",
        "tags": [],
        "colab": {
          "base_uri": "https://localhost:8080/"
        },
        "outputId": "23a1588f-559a-470a-cec5-f31769256ead"
      },
      "outputs": [
        {
          "output_type": "stream",
          "name": "stdout",
          "text": [
            "Accuracy: 0.8951310861423221 \n",
            "Precision: 0.9302325581395349 \n",
            "Recall: 0.6153846153846154 \n",
            "F1 Score: 0.7407407407407407\n"
          ]
        }
      ],
      "source": [
        "from sklearn.metrics import accuracy_score, precision_score, recall_score, f1_score\n",
        "LR = LogisticRegression(solver='liblinear', penalty='l1', C=0.1)\n",
        "LR.fit(x_train, y_train)\n",
        "\n",
        "y_pred = LR.predict(x_test)\n",
        "\n",
        "accuracy_model_3 = accuracy_score(y_test,y_pred)\n",
        "precision_model_3 = precision_score(y_test,y_pred)\n",
        "recall_model_3 = recall_score(y_test,y_pred)\n",
        "f1_score_model_3 = f1_score(y_test,y_pred)\n",
        "\n",
        "print(\"Accuracy:\", accuracy_model_3,\n",
        "      \"\\nPrecision:\",precision_model_3,\n",
        "      \"\\nRecall:\", recall_model_3,\n",
        "      \"\\nF1 Score:\", f1_score_model_3)"
      ]
    },
    {
      "cell_type": "markdown",
      "metadata": {
        "id": "wwHhYH8zzcdt"
      },
      "source": [
        "We can see that the results improved compared to the last model we built."
      ]
    },
    {
      "cell_type": "markdown",
      "metadata": {
        "id": "Q4BLDv8hsAyM"
      },
      "source": [
        "#### AdaBoost Classifier"
      ]
    },
    {
      "cell_type": "markdown",
      "metadata": {
        "id": "YFX7ljdRzruM"
      },
      "source": [
        "Now, we will work on improving our model, but this time through using ensemble methods, and what we will use for today is Adaboost.\n",
        "\n",
        "AdaBoost is a boosting ensemble method that relies on the boosting concepts that we learned about during the week.\n",
        "In Adaboost, each model is learning to correct the previous model's mistakes (misclassified examples). After that, each model will have a weight that depends on how well he performed on the training data. And after that, different results are aggregated based on weighted averaging."
      ]
    },
    {
      "cell_type": "markdown",
      "metadata": {
        "id": "VtCy6BQ7R_tq"
      },
      "source": [
        "Build an adaboost model with 10 estimators and train it on the balanced dataset."
      ]
    },
    {
      "cell_type": "code",
      "execution_count": null,
      "metadata": {
        "id": "xozI_6NvqWHu",
        "tags": [],
        "colab": {
          "base_uri": "https://localhost:8080/"
        },
        "outputId": "6e2935aa-a3c9-4749-e5c2-322bc27d4fcd"
      },
      "outputs": [
        {
          "output_type": "execute_result",
          "data": {
            "text/plain": [
              "AdaBoostClassifier(n_estimators=10)"
            ]
          },
          "metadata": {},
          "execution_count": 38
        }
      ],
      "source": [
        "from sklearn.ensemble import AdaBoostClassifier\n",
        "clf = AdaBoostClassifier(n_estimators=10)\n",
        "clf.fit(x_train, y_train)"
      ]
    },
    {
      "cell_type": "markdown",
      "metadata": {
        "id": "ZjF_CyDkR_tq"
      },
      "source": [
        "Evaluate the model on the test set"
      ]
    },
    {
      "cell_type": "code",
      "execution_count": null,
      "metadata": {
        "id": "V2EhqVjWsHfY",
        "tags": [],
        "colab": {
          "base_uri": "https://localhost:8080/"
        },
        "outputId": "146a0c43-c28d-4348-aa18-e0642d068b58"
      },
      "outputs": [
        {
          "output_type": "stream",
          "name": "stdout",
          "text": [
            "Accuracy: 0.947565543071161 \n",
            "Precision: 0.9473684210526315 \n",
            "Recall: 0.8307692307692308 \n",
            "F1 Score: 0.8852459016393444\n"
          ]
        }
      ],
      "source": [
        "y_pred = clf.predict(x_test)\n",
        "\n",
        "accuracy_model_4 = accuracy_score(y_test, y_pred)\n",
        "precision_model_4 = precision_score(y_test, y_pred)\n",
        "recall_model_4 = recall_score(y_test, y_pred)\n",
        "f1_score_model_4 = f1_score(y_test, y_pred)\n",
        "\n",
        "\n",
        "print(\"Accuracy:\", accuracy_model_4,\n",
        "      \"\\nPrecision:\",precision_model_4,\n",
        "      \"\\nRecall:\", recall_model_4,\n",
        "      \"\\nF1 Score:\", f1_score_model_4)"
      ]
    },
    {
      "cell_type": "markdown",
      "metadata": {
        "deletable": false,
        "editable": false,
        "id": "-nCInxy9R_tq"
      },
      "source": [
        "## Submission\n",
        "\n",
        "Make sure you have run all cells in your notebook in order before running the cell below, so that all images/graphs appear in the output. **Download your notebook as .ipynb file and put it in a zip folder along with the PART A explanation, then upload that folder to the platform**"
      ]
    },
    {
      "cell_type": "markdown",
      "metadata": {
        "id": "zhr6tV1SR_tr"
      },
      "source": [
        ""
      ]
    }
  ],
  "metadata": {
    "colab": {
      "provenance": []
    },
    "kernelspec": {
      "display_name": "Python 3.10.5 64-bit",
      "language": "python",
      "name": "python3"
    },
    "language_info": {
      "codemirror_mode": {
        "name": "ipython",
        "version": 3
      },
      "file_extension": ".py",
      "mimetype": "text/x-python",
      "name": "python",
      "nbconvert_exporter": "python",
      "pygments_lexer": "ipython3",
      "version": "3.10.5"
    },
    "otter": {
      "OK_FORMAT": true,
      "tests": {
        "q0": {
          "name": "q0",
          "points": 5,
          "suites": [
            {
              "cases": [
                {
                  "code": ">>> \"b\" in q1 or \"B\" in q1\nTrue",
                  "hidden": false,
                  "locked": false
                },
                {
                  "code": ">>> len(set([\"a\", \"c\", \"d\", \"e\"]).intersection(set(q1)))==0 and len(set([\"A\", \"C\", \"D\", \"E\"]).intersection(set(q1)))==0\nTrue",
                  "hidden": false,
                  "locked": false
                },
                {
                  "code": ">>> \"d\" in q2 or \"D\" in q2\nTrue",
                  "hidden": false,
                  "locked": false
                },
                {
                  "code": ">>> len(set([\"a\", \"c\", \"b\", \"e\"]).intersection(set(q2)))==0 and len(set([\"A\", \"C\", \"B\", \"E\"]).intersection(set(q2)))==0\nTrue",
                  "hidden": false,
                  "locked": false
                },
                {
                  "code": ">>> \"a\" in q3 or \"A\" in q3\nTrue",
                  "hidden": false,
                  "locked": false
                },
                {
                  "code": ">>> len(set([\"d\", \"c\", \"b\", \"e\"]).intersection(set(q3)))==0 and len(set([\"D\", \"C\", \"B\", \"E\"]).intersection(set(q3)))==0\nTrue",
                  "hidden": false,
                  "locked": false
                },
                {
                  "code": ">>> \"d\" in q4 or \"D\" in q4\nTrue",
                  "hidden": false,
                  "locked": false
                },
                {
                  "code": ">>> \"c\" in q4 or \"C\" in q4\nTrue",
                  "hidden": false,
                  "locked": false
                },
                {
                  "code": ">>> len(set([\"a\", \"b\", \"e\"]).intersection(set(q4)))==0 and len(set([\"A\", \"B\", \"E\"]).intersection(set(q4)))==0\nTrue",
                  "hidden": false,
                  "locked": false
                },
                {
                  "code": ">>> \"d\" in q5 or \"D\" in q5\nTrue",
                  "hidden": false,
                  "locked": false
                },
                {
                  "code": ">>> len(set([\"a\", \"c\", \"b\", \"e\"]).intersection(set(q5)))==0 and len(set([\"A\", \"C\", \"B\", \"E\"]).intersection(set(q5)))==0\nTrue",
                  "hidden": false,
                  "locked": false
                },
                {
                  "code": ">>> \"c\" in q6 or \"C\" in q6\nTrue",
                  "hidden": false,
                  "locked": false
                },
                {
                  "code": ">>> len(set([\"a\", \"d\", \"b\", \"e\"]).intersection(set(q6)))==0 and len(set([\"A\", \"D\", \"B\", \"E\"]).intersection(set(q6)))==0\nTrue",
                  "hidden": false,
                  "locked": false
                }
              ],
              "scored": true,
              "setup": "",
              "teardown": "",
              "type": "doctest"
            }
          ]
        },
        "q1": {
          "name": "q1",
          "points": 5,
          "suites": [
            {
              "cases": [
                {
                  "code": ">>> isinstance(data, pd.DataFrame)\nTrue",
                  "hidden": false,
                  "locked": false
                },
                {
                  "code": ">>> from pandas.util.testing import assert_frame_equal\n>>> assert_frame_equal(data, pd.read_csv(path))\n",
                  "hidden": false,
                  "locked": false
                }
              ],
              "scored": true,
              "setup": "",
              "teardown": "",
              "type": "doctest"
            }
          ]
        },
        "q10": {
          "name": "q10",
          "points": null,
          "suites": [
            {
              "cases": [
                {
                  "code": ">>> set(data_no_nulls['smoker'].unique()) == set((0,1))\nTrue",
                  "hidden": false,
                  "locked": false
                }
              ],
              "scored": true,
              "setup": "",
              "teardown": "",
              "type": "doctest"
            }
          ]
        },
        "q11": {
          "name": "q11",
          "points": null,
          "suites": [
            {
              "cases": [
                {
                  "code": ">>> set(data_no_nulls['region'].unique()) == set((0,1,2,3))\nTrue",
                  "hidden": false,
                  "locked": false
                }
              ],
              "scored": true,
              "setup": "",
              "teardown": "",
              "type": "doctest"
            }
          ]
        },
        "q12": {
          "name": "q12",
          "points": null,
          "suites": [
            {
              "cases": [
                {
                  "code": ">>> (final_df['bmi']<=1).sum()==1335 and (final_df['bmi']>=0).sum()==1335\nTrue",
                  "hidden": false,
                  "locked": false
                }
              ],
              "scored": true,
              "setup": "",
              "teardown": "",
              "type": "doctest"
            }
          ]
        },
        "q13": {
          "name": "q13",
          "points": null,
          "suites": [
            {
              "cases": [
                {
                  "code": ">>> x_train_1.shape == (1068,6)\nTrue",
                  "hidden": false,
                  "locked": false
                },
                {
                  "code": ">>> y_train_1.shape == (1068,)\nTrue",
                  "hidden": false,
                  "locked": false
                },
                {
                  "code": ">>> x_test_1.shape == (267,6)\nTrue",
                  "hidden": false,
                  "locked": false
                },
                {
                  "code": ">>> y_test_1.shape == (267,)\nTrue",
                  "hidden": false,
                  "locked": false
                },
                {
                  "code": ">>> (X.values == final_df.iloc[: , final_df.columns!='smoker'].values).sum()==8010\nTrue",
                  "hidden": false,
                  "locked": false
                },
                {
                  "code": ">>> (y == final_df.loc[:,'smoker'].values ).sum()==1335\nTrue",
                  "hidden": false,
                  "locked": false
                }
              ],
              "scored": true,
              "setup": "",
              "teardown": "",
              "type": "doctest"
            }
          ]
        },
        "q14": {
          "name": "q14",
          "points": null,
          "suites": [
            {
              "cases": [
                {
                  "code": ">>> isinstance(model_1, LogisticRegression)\nTrue",
                  "hidden": false,
                  "locked": false
                },
                {
                  "code": ">>> from sklearn.metrics import accuracy_score\n>>> accuracy_score(y_train_1, model_1.predict(x_train_1))>0.5\nTrue",
                  "hidden": false,
                  "locked": false
                },
                {
                  "code": ">>> from sklearn.metrics import accuracy_score\n>>> accuracy_score(y_train_1, model_1.predict(x_train_1))>0.6\nTrue",
                  "hidden": false,
                  "locked": false
                },
                {
                  "code": ">>> from sklearn.metrics import accuracy_score\n>>> accuracy_score(y_train_1, model_1.predict(x_train_1))>0.7\nTrue",
                  "hidden": false,
                  "locked": false
                },
                {
                  "code": ">>> from sklearn.metrics import accuracy_score\n>>> accuracy_score(y_train_1, model_1.predict(x_train_1))>0.8\nTrue",
                  "hidden": false,
                  "locked": false
                }
              ],
              "scored": true,
              "setup": "",
              "teardown": "",
              "type": "doctest"
            }
          ]
        },
        "q15": {
          "name": "q15",
          "points": null,
          "suites": [
            {
              "cases": [
                {
                  "code": ">>> round(accuracy_model_1) == round(0.898876404494382)\nTrue",
                  "hidden": false,
                  "locked": false
                },
                {
                  "code": ">>> round(precision_model_1) == round(0.9523809523809523)\nTrue",
                  "hidden": false,
                  "locked": false
                },
                {
                  "code": ">>> round(recall_model_1) ==  round(0.6153846153846154)\nTrue",
                  "hidden": false,
                  "locked": false
                },
                {
                  "code": ">>> round(f1_score_model_1) == round(0.7476635514018692)\nTrue",
                  "hidden": false,
                  "locked": false
                }
              ],
              "scored": true,
              "setup": "",
              "teardown": "",
              "type": "doctest"
            }
          ]
        },
        "q16": {
          "name": "q16",
          "points": null,
          "suites": [
            {
              "cases": [
                {
                  "code": ">>> x_new.shape == (1060,6)\nTrue",
                  "hidden": false,
                  "locked": false
                },
                {
                  "code": ">>> y_new.shape == (1060,)\nTrue",
                  "hidden": false,
                  "locked": false
                },
                {
                  "code": ">>> y_new.value_counts()[0] == 530 and y_new.value_counts()[1] == 530\nTrue",
                  "hidden": false,
                  "locked": false
                }
              ],
              "scored": true,
              "setup": "",
              "teardown": "",
              "type": "doctest"
            }
          ]
        },
        "q17": {
          "name": "q17",
          "points": null,
          "suites": [
            {
              "cases": [
                {
                  "code": ">>> isinstance(model_2, LogisticRegression)\nTrue",
                  "hidden": false,
                  "locked": false
                },
                {
                  "code": ">>> from sklearn.metrics import accuracy_score\n>>> accuracy_score(y_train_2, model_2.predict(x_train_2))>0.6\nTrue",
                  "hidden": false,
                  "locked": false
                },
                {
                  "code": ">>> from sklearn.metrics import accuracy_score\n>>> accuracy_score(y_train_2, model_2.predict(x_train_2))>0.7\nTrue",
                  "hidden": false,
                  "locked": false
                },
                {
                  "code": ">>> from sklearn.metrics import accuracy_score\n>>> accuracy_score(y_train_2, model_2.predict(x_train_2))>0.8\nTrue",
                  "hidden": false,
                  "locked": false
                },
                {
                  "code": ">>> from sklearn.metrics import accuracy_score\n>>> accuracy_score(y_train_2, model_2.predict(x_train_2))>0.9\nTrue",
                  "hidden": false,
                  "locked": false
                },
                {
                  "code": ">>> from sklearn.metrics import accuracy_score\n>>> accuracy_score(y_train_2, model_2.predict(x_train_2))>0.95\nTrue",
                  "hidden": false,
                  "locked": false
                }
              ],
              "scored": true,
              "setup": "",
              "teardown": "",
              "type": "doctest"
            }
          ]
        },
        "q18": {
          "name": "q18",
          "points": null,
          "suites": [
            {
              "cases": [
                {
                  "code": ">>> accuracy_model_2>accuracy_model_1\nTrue",
                  "hidden": false,
                  "locked": false
                },
                {
                  "code": ">>> accuracy_model_2 > 0.94\nTrue",
                  "hidden": false,
                  "locked": false
                },
                {
                  "code": ">>> precision_model_2 >0.90\nTrue",
                  "hidden": false,
                  "locked": false
                },
                {
                  "code": ">>> recall_model_2 >0.98\nTrue",
                  "hidden": false,
                  "locked": false
                },
                {
                  "code": ">>> f1_score_model_2 > 0.94\nTrue",
                  "hidden": false,
                  "locked": false
                }
              ],
              "scored": true,
              "setup": "",
              "teardown": "",
              "type": "doctest"
            }
          ]
        },
        "q19": {
          "name": "q19",
          "points": null,
          "suites": [
            {
              "cases": [
                {
                  "code": ">>> 'C' in LRparam_grid.keys()\nTrue",
                  "hidden": false,
                  "locked": false
                },
                {
                  "code": ">>> 'penalty' in LRparam_grid.keys()\nTrue",
                  "hidden": false,
                  "locked": false
                },
                {
                  "code": ">>> isinstance(LR, LogisticRegression)\nTrue",
                  "hidden": false,
                  "locked": false
                },
                {
                  "code": ">>> LR_search.best_score_>0.90\nTrue",
                  "hidden": false,
                  "locked": false
                },
                {
                  "code": ">>> LR_search.best_score_>0.95\nTrue",
                  "hidden": false,
                  "locked": false
                },
                {
                  "code": ">>> LR_search.best_score_>0.92\nTrue",
                  "hidden": false,
                  "locked": false
                },
                {
                  "code": ">>> LR_search.cv == 5\nTrue",
                  "hidden": false,
                  "locked": false
                }
              ],
              "scored": true,
              "setup": "",
              "teardown": "",
              "type": "doctest"
            }
          ]
        },
        "q2": {
          "name": "q2",
          "points": null,
          "suites": [
            {
              "cases": [
                {
                  "code": ">>> rows == 1338\nTrue",
                  "hidden": false,
                  "locked": false
                },
                {
                  "code": ">>> columns == 7\nTrue",
                  "hidden": false,
                  "locked": false
                }
              ],
              "scored": true,
              "setup": "",
              "teardown": "",
              "type": "doctest"
            }
          ]
        },
        "q20": {
          "name": "q20",
          "points": null,
          "suites": [
            {
              "cases": [
                {
                  "code": ">>> accuracy_model_3 > 0.90\nTrue",
                  "hidden": false,
                  "locked": false
                },
                {
                  "code": ">>> precision_model_3 > 0.9\nTrue",
                  "hidden": false,
                  "locked": false
                },
                {
                  "code": ">>> recall_model_3 > 0.95\nTrue",
                  "hidden": false,
                  "locked": false
                },
                {
                  "code": ">>> f1_score_model_3>0.95\nTrue",
                  "hidden": false,
                  "locked": false
                }
              ],
              "scored": true,
              "setup": "",
              "teardown": "",
              "type": "doctest"
            }
          ]
        },
        "q21": {
          "name": "q21",
          "points": null,
          "suites": [
            {
              "cases": [
                {
                  "code": ">>> isinstance(clf, AdaBoostClassifier)\nTrue",
                  "hidden": false,
                  "locked": false
                },
                {
                  "code": ">>> from sklearn.metrics import accuracy_score\n>>> predictions = clf.predict(x_train_2)\n>>> accuracy_score(y_train_2, predictions)>0.97\nTrue",
                  "hidden": false,
                  "locked": false
                },
                {
                  "code": ">>> from sklearn.metrics import accuracy_score\n>>> predictions = clf.predict(x_train_2)\n>>> accuracy_score(y_train_2, predictions)>0.96\nTrue",
                  "hidden": false,
                  "locked": false
                }
              ],
              "scored": true,
              "setup": "",
              "teardown": "",
              "type": "doctest"
            }
          ]
        },
        "q22": {
          "name": "q22",
          "points": null,
          "suites": [
            {
              "cases": [
                {
                  "code": ">>> accuracy_model_4 > 0.90\nTrue",
                  "hidden": false,
                  "locked": false
                },
                {
                  "code": ">>> precision_model_4 > 0.92\nTrue",
                  "hidden": false,
                  "locked": false
                },
                {
                  "code": ">>> recall_model_4 > 0.9\nTrue",
                  "hidden": false,
                  "locked": false
                },
                {
                  "code": ">>> f1_score_model_4 > 0.90\nTrue",
                  "hidden": false,
                  "locked": false
                }
              ],
              "scored": true,
              "setup": "",
              "teardown": "",
              "type": "doctest"
            }
          ]
        },
        "q3": {
          "name": "q3",
          "points": null,
          "suites": [
            {
              "cases": [
                {
                  "code": ">>> len(columns_with_missing_values) == 1 and 'bmi' in list(columns_with_missing_values)\nTrue",
                  "hidden": false,
                  "locked": false
                }
              ],
              "scored": true,
              "setup": "",
              "teardown": "",
              "type": "doctest"
            }
          ]
        },
        "q4": {
          "name": "q4",
          "points": null,
          "suites": [
            {
              "cases": [
                {
                  "code": ">>> round(mean_bmi) == round(30.661423)\nTrue",
                  "hidden": false,
                  "locked": false
                },
                {
                  "code": ">>> round(std_bmi) == round(6.101038)\nTrue",
                  "hidden": false,
                  "locked": false
                }
              ],
              "scored": true,
              "setup": "",
              "teardown": "",
              "type": "doctest"
            }
          ]
        },
        "q5": {
          "name": "q5",
          "points": null,
          "suites": [
            {
              "cases": [
                {
                  "code": ">>> smokers.shape[0] == 274\nTrue",
                  "hidden": false,
                  "locked": false
                },
                {
                  "code": ">>> non_smokers.shape[0] == 1064\nTrue",
                  "hidden": false,
                  "locked": false
                }
              ],
              "scored": true,
              "setup": "",
              "teardown": "",
              "type": "doctest"
            }
          ]
        },
        "q6": {
          "name": "q6",
          "points": null,
          "suites": [
            {
              "cases": [
                {
                  "code": ">>> str(most_significant_feature).lower() == 'charges'\nTrue",
                  "hidden": false,
                  "locked": false
                }
              ],
              "scored": true,
              "setup": "",
              "teardown": "",
              "type": "doctest"
            }
          ]
        },
        "q7": {
          "name": "q7",
          "points": null,
          "suites": [
            {
              "cases": [
                {
                  "code": ">>> from pandas.util.testing import assert_frame_equal\n>>> assert_frame_equal(Gender.iloc[0:2,0:2], pd.crosstab(data['sex'],data['smoker']))\n",
                  "hidden": false,
                  "locked": false
                },
                {
                  "code": ">>> str(gender_that_smokes_more).lower() == 'male'\nTrue",
                  "hidden": false,
                  "locked": false
                }
              ],
              "scored": true,
              "setup": "",
              "teardown": "",
              "type": "doctest"
            }
          ]
        },
        "q8": {
          "name": "q8",
          "points": null,
          "suites": [
            {
              "cases": [
                {
                  "code": ">>> from pandas.util.testing import assert_frame_equal\n>>> assert_frame_equal(Region.iloc[0:4,0:2], pd.crosstab(data['region'],data['smoker']))\n",
                  "hidden": false,
                  "locked": false
                },
                {
                  "code": ">>> str(region_with_most_smokers).lower() == 'southeast'\nTrue",
                  "hidden": false,
                  "locked": false
                }
              ],
              "scored": true,
              "setup": "",
              "teardown": "",
              "type": "doctest"
            }
          ]
        },
        "q9": {
          "name": "q9",
          "points": null,
          "suites": [
            {
              "cases": [
                {
                  "code": ">>> set(data_no_nulls['sex'].unique()) == set((0,1))\nTrue",
                  "hidden": false,
                  "locked": false
                }
              ],
              "scored": true,
              "setup": "",
              "teardown": "",
              "type": "doctest"
            }
          ]
        },
        "q91": {
          "name": "q91",
          "points": null,
          "suites": [
            {
              "cases": [
                {
                  "code": ">>> data_no_nulls.isnull().sum().sum()==0\nTrue",
                  "hidden": false,
                  "locked": false
                }
              ],
              "scored": true,
              "setup": "",
              "teardown": "",
              "type": "doctest"
            }
          ]
        }
      }
    },
    "vscode": {
      "interpreter": {
        "hash": "8c3d4d9970fc5c09c50d9318a9c7fbf4d0159e4b28833276f5678ee22bded273"
      }
    }
  },
  "nbformat": 4,
  "nbformat_minor": 0
}