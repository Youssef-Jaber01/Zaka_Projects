{
  "cells": [
    {
      "cell_type": "markdown",
      "source": [
        "# **Important Instructions**:\n",
        "\n",
        "- **DO NOT CHANGE VARIABLE NAMES**\n",
        "- use the template given for each question and use the variable names indicated. Fill in the blanks where there is \"...\"\n",
        "- Follow the instructions as mentioned in each question.\n",
        "\n",
        "Good luck!"
      ],
      "metadata": {
        "id": "UDZVvqA6_Joj"
      }
    },
    {
      "cell_type": "markdown",
      "metadata": {
        "id": "elgDcjlyK-lQ"
      },
      "source": [
        "# Data Science Lifecycle\n",
        "© 2023, Zaka AI, Inc. All Rights Reserved.\n",
        "\n",
        "---\n",
        "## Case Study: Loan Status\n",
        "**Objective:**\n",
        "In this exercise, we will explore a dataset of Loan data with the below info. We will try later to predict the status of loan for individuals based the following information.</font>\n",
        "\n",
        "## DataSet Description\n",
        "\n",
        "- **Loan_ID:** data set unique ID <br>\n",
        "- **Gender:** individual gender<br>\n",
        "- **Married:** individual marital status<br>\n",
        "- **Dependents:** number of dependents<br>\n",
        "- **Education:** individual education status<br>\n",
        "- **Self_Employed:** individual employment status<br>\n",
        "- **ApplicantIncome:** individual income<br>\n",
        "- **CoapplicantIncome:** individual Coapplicant income<br>\n",
        "- **LoanAmount:** Loan amount in thousands<br>\n",
        "- **Loan_Amount_Term:** term of loan in months<br>\n",
        "- **Credit_History:** credit history meets guidelines<br>\n",
        "- **Property_Area:** Urban/ Semi Urban/ Rural<br>\n",
        "- **Loan_Status:** loan approved (Y/N)<br>"
      ]
    },
    {
      "cell_type": "markdown",
      "metadata": {
        "id": "KIFhQSUBK-lS"
      },
      "source": [
        "# Import necessary python modules (libraries)\n",
        "<br>\n",
        "We will need the following libraries:\n",
        "\n",
        "- Numpy — for scientific computing (e.g., linear algebra (vectors & matrices)).\n",
        "- Pandas — providing high-performance, easy-to-use data reading, manipulation, and analysis.\n",
        "- Matplotlib & seaborn — plotting & visualization.\n",
        "- scikit-learn — a tool for data mining and machine learning models."
      ]
    },
    {
      "cell_type": "code",
      "execution_count": 1,
      "metadata": {
        "id": "ZGkh0dVO7YhU"
      },
      "outputs": [],
      "source": [
        "import warnings\n",
        "warnings.filterwarnings('ignore')"
      ]
    },
    {
      "cell_type": "code",
      "execution_count": 2,
      "metadata": {
        "id": "xZwyPrVkK-lT"
      },
      "outputs": [],
      "source": [
        "import numpy as np\n",
        "import pandas as pd\n",
        "import matplotlib.pyplot as plt\n",
        "import seaborn as sns"
      ]
    },
    {
      "cell_type": "code",
      "source": [
        "# from google.colab import drive\n",
        "# drive.mount('/content/drive')"
      ],
      "metadata": {
        "id": "uGEo7ELIei07"
      },
      "execution_count": 3,
      "outputs": []
    },
    {
      "cell_type": "markdown",
      "metadata": {
        "id": "4xjXdDyTK-lW"
      },
      "source": [
        "# Read & visualize data\n",
        "To load the data to our code, we use pandas module, more specifically, the read_csv function."
      ]
    },
    {
      "cell_type": "markdown",
      "metadata": {
        "id": "x4KVJodDK-lX"
      },
      "source": [
        "Combine the two dataset in order to apply the same preprocessing steps in both dataframes"
      ]
    },
    {
      "cell_type": "code",
      "execution_count": 4,
      "metadata": {
        "id": "eaN-1eM5K-lX",
        "tags": [],
        "colab": {
          "base_uri": "https://localhost:8080/"
        },
        "outputId": "c9abc109-78e8-45fc-c0d6-c1b5825b6f49"
      },
      "outputs": [
        {
          "output_type": "stream",
          "name": "stdout",
          "text": [
            "    Loan_ID  Gender Married Dependents     Education Self_Employed  \\\n",
            "0  LP002648    Male     Yes          0      Graduate            No   \n",
            "1  LP002652    Male      No          0      Graduate            No   \n",
            "2  LP002659    Male     Yes         3+      Graduate            No   \n",
            "3  LP002670  Female     Yes          2      Graduate            No   \n",
            "4  LP002682    Male     Yes        NaN  Not Graduate            No   \n",
            "\n",
            "   ApplicantIncome  CoapplicantIncome  LoanAmount  Loan_Amount_Term  \\\n",
            "0             2130             6666.0        70.0             180.0   \n",
            "1             5815             3666.0       311.0             360.0   \n",
            "2             3466             3428.0       150.0             360.0   \n",
            "3             2031             1632.0       113.0             480.0   \n",
            "4             3074             1800.0       123.0             360.0   \n",
            "\n",
            "   Credit_History Property_Area Loan_Status  \n",
            "0             1.0     Semiurban           N  \n",
            "1             1.0         Rural           N  \n",
            "2             1.0         Rural           Y  \n",
            "3             1.0     Semiurban           Y  \n",
            "4             0.0     Semiurban           N  \n"
          ]
        }
      ],
      "source": [
        "# df_train = pd.read_csv('/content/drive/MyDrive/train.csv')\n",
        "# df_test = pd.read_csv('/content/drive/MyDrive/test.csv')\n",
        "\n",
        "df_train = pd.read_csv('train.csv')\n",
        "df_test = pd.read_csv('test.csv')\n",
        "\n",
        "df = pd.concat([df_test, df_train])\n",
        "\n",
        "print(df.head())\n"
      ]
    },
    {
      "cell_type": "markdown",
      "metadata": {
        "id": "WKcAeoOVK-ld"
      },
      "source": [
        "# Exploratory Data Analysis\n"
      ]
    },
    {
      "cell_type": "markdown",
      "metadata": {
        "id": "o6FQrZ4c7Yhb"
      },
      "source": [
        "Check the number of rows and columns of the dataframe"
      ]
    },
    {
      "cell_type": "code",
      "execution_count": 5,
      "metadata": {
        "id": "-DmXe7W2K-ld",
        "tags": [],
        "colab": {
          "base_uri": "https://localhost:8080/"
        },
        "outputId": "f19c7d9f-8cc6-4861-a2cd-e662055617c4"
      },
      "outputs": [
        {
          "output_type": "stream",
          "name": "stdout",
          "text": [
            "There are 614 rows and 13 columns\n"
          ]
        }
      ],
      "source": [
        "nRow = df.shape[0]\n",
        "nCol = df.shape[1]\n",
        "print(f'There are {nRow} rows and {nCol} columns')"
      ]
    },
    {
      "cell_type": "markdown",
      "metadata": {
        "id": "RVH8LAjLK-lg"
      },
      "source": [
        "Using the function info(), check:\n",
        "\n",
        "- data types (int, float, or object (e.g., string))\n",
        "- missing values\n",
        "- memory usage\n",
        "- number of rows and columns"
      ]
    },
    {
      "cell_type": "markdown",
      "metadata": {
        "id": "RaG-exwx7Yhd"
      },
      "source": [
        "What are the columns having missing values? Write them as string elements of the list, e.g. columns_with_missing_values = [ 'columnX', 'columnY'], etc. Make sure to type the column name as it appears in the dataset."
      ]
    },
    {
      "cell_type": "code",
      "execution_count": 6,
      "metadata": {
        "id": "kesvYr2pK-lg",
        "tags": [],
        "colab": {
          "base_uri": "https://localhost:8080/"
        },
        "outputId": "615ba4c7-e5b5-4972-9c81-6f13794b7d09"
      },
      "outputs": [
        {
          "output_type": "stream",
          "name": "stdout",
          "text": [
            "<class 'pandas.core.frame.DataFrame'>\n",
            "Int64Index: 614 entries, 0 to 512\n",
            "Data columns (total 13 columns):\n",
            " #   Column             Non-Null Count  Dtype  \n",
            "---  ------             --------------  -----  \n",
            " 0   Loan_ID            614 non-null    object \n",
            " 1   Gender             601 non-null    object \n",
            " 2   Married            611 non-null    object \n",
            " 3   Dependents         599 non-null    object \n",
            " 4   Education          614 non-null    object \n",
            " 5   Self_Employed      582 non-null    object \n",
            " 6   ApplicantIncome    614 non-null    int64  \n",
            " 7   CoapplicantIncome  614 non-null    float64\n",
            " 8   LoanAmount         592 non-null    float64\n",
            " 9   Loan_Amount_Term   600 non-null    float64\n",
            " 10  Credit_History     564 non-null    float64\n",
            " 11  Property_Area      614 non-null    object \n",
            " 12  Loan_Status        614 non-null    object \n",
            "dtypes: float64(4), int64(1), object(8)\n",
            "memory usage: 67.2+ KB\n"
          ]
        }
      ],
      "source": [
        "#Display the info of the df dataframe\n",
        "df.info()"
      ]
    },
    {
      "cell_type": "code",
      "execution_count": 7,
      "metadata": {
        "id": "ThwnF0mzDSQV",
        "tags": []
      },
      "outputs": [],
      "source": [
        "#columns_with_missing_values = df.isnull().sum()\n",
        "#print(columns_with_missing_values)\n",
        "columns_with_missing_values = ['Gender','Married','Dependents','Self_Employed','LoanAmount','Loan_Amount_Term','Credit_History']"
      ]
    },
    {
      "cell_type": "markdown",
      "metadata": {
        "id": "W4ebzltrK-lj"
      },
      "source": [
        "Using the function describe(), check the following  values for each numerical feature (column)\n",
        "- mean\n",
        "- standard deviation\n",
        "- maximum\n",
        "- minimum\n",
        "\n",
        "What is the mean value and the std of the coapplicant income? Enter the number as it appears in the output\n"
      ]
    },
    {
      "cell_type": "code",
      "execution_count": 8,
      "metadata": {
        "id": "ECiIV49DK-lk",
        "tags": [],
        "colab": {
          "base_uri": "https://localhost:8080/",
          "height": 300
        },
        "outputId": "46bc7cf8-0489-46f7-adee-8f9a0547c96a"
      },
      "outputs": [
        {
          "output_type": "execute_result",
          "data": {
            "text/plain": [
              "       ApplicantIncome  CoapplicantIncome  LoanAmount  Loan_Amount_Term  \\\n",
              "count       614.000000         614.000000  592.000000         600.00000   \n",
              "mean       5403.459283        1621.245798  146.412162         342.00000   \n",
              "std        6109.041673        2926.248369   85.587325          65.12041   \n",
              "min         150.000000           0.000000    9.000000          12.00000   \n",
              "25%        2877.500000           0.000000  100.000000         360.00000   \n",
              "50%        3812.500000        1188.500000  128.000000         360.00000   \n",
              "75%        5795.000000        2297.250000  168.000000         360.00000   \n",
              "max       81000.000000       41667.000000  700.000000         480.00000   \n",
              "\n",
              "       Credit_History  \n",
              "count      564.000000  \n",
              "mean         0.842199  \n",
              "std          0.364878  \n",
              "min          0.000000  \n",
              "25%          1.000000  \n",
              "50%          1.000000  \n",
              "75%          1.000000  \n",
              "max          1.000000  "
            ],
            "text/html": [
              "\n",
              "  <div id=\"df-fc152563-6dbd-47bf-bc55-2c4229c289dd\">\n",
              "    <div class=\"colab-df-container\">\n",
              "      <div>\n",
              "<style scoped>\n",
              "    .dataframe tbody tr th:only-of-type {\n",
              "        vertical-align: middle;\n",
              "    }\n",
              "\n",
              "    .dataframe tbody tr th {\n",
              "        vertical-align: top;\n",
              "    }\n",
              "\n",
              "    .dataframe thead th {\n",
              "        text-align: right;\n",
              "    }\n",
              "</style>\n",
              "<table border=\"1\" class=\"dataframe\">\n",
              "  <thead>\n",
              "    <tr style=\"text-align: right;\">\n",
              "      <th></th>\n",
              "      <th>ApplicantIncome</th>\n",
              "      <th>CoapplicantIncome</th>\n",
              "      <th>LoanAmount</th>\n",
              "      <th>Loan_Amount_Term</th>\n",
              "      <th>Credit_History</th>\n",
              "    </tr>\n",
              "  </thead>\n",
              "  <tbody>\n",
              "    <tr>\n",
              "      <th>count</th>\n",
              "      <td>614.000000</td>\n",
              "      <td>614.000000</td>\n",
              "      <td>592.000000</td>\n",
              "      <td>600.00000</td>\n",
              "      <td>564.000000</td>\n",
              "    </tr>\n",
              "    <tr>\n",
              "      <th>mean</th>\n",
              "      <td>5403.459283</td>\n",
              "      <td>1621.245798</td>\n",
              "      <td>146.412162</td>\n",
              "      <td>342.00000</td>\n",
              "      <td>0.842199</td>\n",
              "    </tr>\n",
              "    <tr>\n",
              "      <th>std</th>\n",
              "      <td>6109.041673</td>\n",
              "      <td>2926.248369</td>\n",
              "      <td>85.587325</td>\n",
              "      <td>65.12041</td>\n",
              "      <td>0.364878</td>\n",
              "    </tr>\n",
              "    <tr>\n",
              "      <th>min</th>\n",
              "      <td>150.000000</td>\n",
              "      <td>0.000000</td>\n",
              "      <td>9.000000</td>\n",
              "      <td>12.00000</td>\n",
              "      <td>0.000000</td>\n",
              "    </tr>\n",
              "    <tr>\n",
              "      <th>25%</th>\n",
              "      <td>2877.500000</td>\n",
              "      <td>0.000000</td>\n",
              "      <td>100.000000</td>\n",
              "      <td>360.00000</td>\n",
              "      <td>1.000000</td>\n",
              "    </tr>\n",
              "    <tr>\n",
              "      <th>50%</th>\n",
              "      <td>3812.500000</td>\n",
              "      <td>1188.500000</td>\n",
              "      <td>128.000000</td>\n",
              "      <td>360.00000</td>\n",
              "      <td>1.000000</td>\n",
              "    </tr>\n",
              "    <tr>\n",
              "      <th>75%</th>\n",
              "      <td>5795.000000</td>\n",
              "      <td>2297.250000</td>\n",
              "      <td>168.000000</td>\n",
              "      <td>360.00000</td>\n",
              "      <td>1.000000</td>\n",
              "    </tr>\n",
              "    <tr>\n",
              "      <th>max</th>\n",
              "      <td>81000.000000</td>\n",
              "      <td>41667.000000</td>\n",
              "      <td>700.000000</td>\n",
              "      <td>480.00000</td>\n",
              "      <td>1.000000</td>\n",
              "    </tr>\n",
              "  </tbody>\n",
              "</table>\n",
              "</div>\n",
              "      <button class=\"colab-df-convert\" onclick=\"convertToInteractive('df-fc152563-6dbd-47bf-bc55-2c4229c289dd')\"\n",
              "              title=\"Convert this dataframe to an interactive table.\"\n",
              "              style=\"display:none;\">\n",
              "        \n",
              "  <svg xmlns=\"http://www.w3.org/2000/svg\" height=\"24px\"viewBox=\"0 0 24 24\"\n",
              "       width=\"24px\">\n",
              "    <path d=\"M0 0h24v24H0V0z\" fill=\"none\"/>\n",
              "    <path d=\"M18.56 5.44l.94 2.06.94-2.06 2.06-.94-2.06-.94-.94-2.06-.94 2.06-2.06.94zm-11 1L8.5 8.5l.94-2.06 2.06-.94-2.06-.94L8.5 2.5l-.94 2.06-2.06.94zm10 10l.94 2.06.94-2.06 2.06-.94-2.06-.94-.94-2.06-.94 2.06-2.06.94z\"/><path d=\"M17.41 7.96l-1.37-1.37c-.4-.4-.92-.59-1.43-.59-.52 0-1.04.2-1.43.59L10.3 9.45l-7.72 7.72c-.78.78-.78 2.05 0 2.83L4 21.41c.39.39.9.59 1.41.59.51 0 1.02-.2 1.41-.59l7.78-7.78 2.81-2.81c.8-.78.8-2.07 0-2.86zM5.41 20L4 18.59l7.72-7.72 1.47 1.35L5.41 20z\"/>\n",
              "  </svg>\n",
              "      </button>\n",
              "      \n",
              "  <style>\n",
              "    .colab-df-container {\n",
              "      display:flex;\n",
              "      flex-wrap:wrap;\n",
              "      gap: 12px;\n",
              "    }\n",
              "\n",
              "    .colab-df-convert {\n",
              "      background-color: #E8F0FE;\n",
              "      border: none;\n",
              "      border-radius: 50%;\n",
              "      cursor: pointer;\n",
              "      display: none;\n",
              "      fill: #1967D2;\n",
              "      height: 32px;\n",
              "      padding: 0 0 0 0;\n",
              "      width: 32px;\n",
              "    }\n",
              "\n",
              "    .colab-df-convert:hover {\n",
              "      background-color: #E2EBFA;\n",
              "      box-shadow: 0px 1px 2px rgba(60, 64, 67, 0.3), 0px 1px 3px 1px rgba(60, 64, 67, 0.15);\n",
              "      fill: #174EA6;\n",
              "    }\n",
              "\n",
              "    [theme=dark] .colab-df-convert {\n",
              "      background-color: #3B4455;\n",
              "      fill: #D2E3FC;\n",
              "    }\n",
              "\n",
              "    [theme=dark] .colab-df-convert:hover {\n",
              "      background-color: #434B5C;\n",
              "      box-shadow: 0px 1px 3px 1px rgba(0, 0, 0, 0.15);\n",
              "      filter: drop-shadow(0px 1px 2px rgba(0, 0, 0, 0.3));\n",
              "      fill: #FFFFFF;\n",
              "    }\n",
              "  </style>\n",
              "\n",
              "      <script>\n",
              "        const buttonEl =\n",
              "          document.querySelector('#df-fc152563-6dbd-47bf-bc55-2c4229c289dd button.colab-df-convert');\n",
              "        buttonEl.style.display =\n",
              "          google.colab.kernel.accessAllowed ? 'block' : 'none';\n",
              "\n",
              "        async function convertToInteractive(key) {\n",
              "          const element = document.querySelector('#df-fc152563-6dbd-47bf-bc55-2c4229c289dd');\n",
              "          const dataTable =\n",
              "            await google.colab.kernel.invokeFunction('convertToInteractive',\n",
              "                                                     [key], {});\n",
              "          if (!dataTable) return;\n",
              "\n",
              "          const docLinkHtml = 'Like what you see? Visit the ' +\n",
              "            '<a target=\"_blank\" href=https://colab.research.google.com/notebooks/data_table.ipynb>data table notebook</a>'\n",
              "            + ' to learn more about interactive tables.';\n",
              "          element.innerHTML = '';\n",
              "          dataTable['output_type'] = 'display_data';\n",
              "          await google.colab.output.renderOutput(dataTable, element);\n",
              "          const docLink = document.createElement('div');\n",
              "          docLink.innerHTML = docLinkHtml;\n",
              "          element.appendChild(docLink);\n",
              "        }\n",
              "      </script>\n",
              "    </div>\n",
              "  </div>\n",
              "  "
            ]
          },
          "metadata": {},
          "execution_count": 8
        }
      ],
      "source": [
        "#Write your solution\n",
        "df.describe()"
      ]
    },
    {
      "cell_type": "code",
      "execution_count": 9,
      "metadata": {
        "id": "Flf1x0gm5TDF",
        "tags": []
      },
      "outputs": [],
      "source": [
        "mean_coapplicant_income = 5403.459283"
      ]
    },
    {
      "cell_type": "code",
      "execution_count": 10,
      "metadata": {
        "id": "O0BxHvOT5eg-",
        "tags": []
      },
      "outputs": [],
      "source": [
        "std_coapplicant_income = 6109.041673"
      ]
    },
    {
      "cell_type": "markdown",
      "metadata": {
        "id": "QsmkavZQK-ln"
      },
      "source": [
        "Check the unique values of Credit_History and Loan_Amount_Term"
      ]
    },
    {
      "cell_type": "code",
      "execution_count": 11,
      "metadata": {
        "id": "uYPOBUMYK-ln",
        "tags": [],
        "colab": {
          "base_uri": "https://localhost:8080/"
        },
        "outputId": "50badae9-4006-4a9e-cd9d-c7e05e0ac635"
      },
      "outputs": [
        {
          "output_type": "stream",
          "name": "stdout",
          "text": [
            "[ 0.  1. nan]\n"
          ]
        }
      ],
      "source": [
        "unique_credit_history = np.unique(df['Credit_History'])\n",
        "print(unique_credit_history)"
      ]
    },
    {
      "cell_type": "code",
      "execution_count": 12,
      "metadata": {
        "id": "mdUjK1DPK-lq",
        "tags": [],
        "colab": {
          "base_uri": "https://localhost:8080/"
        },
        "outputId": "de54594c-364d-4db9-eead-640dbd75bd7c"
      },
      "outputs": [
        {
          "output_type": "stream",
          "name": "stdout",
          "text": [
            "[ 12.  36.  60.  84. 120. 180. 240. 300. 360. 480.  nan]\n"
          ]
        }
      ],
      "source": [
        "loan_amount_term_unique = np.unique(df['Loan_Amount_Term'])\n",
        "print(loan_amount_term_unique)"
      ]
    },
    {
      "cell_type": "markdown",
      "metadata": {
        "id": "-o9MT0LcK-ls"
      },
      "source": [
        "Using the function describe(include='o'), check some summarized information about the categorical columns.\n",
        "\n",
        "How many instances of the top gender does the dataset include? Just type the number\n"
      ]
    },
    {
      "cell_type": "code",
      "execution_count": 13,
      "metadata": {
        "id": "jrSrdNS1K-lt",
        "tags": [],
        "colab": {
          "base_uri": "https://localhost:8080/",
          "height": 175
        },
        "outputId": "1a62321f-e061-4517-80aa-a3d698bef442"
      },
      "outputs": [
        {
          "output_type": "execute_result",
          "data": {
            "text/plain": [
              "         Loan_ID Gender Married Dependents Education Self_Employed  \\\n",
              "count        614    601     611        599       614           582   \n",
              "unique       614      2       2          4         2             2   \n",
              "top     LP002648   Male     Yes          0  Graduate            No   \n",
              "freq           1    489     398        345       480           500   \n",
              "\n",
              "       Property_Area Loan_Status  \n",
              "count            614         614  \n",
              "unique             3           2  \n",
              "top        Semiurban           Y  \n",
              "freq             233         422  "
            ],
            "text/html": [
              "\n",
              "  <div id=\"df-a84ecfe7-3e9d-475e-a52c-c40ba6a37409\">\n",
              "    <div class=\"colab-df-container\">\n",
              "      <div>\n",
              "<style scoped>\n",
              "    .dataframe tbody tr th:only-of-type {\n",
              "        vertical-align: middle;\n",
              "    }\n",
              "\n",
              "    .dataframe tbody tr th {\n",
              "        vertical-align: top;\n",
              "    }\n",
              "\n",
              "    .dataframe thead th {\n",
              "        text-align: right;\n",
              "    }\n",
              "</style>\n",
              "<table border=\"1\" class=\"dataframe\">\n",
              "  <thead>\n",
              "    <tr style=\"text-align: right;\">\n",
              "      <th></th>\n",
              "      <th>Loan_ID</th>\n",
              "      <th>Gender</th>\n",
              "      <th>Married</th>\n",
              "      <th>Dependents</th>\n",
              "      <th>Education</th>\n",
              "      <th>Self_Employed</th>\n",
              "      <th>Property_Area</th>\n",
              "      <th>Loan_Status</th>\n",
              "    </tr>\n",
              "  </thead>\n",
              "  <tbody>\n",
              "    <tr>\n",
              "      <th>count</th>\n",
              "      <td>614</td>\n",
              "      <td>601</td>\n",
              "      <td>611</td>\n",
              "      <td>599</td>\n",
              "      <td>614</td>\n",
              "      <td>582</td>\n",
              "      <td>614</td>\n",
              "      <td>614</td>\n",
              "    </tr>\n",
              "    <tr>\n",
              "      <th>unique</th>\n",
              "      <td>614</td>\n",
              "      <td>2</td>\n",
              "      <td>2</td>\n",
              "      <td>4</td>\n",
              "      <td>2</td>\n",
              "      <td>2</td>\n",
              "      <td>3</td>\n",
              "      <td>2</td>\n",
              "    </tr>\n",
              "    <tr>\n",
              "      <th>top</th>\n",
              "      <td>LP002648</td>\n",
              "      <td>Male</td>\n",
              "      <td>Yes</td>\n",
              "      <td>0</td>\n",
              "      <td>Graduate</td>\n",
              "      <td>No</td>\n",
              "      <td>Semiurban</td>\n",
              "      <td>Y</td>\n",
              "    </tr>\n",
              "    <tr>\n",
              "      <th>freq</th>\n",
              "      <td>1</td>\n",
              "      <td>489</td>\n",
              "      <td>398</td>\n",
              "      <td>345</td>\n",
              "      <td>480</td>\n",
              "      <td>500</td>\n",
              "      <td>233</td>\n",
              "      <td>422</td>\n",
              "    </tr>\n",
              "  </tbody>\n",
              "</table>\n",
              "</div>\n",
              "      <button class=\"colab-df-convert\" onclick=\"convertToInteractive('df-a84ecfe7-3e9d-475e-a52c-c40ba6a37409')\"\n",
              "              title=\"Convert this dataframe to an interactive table.\"\n",
              "              style=\"display:none;\">\n",
              "        \n",
              "  <svg xmlns=\"http://www.w3.org/2000/svg\" height=\"24px\"viewBox=\"0 0 24 24\"\n",
              "       width=\"24px\">\n",
              "    <path d=\"M0 0h24v24H0V0z\" fill=\"none\"/>\n",
              "    <path d=\"M18.56 5.44l.94 2.06.94-2.06 2.06-.94-2.06-.94-.94-2.06-.94 2.06-2.06.94zm-11 1L8.5 8.5l.94-2.06 2.06-.94-2.06-.94L8.5 2.5l-.94 2.06-2.06.94zm10 10l.94 2.06.94-2.06 2.06-.94-2.06-.94-.94-2.06-.94 2.06-2.06.94z\"/><path d=\"M17.41 7.96l-1.37-1.37c-.4-.4-.92-.59-1.43-.59-.52 0-1.04.2-1.43.59L10.3 9.45l-7.72 7.72c-.78.78-.78 2.05 0 2.83L4 21.41c.39.39.9.59 1.41.59.51 0 1.02-.2 1.41-.59l7.78-7.78 2.81-2.81c.8-.78.8-2.07 0-2.86zM5.41 20L4 18.59l7.72-7.72 1.47 1.35L5.41 20z\"/>\n",
              "  </svg>\n",
              "      </button>\n",
              "      \n",
              "  <style>\n",
              "    .colab-df-container {\n",
              "      display:flex;\n",
              "      flex-wrap:wrap;\n",
              "      gap: 12px;\n",
              "    }\n",
              "\n",
              "    .colab-df-convert {\n",
              "      background-color: #E8F0FE;\n",
              "      border: none;\n",
              "      border-radius: 50%;\n",
              "      cursor: pointer;\n",
              "      display: none;\n",
              "      fill: #1967D2;\n",
              "      height: 32px;\n",
              "      padding: 0 0 0 0;\n",
              "      width: 32px;\n",
              "    }\n",
              "\n",
              "    .colab-df-convert:hover {\n",
              "      background-color: #E2EBFA;\n",
              "      box-shadow: 0px 1px 2px rgba(60, 64, 67, 0.3), 0px 1px 3px 1px rgba(60, 64, 67, 0.15);\n",
              "      fill: #174EA6;\n",
              "    }\n",
              "\n",
              "    [theme=dark] .colab-df-convert {\n",
              "      background-color: #3B4455;\n",
              "      fill: #D2E3FC;\n",
              "    }\n",
              "\n",
              "    [theme=dark] .colab-df-convert:hover {\n",
              "      background-color: #434B5C;\n",
              "      box-shadow: 0px 1px 3px 1px rgba(0, 0, 0, 0.15);\n",
              "      filter: drop-shadow(0px 1px 2px rgba(0, 0, 0, 0.3));\n",
              "      fill: #FFFFFF;\n",
              "    }\n",
              "  </style>\n",
              "\n",
              "      <script>\n",
              "        const buttonEl =\n",
              "          document.querySelector('#df-a84ecfe7-3e9d-475e-a52c-c40ba6a37409 button.colab-df-convert');\n",
              "        buttonEl.style.display =\n",
              "          google.colab.kernel.accessAllowed ? 'block' : 'none';\n",
              "\n",
              "        async function convertToInteractive(key) {\n",
              "          const element = document.querySelector('#df-a84ecfe7-3e9d-475e-a52c-c40ba6a37409');\n",
              "          const dataTable =\n",
              "            await google.colab.kernel.invokeFunction('convertToInteractive',\n",
              "                                                     [key], {});\n",
              "          if (!dataTable) return;\n",
              "\n",
              "          const docLinkHtml = 'Like what you see? Visit the ' +\n",
              "            '<a target=\"_blank\" href=https://colab.research.google.com/notebooks/data_table.ipynb>data table notebook</a>'\n",
              "            + ' to learn more about interactive tables.';\n",
              "          element.innerHTML = '';\n",
              "          dataTable['output_type'] = 'display_data';\n",
              "          await google.colab.output.renderOutput(dataTable, element);\n",
              "          const docLink = document.createElement('div');\n",
              "          docLink.innerHTML = docLinkHtml;\n",
              "          element.appendChild(docLink);\n",
              "        }\n",
              "      </script>\n",
              "    </div>\n",
              "  </div>\n",
              "  "
            ]
          },
          "metadata": {},
          "execution_count": 13
        }
      ],
      "source": [
        "df.describe(include='O')"
      ]
    },
    {
      "cell_type": "code",
      "execution_count": 14,
      "metadata": {
        "tags": [],
        "id": "UshedlH17Yhh"
      },
      "outputs": [],
      "source": [
        "instances_top_gender = 489"
      ]
    },
    {
      "cell_type": "markdown",
      "metadata": {
        "id": "qabfYYPoK-ly"
      },
      "source": [
        "Check the value counts for each categorical column specified below"
      ]
    },
    {
      "cell_type": "code",
      "execution_count": 15,
      "metadata": {
        "id": "V9Fe95bPK-ly",
        "tags": [],
        "colab": {
          "base_uri": "https://localhost:8080/"
        },
        "outputId": "1ec5c6b1-5048-46da-c804-9aec85d7fb1e"
      },
      "outputs": [
        {
          "output_type": "stream",
          "name": "stdout",
          "text": [
            "Semiurban    233\n",
            "Urban        202\n",
            "Rural        179\n",
            "Name: Property_Area, dtype: int64\n"
          ]
        }
      ],
      "source": [
        "property_area_counts = df.Property_Area.value_counts()\n",
        "print(property_area_counts)"
      ]
    },
    {
      "cell_type": "code",
      "execution_count": 16,
      "metadata": {
        "id": "lysRWAMyK-l1",
        "tags": [],
        "colab": {
          "base_uri": "https://localhost:8080/"
        },
        "outputId": "855071ce-899f-4e03-b13e-b8d58b82f55c"
      },
      "outputs": [
        {
          "output_type": "stream",
          "name": "stdout",
          "text": [
            "0     345\n",
            "1     102\n",
            "2     101\n",
            "3+     51\n",
            "Name: Dependents, dtype: int64\n"
          ]
        }
      ],
      "source": [
        "dependents_counts = df.Dependents.value_counts()\n",
        "print(dependents_counts)"
      ]
    },
    {
      "cell_type": "markdown",
      "metadata": {
        "id": "f1agjKAXK-l4"
      },
      "source": [
        "For the \"dependents\" column we have uncleaned value (3+) that need to be changed later to 3 for further analysis"
      ]
    },
    {
      "cell_type": "markdown",
      "metadata": {
        "id": "ZzRbJ_od7Yhj"
      },
      "source": [
        "Create a new dataframe **removeNA_df**, where you remove the nulls existing in the original dataframe. This is only for being able to visualize distributions. In a later step, we will be focusing on cleaning our original dataset in a better way."
      ]
    },
    {
      "cell_type": "markdown",
      "metadata": {
        "id": "HbIhw6TN7Yhj"
      },
      "source": [
        "Plot the distribution and the boxplot for the variables specified below. Afterwards, for each variable, you'll answer the following questions:\n",
        "* Is there any outlier? Answer simply by 'yes' or 'no'\n",
        "* Is the data skewed? Answer simply by 'right', 'left', or 'no skew'"
      ]
    },
    {
      "cell_type": "code",
      "execution_count": 17,
      "metadata": {
        "id": "3GLVciuCK-l4",
        "tags": [],
        "colab": {
          "base_uri": "https://localhost:8080/",
          "height": 445
        },
        "outputId": "493f3e30-a2a1-41bb-8ef4-91e42bce121d"
      },
      "outputs": [
        {
          "output_type": "display_data",
          "data": {
            "text/plain": [
              "<Figure size 1200x500 with 2 Axes>"
            ],
            "image/png": "[encoded data removed]"
          },
          "metadata": {}
        }
      ],
      "source": [
        "removeNA_df = df.dropna()\n",
        "#LoanAmount\n",
        "fig = plt.figure(figsize=(12,5))\n",
        "ax = fig.add_subplot(121)\n",
        "ax.hist(removeNA_df['LoanAmount'])\n",
        "\n",
        "ax = fig.add_subplot(122)\n",
        "ax.boxplot(removeNA_df['LoanAmount'])\n",
        "plt.show()"
      ]
    },
    {
      "cell_type": "code",
      "execution_count": 18,
      "metadata": {
        "tags": [],
        "id": "tPUscIQ77Yhk"
      },
      "outputs": [],
      "source": [
        "outliers_1 = 'yes'\n",
        "skew_1 = 'right'"
      ]
    },
    {
      "cell_type": "code",
      "execution_count": 19,
      "metadata": {
        "id": "KeyynE7mK-l7",
        "tags": [],
        "colab": {
          "base_uri": "https://localhost:8080/",
          "height": 445
        },
        "outputId": "e7fd9784-547c-4e0a-a763-4678eda59c94"
      },
      "outputs": [
        {
          "output_type": "display_data",
          "data": {
            "text/plain": [
              "<Figure size 1200x500 with 2 Axes>"
            ],
            "image/png": "[encoded data removed]"
          },
          "metadata": {}
        }
      ],
      "source": [
        "#ApplicantIncome\n",
        "fig = plt.figure(figsize=(12,5))\n",
        "ax = fig.add_subplot(121)\n",
        "ax.hist(removeNA_df['ApplicantIncome'])\n",
        "\n",
        "ax = fig.add_subplot(122)\n",
        "ax.boxplot(removeNA_df['ApplicantIncome'])\n",
        "plt.show()"
      ]
    },
    {
      "cell_type": "code",
      "execution_count": 20,
      "metadata": {
        "tags": [],
        "id": "jQW811vt7Yhk"
      },
      "outputs": [],
      "source": [
        "outliers_2 = 'yes'\n",
        "skew_2 = 'right'"
      ]
    },
    {
      "cell_type": "code",
      "execution_count": 21,
      "metadata": {
        "id": "V1hX-EtOK-l-",
        "tags": [],
        "colab": {
          "base_uri": "https://localhost:8080/",
          "height": 445
        },
        "outputId": "28219913-b8b0-4d5b-edd9-857b7f07148b"
      },
      "outputs": [
        {
          "output_type": "display_data",
          "data": {
            "text/plain": [
              "<Figure size 1200x500 with 2 Axes>"
            ],
            "image/png": "[encoded data removed]"
          },
          "metadata": {}
        }
      ],
      "source": [
        "#CoapplicantIncome\n",
        "fig = plt.figure(figsize=(12,5))\n",
        "ax = fig.add_subplot(121)\n",
        "ax.hist(removeNA_df['CoapplicantIncome'])\n",
        "\n",
        "ax = fig.add_subplot(122)\n",
        "ax.boxplot(removeNA_df['CoapplicantIncome'])\n",
        "plt.show()"
      ]
    },
    {
      "cell_type": "code",
      "execution_count": 22,
      "metadata": {
        "tags": [],
        "id": "8t-D3ARN7Yhk"
      },
      "outputs": [],
      "source": [
        "outliers_3 = 'yes'\n",
        "skew_3 = 'right'"
      ]
    },
    {
      "cell_type": "code",
      "execution_count": 23,
      "metadata": {
        "id": "ryBLLpCQK-mA",
        "tags": [],
        "colab": {
          "base_uri": "https://localhost:8080/",
          "height": 449
        },
        "outputId": "163e37d6-5c8d-4426-963e-adc70d5aefb9"
      },
      "outputs": [
        {
          "output_type": "display_data",
          "data": {
            "text/plain": [
              "<Figure size 1200x500 with 2 Axes>"
            ],
            "image/png": "[encoded data removed]"
          },
          "metadata": {}
        }
      ],
      "source": [
        "#Loan_Amount_Term\n",
        "fig = plt.figure(figsize=(12,5))\n",
        "ax = fig.add_subplot(121)\n",
        "ax.hist(removeNA_df['Loan_Amount_Term'])\n",
        "\n",
        "ax = fig.add_subplot(122)\n",
        "ax.boxplot(removeNA_df['Loan_Amount_Term'])\n",
        "plt.show()"
      ]
    },
    {
      "cell_type": "code",
      "execution_count": 24,
      "metadata": {
        "tags": [],
        "id": "Pt1BRCS-7Yhl"
      },
      "outputs": [],
      "source": [
        "outliers_4 = 'yes'\n",
        "amount_of_outliers = 'not much'"
      ]
    },
    {
      "cell_type": "markdown",
      "metadata": {
        "id": "vOxfV4JS7Yhl"
      },
      "source": [
        "Perform CrossTabing between Gender and Loan_Status, and then plot the acceptance/rejection of loans for different Genders, and check whether Gender affects the Loan Status. Then do the same crosstabbing between the other variables (as specified) and Loan_Status, and analyze for each variable whether it affects the Loan Status or no.\n",
        "\n",
        "**Note:** Don't forget to use the removeNA_df to derive your crosstabs"
      ]
    },
    {
      "cell_type": "code",
      "execution_count": 25,
      "metadata": {
        "id": "vKEkDE5bK-mI",
        "tags": [],
        "colab": {
          "base_uri": "https://localhost:8080/",
          "height": 573
        },
        "outputId": "47bdea97-d4ac-409f-e0a3-a3dbbf24e4a9"
      },
      "outputs": [
        {
          "output_type": "stream",
          "name": "stdout",
          "text": [
            "Loan_Status    N    Y\n",
            "Gender               \n",
            "Female        37   75\n",
            "Male         150  339\n"
          ]
        },
        {
          "output_type": "execute_result",
          "data": {
            "text/plain": [
              "<Axes: xlabel='Gender'>"
            ]
          },
          "metadata": {},
          "execution_count": 25
        },
        {
          "output_type": "display_data",
          "data": {
            "text/plain": [
              "<Figure size 640x480 with 1 Axes>"
            ],
            "image/png": "[encoded data removed]"
          },
          "metadata": {}
        }
      ],
      "source": [
        "Gender = pd.crosstab(df.Gender,df.Loan_Status)\n",
        "print(Gender)\n",
        "Gender.plot(kind='bar',stacked=True)"
      ]
    },
    {
      "cell_type": "code",
      "execution_count": 26,
      "metadata": {
        "id": "P_GMY0r_K-mK",
        "tags": [],
        "colab": {
          "base_uri": "https://localhost:8080/",
          "height": 545
        },
        "outputId": "fffbe79e-2276-4673-b2b8-b12cd46fe3ce"
      },
      "outputs": [
        {
          "output_type": "stream",
          "name": "stdout",
          "text": [
            "Loan_Status      N    Y\n",
            "Credit_History         \n",
            "0.0             82    7\n",
            "1.0             97  378\n"
          ]
        },
        {
          "output_type": "execute_result",
          "data": {
            "text/plain": [
              "<Axes: xlabel='Credit_History'>"
            ]
          },
          "metadata": {},
          "execution_count": 26
        },
        {
          "output_type": "display_data",
          "data": {
            "text/plain": [
              "<Figure size 640x480 with 1 Axes>"
            ],
            "image/png": "[encoded data removed]"
          },
          "metadata": {}
        }
      ],
      "source": [
        "Credit_History=pd.crosstab(df.Credit_History,df.Loan_Status)\n",
        "print(Credit_History)\n",
        "Credit_History.plot(kind='bar',stacked=True)"
      ]
    },
    {
      "cell_type": "code",
      "execution_count": 27,
      "metadata": {
        "id": "bGyaa6z3K-mO",
        "tags": [],
        "colab": {
          "base_uri": "https://localhost:8080/",
          "height": 578
        },
        "outputId": "4693ce2c-5a98-48db-83f9-d1dd12eab54c"
      },
      "outputs": [
        {
          "output_type": "stream",
          "name": "stdout",
          "text": [
            "Loan_Status    N    Y\n",
            "Dependents           \n",
            "0            107  238\n",
            "1             36   66\n",
            "2             25   76\n",
            "3+            18   33\n"
          ]
        },
        {
          "output_type": "execute_result",
          "data": {
            "text/plain": [
              "<Axes: xlabel='Dependents'>"
            ]
          },
          "metadata": {},
          "execution_count": 27
        },
        {
          "output_type": "display_data",
          "data": {
            "text/plain": [
              "<Figure size 640x480 with 1 Axes>"
            ],
            "image/png": "[encoded data removed]"
          },
          "metadata": {}
        }
      ],
      "source": [
        "Dependents=pd.crosstab(df.Dependents,df.Loan_Status)\n",
        "print(Dependents)\n",
        "Dependents.plot(kind='bar',stacked=True)"
      ]
    },
    {
      "cell_type": "code",
      "execution_count": 28,
      "metadata": {
        "id": "BKCYwmZSK-mQ",
        "tags": [],
        "colab": {
          "base_uri": "https://localhost:8080/",
          "height": 619
        },
        "outputId": "0cef1996-b1ea-44ce-efda-e3b808ab7465"
      },
      "outputs": [
        {
          "output_type": "stream",
          "name": "stdout",
          "text": [
            "Loan_Status     N    Y\n",
            "Education             \n",
            "Graduate      140  340\n",
            "Not Graduate   52   82\n"
          ]
        },
        {
          "output_type": "execute_result",
          "data": {
            "text/plain": [
              "<Axes: xlabel='Education'>"
            ]
          },
          "metadata": {},
          "execution_count": 28
        },
        {
          "output_type": "display_data",
          "data": {
            "text/plain": [
              "<Figure size 640x480 with 1 Axes>"
            ],
            "image/png": "[encoded data removed]"
          },
          "metadata": {}
        }
      ],
      "source": [
        "Education=pd.crosstab(df.Education,df.Loan_Status)\n",
        "print(Education)\n",
        "Education.plot(kind='bar',stacked=True)"
      ]
    },
    {
      "cell_type": "code",
      "execution_count": 29,
      "metadata": {
        "id": "Oe0AnWl8K-mU",
        "tags": [],
        "colab": {
          "base_uri": "https://localhost:8080/",
          "height": 545
        },
        "outputId": "2eb9358f-1074-4294-e108-44adde80e47c"
      },
      "outputs": [
        {
          "output_type": "stream",
          "name": "stdout",
          "text": [
            "Loan_Status    N    Y\n",
            "Married              \n",
            "No            79  134\n",
            "Yes          113  285\n"
          ]
        },
        {
          "output_type": "execute_result",
          "data": {
            "text/plain": [
              "<Axes: xlabel='Married'>"
            ]
          },
          "metadata": {},
          "execution_count": 29
        },
        {
          "output_type": "display_data",
          "data": {
            "text/plain": [
              "<Figure size 640x480 with 1 Axes>"
            ],
            "image/png": "[encoded data removed]"
          },
          "metadata": {}
        }
      ],
      "source": [
        "Married=pd.crosstab(df.Married,df.Loan_Status)\n",
        "print(Married)\n",
        "Married.plot(kind='bar',stacked=True)"
      ]
    },
    {
      "cell_type": "code",
      "execution_count": 30,
      "metadata": {
        "id": "cYaHhLoeK-mW",
        "tags": [],
        "colab": {
          "base_uri": "https://localhost:8080/",
          "height": 615
        },
        "outputId": "54b4abdd-60cd-4816-ff9b-9f9b21309552"
      },
      "outputs": [
        {
          "output_type": "stream",
          "name": "stdout",
          "text": [
            "Loan_Status     N    Y\n",
            "Property_Area         \n",
            "Rural          69  110\n",
            "Semiurban      54  179\n",
            "Urban          69  133\n"
          ]
        },
        {
          "output_type": "execute_result",
          "data": {
            "text/plain": [
              "<Axes: xlabel='Property_Area'>"
            ]
          },
          "metadata": {},
          "execution_count": 30
        },
        {
          "output_type": "display_data",
          "data": {
            "text/plain": [
              "<Figure size 640x480 with 1 Axes>"
            ],
            "image/png": "[encoded data removed]"
          },
          "metadata": {}
        }
      ],
      "source": [
        "Property_Area=pd.crosstab(df.Property_Area,df.Loan_Status)\n",
        "print(Property_Area)\n",
        "Property_Area.plot(kind='bar',stacked=True)"
      ]
    },
    {
      "cell_type": "code",
      "execution_count": 31,
      "metadata": {
        "id": "pXCGrtKEK-mY",
        "tags": [],
        "colab": {
          "base_uri": "https://localhost:8080/",
          "height": 545
        },
        "outputId": "79787889-507b-40e6-a7d0-ba3a7eebf459"
      },
      "outputs": [
        {
          "output_type": "stream",
          "name": "stdout",
          "text": [
            "Loan_Status      N    Y\n",
            "Self_Employed          \n",
            "No             157  343\n",
            "Yes             26   56\n"
          ]
        },
        {
          "output_type": "execute_result",
          "data": {
            "text/plain": [
              "<Axes: xlabel='Self_Employed'>"
            ]
          },
          "metadata": {},
          "execution_count": 31
        },
        {
          "output_type": "display_data",
          "data": {
            "text/plain": [
              "<Figure size 640x480 with 1 Axes>"
            ],
            "image/png": "[encoded data removed]"
          },
          "metadata": {}
        }
      ],
      "source": [
        "Self_Employed=pd.crosstab(df.Self_Employed,df.Loan_Status)\n",
        "print(Self_Employed)\n",
        "Self_Employed.plot(kind='bar',stacked=True)"
      ]
    },
    {
      "cell_type": "markdown",
      "metadata": {
        "id": "cKXHH8ue7Yho"
      },
      "source": [
        "**You will use your reaasoning of whether a variable affects the Loan acceptance or not in order to pick the most important features for your model later on.**"
      ]
    },
    {
      "cell_type": "markdown",
      "metadata": {
        "id": "PJDn5iqu7Yho"
      },
      "source": [
        "Plot a Scatter Plot between Loan_Status and:\n",
        "* ApplicantIncome\n",
        "* CoapplicantIncome\n",
        "* LoanAmount\n",
        "* LoanAmount_Term\n",
        "\n",
        "**One plot per cell!**"
      ]
    },
    {
      "cell_type": "markdown",
      "metadata": {
        "id": "ypiN0VgX7Yhp"
      },
      "source": [
        "Do you think these scatter plots gave you valuable information about the Loan_Status? Answer by \"yes\" or \"no\""
      ]
    },
    {
      "cell_type": "code",
      "execution_count": 32,
      "metadata": {
        "id": "QYx1bcpcK-mb",
        "tags": [],
        "colab": {
          "base_uri": "https://localhost:8080/",
          "height": 447
        },
        "outputId": "4aa265ec-3e76-4a23-ddb8-487bd9c9548a"
      },
      "outputs": [
        {
          "output_type": "execute_result",
          "data": {
            "text/plain": [
              "<matplotlib.collections.PathCollection at 0x7f4f2ee501f0>"
            ]
          },
          "metadata": {},
          "execution_count": 32
        },
        {
          "output_type": "display_data",
          "data": {
            "text/plain": [
              "<Figure size 640x480 with 1 Axes>"
            ],
            "image/png": "[encoded data removed]"
          },
          "metadata": {}
        }
      ],
      "source": [
        "plt.scatter(removeNA_df['Loan_Status'],removeNA_df['ApplicantIncome'])"
      ]
    },
    {
      "cell_type": "code",
      "execution_count": 33,
      "metadata": {
        "id": "J-HJlqYBK-mc",
        "tags": [],
        "colab": {
          "base_uri": "https://localhost:8080/",
          "height": 447
        },
        "outputId": "a27240d7-0922-4a37-b133-cd3f4aaf9e7c"
      },
      "outputs": [
        {
          "output_type": "execute_result",
          "data": {
            "text/plain": [
              "<matplotlib.collections.PathCollection at 0x7f4f2eeae6b0>"
            ]
          },
          "metadata": {},
          "execution_count": 33
        },
        {
          "output_type": "display_data",
          "data": {
            "text/plain": [
              "<Figure size 640x480 with 1 Axes>"
            ],
            "image/png": "[encoded data removed]"
          },
          "metadata": {}
        }
      ],
      "source": [
        "plt.scatter(removeNA_df['Loan_Status'],removeNA_df['CoapplicantIncome'])"
      ]
    },
    {
      "cell_type": "code",
      "execution_count": 34,
      "metadata": {
        "id": "n6nlooYVK-mf",
        "tags": [],
        "colab": {
          "base_uri": "https://localhost:8080/",
          "height": 447
        },
        "outputId": "a9c1a7c1-a23e-4c7f-f966-aba494667e33"
      },
      "outputs": [
        {
          "output_type": "execute_result",
          "data": {
            "text/plain": [
              "<matplotlib.collections.PathCollection at 0x7f4f2ed40370>"
            ]
          },
          "metadata": {},
          "execution_count": 34
        },
        {
          "output_type": "display_data",
          "data": {
            "text/plain": [
              "<Figure size 640x480 with 1 Axes>"
            ],
            "image/png": "[encoded data removed]"
          },
          "metadata": {}
        }
      ],
      "source": [
        "plt.scatter(removeNA_df['Loan_Status'],removeNA_df['LoanAmount'])"
      ]
    },
    {
      "cell_type": "code",
      "execution_count": 35,
      "metadata": {
        "id": "PBpJ7-FZK-mh",
        "tags": [],
        "colab": {
          "base_uri": "https://localhost:8080/",
          "height": 451
        },
        "outputId": "d5b9b98f-9b09-4c24-f25c-4767faff63b4"
      },
      "outputs": [
        {
          "output_type": "execute_result",
          "data": {
            "text/plain": [
              "<matplotlib.collections.PathCollection at 0x7f4f2ed8d990>"
            ]
          },
          "metadata": {},
          "execution_count": 35
        },
        {
          "output_type": "display_data",
          "data": {
            "text/plain": [
              "<Figure size 640x480 with 1 Axes>"
            ],
            "image/png": "[encoded data removed]"
          },
          "metadata": {}
        }
      ],
      "source": [
        "plt.scatter(removeNA_df['Loan_Status'],removeNA_df['Loan_Amount_Term'])"
      ]
    },
    {
      "cell_type": "code",
      "execution_count": 36,
      "metadata": {
        "tags": [],
        "id": "85ZIanrW7Yhq"
      },
      "outputs": [],
      "source": [
        "were_scatter_plots_helpful = \"no\""
      ]
    },
    {
      "cell_type": "markdown",
      "metadata": {
        "id": "or7lTF2i7Yhq"
      },
      "source": [
        "Group your dataframe by Loan_Status on the **median** Value"
      ]
    },
    {
      "cell_type": "code",
      "execution_count": 37,
      "metadata": {
        "id": "ye81y7MNK-mj",
        "tags": [],
        "colab": {
          "base_uri": "https://localhost:8080/"
        },
        "outputId": "3eecaa34-804d-47f7-b843-1bd47ee3dc39"
      },
      "outputs": [
        {
          "output_type": "stream",
          "name": "stdout",
          "text": [
            "             ApplicantIncome  CoapplicantIncome  LoanAmount  Loan_Amount_Term  \\\n",
            "Loan_Status                                                                     \n",
            "N                     3833.5              268.0       129.0             360.0   \n",
            "Y                     3812.5             1239.5       126.0             360.0   \n",
            "\n",
            "             Credit_History  \n",
            "Loan_Status                  \n",
            "N                       1.0  \n",
            "Y                       1.0  \n"
          ]
        }
      ],
      "source": [
        "median_df = df.groupby('Loan_Status').median()\n",
        "print(median_df)"
      ]
    },
    {
      "cell_type": "markdown",
      "metadata": {
        "id": "8U4XVOnoK-ml"
      },
      "source": [
        "What did you deduce?"
      ]
    },
    {
      "cell_type": "markdown",
      "metadata": {
        "id": "muGHpS_s7Yhs"
      },
      "source": [
        "That the median of loan_status is very close or equal between (ApplicantIncome ,LoanAmount , Loan_Amount_Term and Credit_History ) however we can see that the median of coapplicantIncome is very different.\n",
        "We can deduce that the CoapplicantIncome has a strong effect on the approval/rejection of the loan while the other features are not as important."
      ]
    },
    {
      "cell_type": "markdown",
      "metadata": {
        "id": "PuiYEDpYK-mm"
      },
      "source": [
        "# 5. Preprocessing\n",
        "\"Garbage in, garbage out\".\n",
        "<br>\n",
        "<br>\n",
        "Data should be preprocessed and cleaned to get rid of noisy data. Preprocessing includes:\n",
        "\n",
        "- remove unsued column(s)\n",
        "- remove grabage data\n",
        "- convert continous data into categorical\n",
        "- treat missing data\n",
        "- encode categorical data\n",
        "- normalization: normalize data ranges for all features (e.g., between 0 and 1)"
      ]
    },
    {
      "cell_type": "markdown",
      "metadata": {
        "id": "JGumTAZLK-mm"
      },
      "source": [
        "## Remove unused columns"
      ]
    },
    {
      "cell_type": "markdown",
      "metadata": {
        "id": "GGjc4JqB7Yht"
      },
      "source": [
        "Remove the features that do not contribute to the prediction of the loan status, and save the results in a new dataframe called **new_df**"
      ]
    },
    {
      "cell_type": "code",
      "execution_count": 38,
      "metadata": {
        "id": "Aw3LlHX1K-mn",
        "tags": []
      },
      "outputs": [],
      "source": [
        "new_df = df.drop(['Loan_ID','Gender','Self_Employed','ApplicantIncome','LoanAmount','Loan_Amount_Term'],axis=1)"
      ]
    },
    {
      "cell_type": "markdown",
      "metadata": {
        "id": "vgIxDdBrK-mp"
      },
      "source": [
        "## Remove grabage data"
      ]
    },
    {
      "cell_type": "markdown",
      "metadata": {
        "id": "6Xx2o4wD7Yhu"
      },
      "source": [
        "If you go back to one of the EDA steps where you saw the unique values of Dependents, you can see that you have '3+' as a value. In order to make the algorithm learn from such information, you have to replace this with a number. We will replace it by 3."
      ]
    },
    {
      "cell_type": "code",
      "execution_count": 39,
      "metadata": {
        "id": "x55J60oFK-mq",
        "tags": []
      },
      "outputs": [],
      "source": [
        "new_df.Dependents = df['Dependents'].replace('3+',3)"
      ]
    },
    {
      "cell_type": "markdown",
      "metadata": {
        "id": "oBpOQ6MVK-mr"
      },
      "source": [
        "## Convert continous data into categorical"
      ]
    },
    {
      "cell_type": "markdown",
      "metadata": {
        "id": "fqlb-NSc7Yhv"
      },
      "source": [
        "Search for the feature that is contionuous but should be categorical and convert it"
      ]
    },
    {
      "cell_type": "code",
      "execution_count": 40,
      "metadata": {
        "id": "UATLaXcwK-ms",
        "tags": [],
        "colab": {
          "base_uri": "https://localhost:8080/"
        },
        "outputId": "8b024480-8142-42e9-e8d8-7fdd0284e0cf"
      },
      "outputs": [
        {
          "output_type": "stream",
          "name": "stdout",
          "text": [
            "<class 'pandas.core.frame.DataFrame'>\n",
            "Int64Index: 614 entries, 0 to 512\n",
            "Data columns (total 7 columns):\n",
            " #   Column             Non-Null Count  Dtype   \n",
            "---  ------             --------------  -----   \n",
            " 0   Married            611 non-null    object  \n",
            " 1   Dependents         599 non-null    object  \n",
            " 2   Education          614 non-null    object  \n",
            " 3   CoapplicantIncome  614 non-null    float64 \n",
            " 4   Credit_History     564 non-null    category\n",
            " 5   Property_Area      614 non-null    object  \n",
            " 6   Loan_Status        614 non-null    object  \n",
            "dtypes: category(1), float64(1), object(5)\n",
            "memory usage: 34.3+ KB\n"
          ]
        }
      ],
      "source": [
        "feature_to_convert = 'Credit_History' #Write the Feature Name AS IT IS in the dataset, as a string\n",
        "new_df[feature_to_convert] = new_df['Credit_History'].astype('category')\n",
        "new_df.info()"
      ]
    },
    {
      "cell_type": "markdown",
      "metadata": {
        "id": "RpDPJgQzK-mu"
      },
      "source": [
        "## Treat missing data\n",
        "- fill missing categorical data & discrete data with mode\n",
        "- fill missing continous data with mean\n"
      ]
    },
    {
      "cell_type": "code",
      "execution_count": 41,
      "metadata": {
        "id": "1ifJSObwK-mv",
        "tags": [],
        "colab": {
          "base_uri": "https://localhost:8080/"
        },
        "outputId": "3f057e72-ad4c-4f73-b82b-0692150cf069"
      },
      "outputs": [
        {
          "output_type": "stream",
          "name": "stdout",
          "text": [
            "Married               3\n",
            "Dependents           15\n",
            "Education             0\n",
            "CoapplicantIncome     0\n",
            "Credit_History       50\n",
            "Property_Area         0\n",
            "Loan_Status           0\n",
            "dtype: int64\n",
            "<class 'pandas.core.frame.DataFrame'>\n",
            "Int64Index: 614 entries, 0 to 512\n",
            "Data columns (total 7 columns):\n",
            " #   Column             Non-Null Count  Dtype   \n",
            "---  ------             --------------  -----   \n",
            " 0   Married            614 non-null    object  \n",
            " 1   Dependents         614 non-null    object  \n",
            " 2   Education          614 non-null    object  \n",
            " 3   CoapplicantIncome  614 non-null    float64 \n",
            " 4   Credit_History     614 non-null    category\n",
            " 5   Property_Area      614 non-null    object  \n",
            " 6   Loan_Status        614 non-null    object  \n",
            "dtypes: category(1), float64(1), object(5)\n",
            "memory usage: 34.3+ KB\n"
          ]
        }
      ],
      "source": [
        "col_with_missing_values = new_df.isnull().sum()\n",
        "print(col_with_missing_values)\n",
        "#To check which features has missing values and we only have for married , dependants and credit_history\n",
        "\n",
        "new_df['Married'].fillna(new_df['Married'].mode()[0], inplace=True)\n",
        "new_df['Dependents'].fillna(new_df['Dependents'].mode()[0], inplace=True)\n",
        "new_df['Credit_History'].fillna(new_df['Credit_History'].mode()[0], inplace=True)\n",
        "\n",
        "new_df.info()\n"
      ]
    },
    {
      "cell_type": "markdown",
      "metadata": {
        "id": "p-aMmUFxK-m0"
      },
      "source": [
        "## Encode categorical data"
      ]
    },
    {
      "cell_type": "markdown",
      "metadata": {
        "id": "sFNsJ2eO7Yhx"
      },
      "source": [
        "Create a dataframe \"cat_data\" that contains your categorical variables, and a dataframe \"num_data\" that contains your numerical variables. Go over your categorical features and encode them (change their values to be numerical to be able to feed them to an algorithm and get a model in the end)"
      ]
    },
    {
      "cell_type": "code",
      "execution_count": 42,
      "metadata": {
        "id": "eP1emO7hK-m0",
        "tags": [],
        "colab": {
          "base_uri": "https://localhost:8080/",
          "height": 270
        },
        "outputId": "4199ae4e-f109-4ff9-aaa4-8c57a4f0841e"
      },
      "outputs": [
        {
          "output_type": "execute_result",
          "data": {
            "text/plain": [
              "   Credit_History  Education  Married  Property_Area  Loan_Status  Dependents\n",
              "0               1          0        1              1            0           0\n",
              "1               1          0        0              0            0           0\n",
              "2               1          0        1              0            1           3\n",
              "3               1          0        1              1            1           2\n",
              "4               0          1        1              1            0           0"
            ],
            "text/html": [
              "\n",
              "  <div id=\"df-6626015c-b4e2-46d8-9bea-302c2d3ab625\">\n",
              "    <div class=\"colab-df-container\">\n",
              "      <div>\n",
              "<style scoped>\n",
              "    .dataframe tbody tr th:only-of-type {\n",
              "        vertical-align: middle;\n",
              "    }\n",
              "\n",
              "    .dataframe tbody tr th {\n",
              "        vertical-align: top;\n",
              "    }\n",
              "\n",
              "    .dataframe thead th {\n",
              "        text-align: right;\n",
              "    }\n",
              "</style>\n",
              "<table border=\"1\" class=\"dataframe\">\n",
              "  <thead>\n",
              "    <tr style=\"text-align: right;\">\n",
              "      <th></th>\n",
              "      <th>Credit_History</th>\n",
              "      <th>Education</th>\n",
              "      <th>Married</th>\n",
              "      <th>Property_Area</th>\n",
              "      <th>Loan_Status</th>\n",
              "      <th>Dependents</th>\n",
              "    </tr>\n",
              "  </thead>\n",
              "  <tbody>\n",
              "    <tr>\n",
              "      <th>0</th>\n",
              "      <td>1</td>\n",
              "      <td>0</td>\n",
              "      <td>1</td>\n",
              "      <td>1</td>\n",
              "      <td>0</td>\n",
              "      <td>0</td>\n",
              "    </tr>\n",
              "    <tr>\n",
              "      <th>1</th>\n",
              "      <td>1</td>\n",
              "      <td>0</td>\n",
              "      <td>0</td>\n",
              "      <td>0</td>\n",
              "      <td>0</td>\n",
              "      <td>0</td>\n",
              "    </tr>\n",
              "    <tr>\n",
              "      <th>2</th>\n",
              "      <td>1</td>\n",
              "      <td>0</td>\n",
              "      <td>1</td>\n",
              "      <td>0</td>\n",
              "      <td>1</td>\n",
              "      <td>3</td>\n",
              "    </tr>\n",
              "    <tr>\n",
              "      <th>3</th>\n",
              "      <td>1</td>\n",
              "      <td>0</td>\n",
              "      <td>1</td>\n",
              "      <td>1</td>\n",
              "      <td>1</td>\n",
              "      <td>2</td>\n",
              "    </tr>\n",
              "    <tr>\n",
              "      <th>4</th>\n",
              "      <td>0</td>\n",
              "      <td>1</td>\n",
              "      <td>1</td>\n",
              "      <td>1</td>\n",
              "      <td>0</td>\n",
              "      <td>0</td>\n",
              "    </tr>\n",
              "  </tbody>\n",
              "</table>\n",
              "</div>\n",
              "      <button class=\"colab-df-convert\" onclick=\"convertToInteractive('df-6626015c-b4e2-46d8-9bea-302c2d3ab625')\"\n",
              "              title=\"Convert this dataframe to an interactive table.\"\n",
              "              style=\"display:none;\">\n",
              "        \n",
              "  <svg xmlns=\"http://www.w3.org/2000/svg\" height=\"24px\"viewBox=\"0 0 24 24\"\n",
              "       width=\"24px\">\n",
              "    <path d=\"M0 0h24v24H0V0z\" fill=\"none\"/>\n",
              "    <path d=\"M18.56 5.44l.94 2.06.94-2.06 2.06-.94-2.06-.94-.94-2.06-.94 2.06-2.06.94zm-11 1L8.5 8.5l.94-2.06 2.06-.94-2.06-.94L8.5 2.5l-.94 2.06-2.06.94zm10 10l.94 2.06.94-2.06 2.06-.94-2.06-.94-.94-2.06-.94 2.06-2.06.94z\"/><path d=\"M17.41 7.96l-1.37-1.37c-.4-.4-.92-.59-1.43-.59-.52 0-1.04.2-1.43.59L10.3 9.45l-7.72 7.72c-.78.78-.78 2.05 0 2.83L4 21.41c.39.39.9.59 1.41.59.51 0 1.02-.2 1.41-.59l7.78-7.78 2.81-2.81c.8-.78.8-2.07 0-2.86zM5.41 20L4 18.59l7.72-7.72 1.47 1.35L5.41 20z\"/>\n",
              "  </svg>\n",
              "      </button>\n",
              "      \n",
              "  <style>\n",
              "    .colab-df-container {\n",
              "      display:flex;\n",
              "      flex-wrap:wrap;\n",
              "      gap: 12px;\n",
              "    }\n",
              "\n",
              "    .colab-df-convert {\n",
              "      background-color: #E8F0FE;\n",
              "      border: none;\n",
              "      border-radius: 50%;\n",
              "      cursor: pointer;\n",
              "      display: none;\n",
              "      fill: #1967D2;\n",
              "      height: 32px;\n",
              "      padding: 0 0 0 0;\n",
              "      width: 32px;\n",
              "    }\n",
              "\n",
              "    .colab-df-convert:hover {\n",
              "      background-color: #E2EBFA;\n",
              "      box-shadow: 0px 1px 2px rgba(60, 64, 67, 0.3), 0px 1px 3px 1px rgba(60, 64, 67, 0.15);\n",
              "      fill: #174EA6;\n",
              "    }\n",
              "\n",
              "    [theme=dark] .colab-df-convert {\n",
              "      background-color: #3B4455;\n",
              "      fill: #D2E3FC;\n",
              "    }\n",
              "\n",
              "    [theme=dark] .colab-df-convert:hover {\n",
              "      background-color: #434B5C;\n",
              "      box-shadow: 0px 1px 3px 1px rgba(0, 0, 0, 0.15);\n",
              "      filter: drop-shadow(0px 1px 2px rgba(0, 0, 0, 0.3));\n",
              "      fill: #FFFFFF;\n",
              "    }\n",
              "  </style>\n",
              "\n",
              "      <script>\n",
              "        const buttonEl =\n",
              "          document.querySelector('#df-6626015c-b4e2-46d8-9bea-302c2d3ab625 button.colab-df-convert');\n",
              "        buttonEl.style.display =\n",
              "          google.colab.kernel.accessAllowed ? 'block' : 'none';\n",
              "\n",
              "        async function convertToInteractive(key) {\n",
              "          const element = document.querySelector('#df-6626015c-b4e2-46d8-9bea-302c2d3ab625');\n",
              "          const dataTable =\n",
              "            await google.colab.kernel.invokeFunction('convertToInteractive',\n",
              "                                                     [key], {});\n",
              "          if (!dataTable) return;\n",
              "\n",
              "          const docLinkHtml = 'Like what you see? Visit the ' +\n",
              "            '<a target=\"_blank\" href=https://colab.research.google.com/notebooks/data_table.ipynb>data table notebook</a>'\n",
              "            + ' to learn more about interactive tables.';\n",
              "          element.innerHTML = '';\n",
              "          dataTable['output_type'] = 'display_data';\n",
              "          await google.colab.output.renderOutput(dataTable, element);\n",
              "          const docLink = document.createElement('div');\n",
              "          docLink.innerHTML = docLinkHtml;\n",
              "          element.appendChild(docLink);\n",
              "        }\n",
              "      </script>\n",
              "    </div>\n",
              "  </div>\n",
              "  "
            ]
          },
          "metadata": {},
          "execution_count": 42
        }
      ],
      "source": [
        "from sklearn.preprocessing import LabelEncoder\n",
        "le = LabelEncoder()\n",
        "cat_data=new_df[['Credit_History','Education','Married','Property_Area','Loan_Status']]#had to\n",
        "#remove dependents for now because it was giving me error as it is already encoded\n",
        "num_data=new_df[['CoapplicantIncome']]\n",
        "for i in cat_data:\n",
        "    cat_data[i] = le.fit_transform(cat_data[i])\n",
        "cat_data = pd.concat([cat_data,new_df['Dependents']], axis = 1)\n",
        "cat_data['Dependents'] = cat_data['Dependents'].astype(int)\n",
        "#pd.concat(cat_data,new_df['Dependents'])\n",
        "cat_data.head()\n"
      ]
    },
    {
      "cell_type": "markdown",
      "metadata": {
        "id": "T1jU9d28K-m4"
      },
      "source": [
        ":Combine both cat_data and num_data into 1 dataframe named **final_df**"
      ]
    },
    {
      "cell_type": "code",
      "execution_count": 43,
      "metadata": {
        "id": "8Dl3xeaLK-m5",
        "tags": [],
        "colab": {
          "base_uri": "https://localhost:8080/",
          "height": 270
        },
        "outputId": "3fd70950-acc3-41a3-ebb4-11fac08335a6"
      },
      "outputs": [
        {
          "output_type": "execute_result",
          "data": {
            "text/plain": [
              "   CoapplicantIncome  Credit_History  Education  Married  Property_Area  \\\n",
              "0             6666.0               1          0        1              1   \n",
              "1             3666.0               1          0        0              0   \n",
              "2             3428.0               1          0        1              0   \n",
              "3             1632.0               1          0        1              1   \n",
              "4             1800.0               0          1        1              1   \n",
              "\n",
              "   Loan_Status  Dependents  \n",
              "0            0           0  \n",
              "1            0           0  \n",
              "2            1           3  \n",
              "3            1           2  \n",
              "4            0           0  "
            ],
            "text/html": [
              "\n",
              "  <div id=\"df-fd6fa48f-fa14-462d-8188-68f3ffceb7f3\">\n",
              "    <div class=\"colab-df-container\">\n",
              "      <div>\n",
              "<style scoped>\n",
              "    .dataframe tbody tr th:only-of-type {\n",
              "        vertical-align: middle;\n",
              "    }\n",
              "\n",
              "    .dataframe tbody tr th {\n",
              "        vertical-align: top;\n",
              "    }\n",
              "\n",
              "    .dataframe thead th {\n",
              "        text-align: right;\n",
              "    }\n",
              "</style>\n",
              "<table border=\"1\" class=\"dataframe\">\n",
              "  <thead>\n",
              "    <tr style=\"text-align: right;\">\n",
              "      <th></th>\n",
              "      <th>CoapplicantIncome</th>\n",
              "      <th>Credit_History</th>\n",
              "      <th>Education</th>\n",
              "      <th>Married</th>\n",
              "      <th>Property_Area</th>\n",
              "      <th>Loan_Status</th>\n",
              "      <th>Dependents</th>\n",
              "    </tr>\n",
              "  </thead>\n",
              "  <tbody>\n",
              "    <tr>\n",
              "      <th>0</th>\n",
              "      <td>6666.0</td>\n",
              "      <td>1</td>\n",
              "      <td>0</td>\n",
              "      <td>1</td>\n",
              "      <td>1</td>\n",
              "      <td>0</td>\n",
              "      <td>0</td>\n",
              "    </tr>\n",
              "    <tr>\n",
              "      <th>1</th>\n",
              "      <td>3666.0</td>\n",
              "      <td>1</td>\n",
              "      <td>0</td>\n",
              "      <td>0</td>\n",
              "      <td>0</td>\n",
              "      <td>0</td>\n",
              "      <td>0</td>\n",
              "    </tr>\n",
              "    <tr>\n",
              "      <th>2</th>\n",
              "      <td>3428.0</td>\n",
              "      <td>1</td>\n",
              "      <td>0</td>\n",
              "      <td>1</td>\n",
              "      <td>0</td>\n",
              "      <td>1</td>\n",
              "      <td>3</td>\n",
              "    </tr>\n",
              "    <tr>\n",
              "      <th>3</th>\n",
              "      <td>1632.0</td>\n",
              "      <td>1</td>\n",
              "      <td>0</td>\n",
              "      <td>1</td>\n",
              "      <td>1</td>\n",
              "      <td>1</td>\n",
              "      <td>2</td>\n",
              "    </tr>\n",
              "    <tr>\n",
              "      <th>4</th>\n",
              "      <td>1800.0</td>\n",
              "      <td>0</td>\n",
              "      <td>1</td>\n",
              "      <td>1</td>\n",
              "      <td>1</td>\n",
              "      <td>0</td>\n",
              "      <td>0</td>\n",
              "    </tr>\n",
              "  </tbody>\n",
              "</table>\n",
              "</div>\n",
              "      <button class=\"colab-df-convert\" onclick=\"convertToInteractive('df-fd6fa48f-fa14-462d-8188-68f3ffceb7f3')\"\n",
              "              title=\"Convert this dataframe to an interactive table.\"\n",
              "              style=\"display:none;\">\n",
              "        \n",
              "  <svg xmlns=\"http://www.w3.org/2000/svg\" height=\"24px\"viewBox=\"0 0 24 24\"\n",
              "       width=\"24px\">\n",
              "    <path d=\"M0 0h24v24H0V0z\" fill=\"none\"/>\n",
              "    <path d=\"M18.56 5.44l.94 2.06.94-2.06 2.06-.94-2.06-.94-.94-2.06-.94 2.06-2.06.94zm-11 1L8.5 8.5l.94-2.06 2.06-.94-2.06-.94L8.5 2.5l-.94 2.06-2.06.94zm10 10l.94 2.06.94-2.06 2.06-.94-2.06-.94-.94-2.06-.94 2.06-2.06.94z\"/><path d=\"M17.41 7.96l-1.37-1.37c-.4-.4-.92-.59-1.43-.59-.52 0-1.04.2-1.43.59L10.3 9.45l-7.72 7.72c-.78.78-.78 2.05 0 2.83L4 21.41c.39.39.9.59 1.41.59.51 0 1.02-.2 1.41-.59l7.78-7.78 2.81-2.81c.8-.78.8-2.07 0-2.86zM5.41 20L4 18.59l7.72-7.72 1.47 1.35L5.41 20z\"/>\n",
              "  </svg>\n",
              "      </button>\n",
              "      \n",
              "  <style>\n",
              "    .colab-df-container {\n",
              "      display:flex;\n",
              "      flex-wrap:wrap;\n",
              "      gap: 12px;\n",
              "    }\n",
              "\n",
              "    .colab-df-convert {\n",
              "      background-color: #E8F0FE;\n",
              "      border: none;\n",
              "      border-radius: 50%;\n",
              "      cursor: pointer;\n",
              "      display: none;\n",
              "      fill: #1967D2;\n",
              "      height: 32px;\n",
              "      padding: 0 0 0 0;\n",
              "      width: 32px;\n",
              "    }\n",
              "\n",
              "    .colab-df-convert:hover {\n",
              "      background-color: #E2EBFA;\n",
              "      box-shadow: 0px 1px 2px rgba(60, 64, 67, 0.3), 0px 1px 3px 1px rgba(60, 64, 67, 0.15);\n",
              "      fill: #174EA6;\n",
              "    }\n",
              "\n",
              "    [theme=dark] .colab-df-convert {\n",
              "      background-color: #3B4455;\n",
              "      fill: #D2E3FC;\n",
              "    }\n",
              "\n",
              "    [theme=dark] .colab-df-convert:hover {\n",
              "      background-color: #434B5C;\n",
              "      box-shadow: 0px 1px 3px 1px rgba(0, 0, 0, 0.15);\n",
              "      filter: drop-shadow(0px 1px 2px rgba(0, 0, 0, 0.3));\n",
              "      fill: #FFFFFF;\n",
              "    }\n",
              "  </style>\n",
              "\n",
              "      <script>\n",
              "        const buttonEl =\n",
              "          document.querySelector('#df-fd6fa48f-fa14-462d-8188-68f3ffceb7f3 button.colab-df-convert');\n",
              "        buttonEl.style.display =\n",
              "          google.colab.kernel.accessAllowed ? 'block' : 'none';\n",
              "\n",
              "        async function convertToInteractive(key) {\n",
              "          const element = document.querySelector('#df-fd6fa48f-fa14-462d-8188-68f3ffceb7f3');\n",
              "          const dataTable =\n",
              "            await google.colab.kernel.invokeFunction('convertToInteractive',\n",
              "                                                     [key], {});\n",
              "          if (!dataTable) return;\n",
              "\n",
              "          const docLinkHtml = 'Like what you see? Visit the ' +\n",
              "            '<a target=\"_blank\" href=https://colab.research.google.com/notebooks/data_table.ipynb>data table notebook</a>'\n",
              "            + ' to learn more about interactive tables.';\n",
              "          element.innerHTML = '';\n",
              "          dataTable['output_type'] = 'display_data';\n",
              "          await google.colab.output.renderOutput(dataTable, element);\n",
              "          const docLink = document.createElement('div');\n",
              "          docLink.innerHTML = docLinkHtml;\n",
              "          element.appendChild(docLink);\n",
              "        }\n",
              "      </script>\n",
              "    </div>\n",
              "  </div>\n",
              "  "
            ]
          },
          "metadata": {},
          "execution_count": 43
        }
      ],
      "source": [
        "final_df = pd.concat([num_data,cat_data],axis=1)\n",
        "final_df.head()"
      ]
    },
    {
      "cell_type": "markdown",
      "metadata": {
        "id": "qjg5n5OfK-m8"
      },
      "source": [
        "## Normalization"
      ]
    },
    {
      "cell_type": "markdown",
      "metadata": {
        "id": "Xkzk1XJBCdUm"
      },
      "source": [
        "Normalize data ranges for all features (e.g., between 0 and 1)\n",
        "First compute the maximum of each feature, and then divide each column by its maximum. After it, describe the data"
      ]
    },
    {
      "cell_type": "code",
      "execution_count": 44,
      "metadata": {
        "id": "ds4Z9Ya1K-m-",
        "tags": [],
        "colab": {
          "base_uri": "https://localhost:8080/",
          "height": 488
        },
        "outputId": "fa22e502-42ad-4907-f522-e7dd20614c99"
      },
      "outputs": [
        {
          "output_type": "execute_result",
          "data": {
            "text/plain": [
              "     CoapplicantIncome  Credit_History  Education  Married  Property_Area  \\\n",
              "0             0.159983             1.0        0.0      1.0            0.5   \n",
              "1             0.087983             1.0        0.0      0.0            0.0   \n",
              "2             0.082271             1.0        0.0      1.0            0.0   \n",
              "3             0.039168             1.0        0.0      1.0            0.5   \n",
              "4             0.043200             0.0        1.0      1.0            0.5   \n",
              "..                 ...             ...        ...      ...            ...   \n",
              "508           0.072311             1.0        0.0      1.0            1.0   \n",
              "509           0.000000             1.0        0.0      0.0            1.0   \n",
              "510           0.030888             1.0        1.0      0.0            0.0   \n",
              "511           0.048096             1.0        0.0      1.0            0.5   \n",
              "512           0.048840             1.0        0.0      1.0            1.0   \n",
              "\n",
              "     Loan_Status  Dependents  \n",
              "0            0.0    0.000000  \n",
              "1            0.0    0.000000  \n",
              "2            1.0    1.000000  \n",
              "3            1.0    0.666667  \n",
              "4            0.0    0.000000  \n",
              "..           ...         ...  \n",
              "508          1.0    0.000000  \n",
              "509          1.0    0.333333  \n",
              "510          0.0    0.000000  \n",
              "511          1.0    0.333333  \n",
              "512          1.0    0.666667  \n",
              "\n",
              "[614 rows x 7 columns]"
            ],
            "text/html": [
              "\n",
              "  <div id=\"df-72128964-f027-44fb-8cd9-227f8cc2ff4e\">\n",
              "    <div class=\"colab-df-container\">\n",
              "      <div>\n",
              "<style scoped>\n",
              "    .dataframe tbody tr th:only-of-type {\n",
              "        vertical-align: middle;\n",
              "    }\n",
              "\n",
              "    .dataframe tbody tr th {\n",
              "        vertical-align: top;\n",
              "    }\n",
              "\n",
              "    .dataframe thead th {\n",
              "        text-align: right;\n",
              "    }\n",
              "</style>\n",
              "<table border=\"1\" class=\"dataframe\">\n",
              "  <thead>\n",
              "    <tr style=\"text-align: right;\">\n",
              "      <th></th>\n",
              "      <th>CoapplicantIncome</th>\n",
              "      <th>Credit_History</th>\n",
              "      <th>Education</th>\n",
              "      <th>Married</th>\n",
              "      <th>Property_Area</th>\n",
              "      <th>Loan_Status</th>\n",
              "      <th>Dependents</th>\n",
              "    </tr>\n",
              "  </thead>\n",
              "  <tbody>\n",
              "    <tr>\n",
              "      <th>0</th>\n",
              "      <td>0.159983</td>\n",
              "      <td>1.0</td>\n",
              "      <td>0.0</td>\n",
              "      <td>1.0</td>\n",
              "      <td>0.5</td>\n",
              "      <td>0.0</td>\n",
              "      <td>0.000000</td>\n",
              "    </tr>\n",
              "    <tr>\n",
              "      <th>1</th>\n",
              "      <td>0.087983</td>\n",
              "      <td>1.0</td>\n",
              "      <td>0.0</td>\n",
              "      <td>0.0</td>\n",
              "      <td>0.0</td>\n",
              "      <td>0.0</td>\n",
              "      <td>0.000000</td>\n",
              "    </tr>\n",
              "    <tr>\n",
              "      <th>2</th>\n",
              "      <td>0.082271</td>\n",
              "      <td>1.0</td>\n",
              "      <td>0.0</td>\n",
              "      <td>1.0</td>\n",
              "      <td>0.0</td>\n",
              "      <td>1.0</td>\n",
              "      <td>1.000000</td>\n",
              "    </tr>\n",
              "    <tr>\n",
              "      <th>3</th>\n",
              "      <td>0.039168</td>\n",
              "      <td>1.0</td>\n",
              "      <td>0.0</td>\n",
              "      <td>1.0</td>\n",
              "      <td>0.5</td>\n",
              "      <td>1.0</td>\n",
              "      <td>0.666667</td>\n",
              "    </tr>\n",
              "    <tr>\n",
              "      <th>4</th>\n",
              "      <td>0.043200</td>\n",
              "      <td>0.0</td>\n",
              "      <td>1.0</td>\n",
              "      <td>1.0</td>\n",
              "      <td>0.5</td>\n",
              "      <td>0.0</td>\n",
              "      <td>0.000000</td>\n",
              "    </tr>\n",
              "    <tr>\n",
              "      <th>...</th>\n",
              "      <td>...</td>\n",
              "      <td>...</td>\n",
              "      <td>...</td>\n",
              "      <td>...</td>\n",
              "      <td>...</td>\n",
              "      <td>...</td>\n",
              "      <td>...</td>\n",
              "    </tr>\n",
              "    <tr>\n",
              "      <th>508</th>\n",
              "      <td>0.072311</td>\n",
              "      <td>1.0</td>\n",
              "      <td>0.0</td>\n",
              "      <td>1.0</td>\n",
              "      <td>1.0</td>\n",
              "      <td>1.0</td>\n",
              "      <td>0.000000</td>\n",
              "    </tr>\n",
              "    <tr>\n",
              "      <th>509</th>\n",
              "      <td>0.000000</td>\n",
              "      <td>1.0</td>\n",
              "      <td>0.0</td>\n",
              "      <td>0.0</td>\n",
              "      <td>1.0</td>\n",
              "      <td>1.0</td>\n",
              "      <td>0.333333</td>\n",
              "    </tr>\n",
              "    <tr>\n",
              "      <th>510</th>\n",
              "      <td>0.030888</td>\n",
              "      <td>1.0</td>\n",
              "      <td>1.0</td>\n",
              "      <td>0.0</td>\n",
              "      <td>0.0</td>\n",
              "      <td>0.0</td>\n",
              "      <td>0.000000</td>\n",
              "    </tr>\n",
              "    <tr>\n",
              "      <th>511</th>\n",
              "      <td>0.048096</td>\n",
              "      <td>1.0</td>\n",
              "      <td>0.0</td>\n",
              "      <td>1.0</td>\n",
              "      <td>0.5</td>\n",
              "      <td>1.0</td>\n",
              "      <td>0.333333</td>\n",
              "    </tr>\n",
              "    <tr>\n",
              "      <th>512</th>\n",
              "      <td>0.048840</td>\n",
              "      <td>1.0</td>\n",
              "      <td>0.0</td>\n",
              "      <td>1.0</td>\n",
              "      <td>1.0</td>\n",
              "      <td>1.0</td>\n",
              "      <td>0.666667</td>\n",
              "    </tr>\n",
              "  </tbody>\n",
              "</table>\n",
              "<p>614 rows × 7 columns</p>\n",
              "</div>\n",
              "      <button class=\"colab-df-convert\" onclick=\"convertToInteractive('df-72128964-f027-44fb-8cd9-227f8cc2ff4e')\"\n",
              "              title=\"Convert this dataframe to an interactive table.\"\n",
              "              style=\"display:none;\">\n",
              "        \n",
              "  <svg xmlns=\"http://www.w3.org/2000/svg\" height=\"24px\"viewBox=\"0 0 24 24\"\n",
              "       width=\"24px\">\n",
              "    <path d=\"M0 0h24v24H0V0z\" fill=\"none\"/>\n",
              "    <path d=\"M18.56 5.44l.94 2.06.94-2.06 2.06-.94-2.06-.94-.94-2.06-.94 2.06-2.06.94zm-11 1L8.5 8.5l.94-2.06 2.06-.94-2.06-.94L8.5 2.5l-.94 2.06-2.06.94zm10 10l.94 2.06.94-2.06 2.06-.94-2.06-.94-.94-2.06-.94 2.06-2.06.94z\"/><path d=\"M17.41 7.96l-1.37-1.37c-.4-.4-.92-.59-1.43-.59-.52 0-1.04.2-1.43.59L10.3 9.45l-7.72 7.72c-.78.78-.78 2.05 0 2.83L4 21.41c.39.39.9.59 1.41.59.51 0 1.02-.2 1.41-.59l7.78-7.78 2.81-2.81c.8-.78.8-2.07 0-2.86zM5.41 20L4 18.59l7.72-7.72 1.47 1.35L5.41 20z\"/>\n",
              "  </svg>\n",
              "      </button>\n",
              "      \n",
              "  <style>\n",
              "    .colab-df-container {\n",
              "      display:flex;\n",
              "      flex-wrap:wrap;\n",
              "      gap: 12px;\n",
              "    }\n",
              "\n",
              "    .colab-df-convert {\n",
              "      background-color: #E8F0FE;\n",
              "      border: none;\n",
              "      border-radius: 50%;\n",
              "      cursor: pointer;\n",
              "      display: none;\n",
              "      fill: #1967D2;\n",
              "      height: 32px;\n",
              "      padding: 0 0 0 0;\n",
              "      width: 32px;\n",
              "    }\n",
              "\n",
              "    .colab-df-convert:hover {\n",
              "      background-color: #E2EBFA;\n",
              "      box-shadow: 0px 1px 2px rgba(60, 64, 67, 0.3), 0px 1px 3px 1px rgba(60, 64, 67, 0.15);\n",
              "      fill: #174EA6;\n",
              "    }\n",
              "\n",
              "    [theme=dark] .colab-df-convert {\n",
              "      background-color: #3B4455;\n",
              "      fill: #D2E3FC;\n",
              "    }\n",
              "\n",
              "    [theme=dark] .colab-df-convert:hover {\n",
              "      background-color: #434B5C;\n",
              "      box-shadow: 0px 1px 3px 1px rgba(0, 0, 0, 0.15);\n",
              "      filter: drop-shadow(0px 1px 2px rgba(0, 0, 0, 0.3));\n",
              "      fill: #FFFFFF;\n",
              "    }\n",
              "  </style>\n",
              "\n",
              "      <script>\n",
              "        const buttonEl =\n",
              "          document.querySelector('#df-72128964-f027-44fb-8cd9-227f8cc2ff4e button.colab-df-convert');\n",
              "        buttonEl.style.display =\n",
              "          google.colab.kernel.accessAllowed ? 'block' : 'none';\n",
              "\n",
              "        async function convertToInteractive(key) {\n",
              "          const element = document.querySelector('#df-72128964-f027-44fb-8cd9-227f8cc2ff4e');\n",
              "          const dataTable =\n",
              "            await google.colab.kernel.invokeFunction('convertToInteractive',\n",
              "                                                     [key], {});\n",
              "          if (!dataTable) return;\n",
              "\n",
              "          const docLinkHtml = 'Like what you see? Visit the ' +\n",
              "            '<a target=\"_blank\" href=https://colab.research.google.com/notebooks/data_table.ipynb>data table notebook</a>'\n",
              "            + ' to learn more about interactive tables.';\n",
              "          element.innerHTML = '';\n",
              "          dataTable['output_type'] = 'display_data';\n",
              "          await google.colab.output.renderOutput(dataTable, element);\n",
              "          const docLink = document.createElement('div');\n",
              "          docLink.innerHTML = docLinkHtml;\n",
              "          element.appendChild(docLink);\n",
              "        }\n",
              "      </script>\n",
              "    </div>\n",
              "  </div>\n",
              "  "
            ]
          },
          "metadata": {},
          "execution_count": 44
        }
      ],
      "source": [
        "final_df_max = final_df.max()\n",
        "\n",
        "final_df = final_df.divide(final_df_max)\n",
        "final_df"
      ]
    },
    {
      "cell_type": "markdown",
      "metadata": {
        "id": "rW7e-IqSK-nA"
      },
      "source": [
        "# 6. Training & Validating"
      ]
    },
    {
      "cell_type": "markdown",
      "metadata": {
        "id": "SfRKq-AC7Yh2"
      },
      "source": [
        "#### Splitting the dataset"
      ]
    },
    {
      "cell_type": "markdown",
      "metadata": {
        "id": "Rm_b5QEr7Yh2"
      },
      "source": [
        "Create a variable x for the inputs (Fetaures), and a variable y for the output ('Loan_Status')\n",
        "Then, split the data between training (70%) and testing (30%). Use a random state of 42"
      ]
    },
    {
      "cell_type": "code",
      "execution_count": 45,
      "metadata": {
        "id": "IfUvvKFTK-nA",
        "tags": []
      },
      "outputs": [],
      "source": [
        "from sklearn.model_selection import train_test_split\n",
        "all_columns = ['Credit_History','Dependents','Education','Married','Property_Area','CoapplicantIncome']\n",
        "x= final_df[all_columns]\n",
        "y = final_df['Loan_Status']\n",
        "x_train, x_val, y_train, y_val = train_test_split(x,y, test_size=0.3, random_state =42)"
      ]
    },
    {
      "cell_type": "markdown",
      "metadata": {
        "id": "5qIDedqKTtfN"
      },
      "source": [
        "#### Creating & Fitting the model"
      ]
    },
    {
      "cell_type": "markdown",
      "metadata": {
        "id": "JvpAzlHo7Yh3"
      },
      "source": [
        "Create a Logistic Regression Model, and fit it on the training data you have"
      ]
    },
    {
      "cell_type": "code",
      "execution_count": 46,
      "metadata": {
        "id": "Ejo6DMwoSTbV",
        "tags": [],
        "colab": {
          "base_uri": "https://localhost:8080/"
        },
        "outputId": "262a3353-6563-4526-c03c-bd8ae0f3d147"
      },
      "outputs": [
        {
          "output_type": "stream",
          "name": "stdout",
          "text": [
            "Model trained!\n"
          ]
        }
      ],
      "source": [
        "from sklearn.linear_model import LogisticRegression\n",
        "model= LogisticRegression()\n",
        "model.fit(x_train,y_train)\n",
        "print('Model trained!')"
      ]
    },
    {
      "cell_type": "markdown",
      "metadata": {
        "id": "xTy8UkrEUNLM"
      },
      "source": [
        "##Validating the model"
      ]
    },
    {
      "cell_type": "markdown",
      "metadata": {
        "id": "OIS7Fb1A7Yh3"
      },
      "source": [
        "Validate your model on the testing data, and compute the accuracy score of your predictions"
      ]
    },
    {
      "cell_type": "code",
      "execution_count": 47,
      "metadata": {
        "id": "GWFaCCnWUB2y",
        "tags": [],
        "colab": {
          "base_uri": "https://localhost:8080/"
        },
        "outputId": "17ef4f0c-5473-4e9c-f0cd-fc240817c935"
      },
      "outputs": [
        {
          "output_type": "stream",
          "name": "stdout",
          "text": [
            "Model score 0.772972972972973\n"
          ]
        }
      ],
      "source": [
        "from sklearn.metrics import accuracy_score\n",
        "pred_val = model.predict(x_val)\n",
        "print('Model score {}'.format(model.score(x_val,y_val)))"
      ]
    },
    {
      "cell_type": "markdown",
      "metadata": {
        "id": "VaHFGXcVUdBb"
      },
      "source": [
        "## Feature Importance"
      ]
    },
    {
      "cell_type": "markdown",
      "metadata": {
        "id": "rJwAx4MS7Yh4"
      },
      "source": [
        "Evaluate the feature importance in your resulting model, and plot it"
      ]
    },
    {
      "cell_type": "code",
      "execution_count": 48,
      "metadata": {
        "id": "N63Z5NZ3US-W",
        "tags": [],
        "colab": {
          "base_uri": "https://localhost:8080/",
          "height": 472
        },
        "outputId": "4758acdf-f97a-4240-8ead-ecea0eec87f5"
      },
      "outputs": [
        {
          "output_type": "display_data",
          "data": {
            "text/plain": [
              "<Figure size 640x480 with 1 Axes>"
            ],
            "image/png": "[encoded data removed]"
          },
          "metadata": {}
        }
      ],
      "source": [
        "columns_names = all_columns\n",
        "features_importance = model.coef_\n",
        "features_importance = features_importance.flatten()\n",
        "plt.barh(columns_names, features_importance)\n",
        "plt.title('Features Importance')\n",
        "plt.xlabel('importance')\n",
        "plt.ylabel('feature')\n",
        "plt.show()"
      ]
    },
    {
      "cell_type": "markdown",
      "metadata": {
        "id": "femnXZA77Yh5"
      },
      "source": [
        "What is the most import feature? Write the name as it appears in the dataset (as a string)"
      ]
    },
    {
      "cell_type": "code",
      "execution_count": 49,
      "metadata": {
        "tags": [],
        "id": "KpilT_El7Yh5"
      },
      "outputs": [],
      "source": [
        "most_important = 'Credit_History'"
      ]
    },
    {
      "cell_type": "markdown",
      "metadata": {
        "deletable": false,
        "editable": false,
        "id": "st0F7Uf_7Yh5"
      },
      "source": [
        "## Submission\n",
        "\n",
        "Make sure you have run all cells (UNLESS MENTIONED OTHERWISE) in your notebook in order before running the cell below, so that all images/graphs appear in the output. **Download your notebook as .ipynb file and put it in a zip folder, then upload that folder to the platform**"
      ]
    }
  ],
  "metadata": {
    "colab": {
      "collapsed_sections": [
        "PuiYEDpYK-mm",
        "JGumTAZLK-mm",
        "vgIxDdBrK-mp",
        "oBpOQ6MVK-mr",
        "RpDPJgQzK-mu",
        "p-aMmUFxK-m0",
        "qjg5n5OfK-m8",
        "5qIDedqKTtfN",
        "xTy8UkrEUNLM",
        "VaHFGXcVUdBb"
      ],
      "provenance": []
    },
    "kernelspec": {
      "display_name": "Python 3.10.5 64-bit",
      "language": "python",
      "name": "python3"
    },
    "language_info": {
      "codemirror_mode": {
        "name": "ipython",
        "version": 3
      },
      "file_extension": ".py",
      "mimetype": "text/x-python",
      "name": "python",
      "nbconvert_exporter": "python",
      "pygments_lexer": "ipython3",
      "version": "3.10.5"
    },
    "otter": {
      "OK_FORMAT": true,
      "tests": {
        "q1": {
          "name": "q1",
          "points": 5,
          "suites": [
            {
              "cases": [
                {
                  "code": ">>> df_train is not None\nTrue",
                  "hidden": false,
                  "locked": false
                },
                {
                  "code": ">>> df_test is not None\nTrue",
                  "hidden": false,
                  "locked": false
                },
                {
                  "code": ">>> isinstance(df_train, pd.DataFrame)\nTrue",
                  "hidden": false,
                  "locked": false
                },
                {
                  "code": ">>> isinstance(df_test, pd.DataFrame)\nTrue",
                  "hidden": false,
                  "locked": false
                },
                {
                  "code": ">>> from pandas.testing import assert_frame_equal\n>>> assert_frame_equal(df, pd.concat([df_train, df_test], axis=0, ignore_index=True))\n",
                  "hidden": false,
                  "locked": false
                }
              ],
              "scored": true,
              "setup": "",
              "teardown": "",
              "type": "doctest"
            }
          ]
        },
        "q10": {
          "name": "q10",
          "points": null,
          "suites": [
            {
              "cases": [
                {
                  "code": ">>> assert were_scatter_plots_helpful == \"no\"\n",
                  "hidden": false,
                  "locked": false
                }
              ],
              "scored": true,
              "setup": "",
              "teardown": "",
              "type": "doctest"
            }
          ]
        },
        "q11": {
          "name": "q11",
          "points": null,
          "suites": [
            {
              "cases": [
                {
                  "code": ">>> from pandas.util.testing import assert_frame_equal\n>>> assert_frame_equal(median_df, df.groupby('Loan_Status').median())\n",
                  "hidden": false,
                  "locked": false
                }
              ],
              "scored": true,
              "setup": "",
              "teardown": "",
              "type": "doctest"
            }
          ]
        },
        "q12": {
          "name": "q12",
          "points": null,
          "suites": [
            {
              "cases": [
                {
                  "code": ">>> assert 'Loan_ID' not in df.columns\n",
                  "hidden": false,
                  "locked": false
                },
                {
                  "code": ">>> assert 'Gender' not in df.columns\n",
                  "hidden": false,
                  "locked": false
                },
                {
                  "code": ">>> assert 'Self_Employed' not in df.columns\n",
                  "hidden": false,
                  "locked": false
                },
                {
                  "code": ">>> assert 'ApplicantIncome' not in df.columns\n",
                  "hidden": false,
                  "locked": false
                },
                {
                  "code": ">>> assert 'LoanAmount' not in df.columns\n",
                  "hidden": false,
                  "locked": false
                },
                {
                  "code": ">>> assert 'Loan_Amount_Term' not in df.columns\n",
                  "hidden": false,
                  "locked": false
                }
              ],
              "scored": true,
              "setup": "",
              "teardown": "",
              "type": "doctest"
            }
          ]
        },
        "q13": {
          "name": "q13",
          "points": null,
          "suites": [
            {
              "cases": [
                {
                  "code": ">>> \"3+\" not in df['Dependents'].unique()\nTrue",
                  "hidden": false,
                  "locked": false
                }
              ],
              "scored": true,
              "setup": "",
              "teardown": "",
              "type": "doctest"
            }
          ]
        },
        "q14": {
          "name": "q14",
          "points": null,
          "suites": [
            {
              "cases": [
                {
                  "code": ">>> df['Credit_History'].dtype != np.float64\nTrue",
                  "hidden": false,
                  "locked": false
                }
              ],
              "scored": true,
              "setup": "",
              "teardown": "",
              "type": "doctest"
            }
          ]
        },
        "q15": {
          "name": "q15",
          "points": null,
          "suites": [
            {
              "cases": [
                {
                  "code": ">>> df.isna().sum().sum() == 0\nTrue",
                  "hidden": false,
                  "locked": false
                }
              ],
              "scored": true,
              "setup": "",
              "teardown": "",
              "type": "doctest"
            }
          ]
        },
        "q16": {
          "name": "q16",
          "points": null,
          "suites": [
            {
              "cases": [
                {
                  "code": ">>> from sklearn.preprocessing import LabelEncoder\n>>> cat_data['Credit_History'].dtype == np.int64 or cat_data['Credit_History'].dtype == np.int32\nTrue",
                  "hidden": false,
                  "locked": false
                },
                {
                  "code": ">>> from sklearn.preprocessing import LabelEncoder\n>>> cat_data['Dependents'].dtype == np.int64 or cat_data['Dependents'].dtype == np.int32\nTrue",
                  "hidden": false,
                  "locked": false
                },
                {
                  "code": ">>> from sklearn.preprocessing import LabelEncoder\n>>> cat_data['Education'].dtype == np.int64 or cat_data['Education'].dtype == np.int32\nTrue",
                  "hidden": false,
                  "locked": false
                },
                {
                  "code": ">>> from sklearn.preprocessing import LabelEncoder\n>>> cat_data['Married'].dtype == np.int64 or cat_data['Married'].dtype == np.int32\nTrue",
                  "hidden": false,
                  "locked": false
                },
                {
                  "code": ">>> from sklearn.preprocessing import LabelEncoder\n>>> cat_data['Property_Area'].dtype == np.int64 or cat_data['Property_Area'].dtype == np.int32\nTrue",
                  "hidden": false,
                  "locked": false
                },
                {
                  "code": ">>> from sklearn.preprocessing import LabelEncoder\n>>> cat_data['Loan_Status'].dtype == np.int64 or cat_data['Loan_Status'].dtype == np.int32\nTrue",
                  "hidden": false,
                  "locked": false
                },
                {
                  "code": ">>> from sklearn.preprocessing import LabelEncoder\n>>> set((0,1)) == set(cat_data['Credit_History'].unique())\nTrue",
                  "hidden": false,
                  "locked": false
                },
                {
                  "code": ">>> from sklearn.preprocessing import LabelEncoder\n>>> set((0,1)) == set(cat_data['Education'].unique())\nTrue",
                  "hidden": false,
                  "locked": false
                },
                {
                  "code": ">>> from sklearn.preprocessing import LabelEncoder\n>>> set((0,1)) == set(cat_data['Married'].unique())\nTrue",
                  "hidden": false,
                  "locked": false
                },
                {
                  "code": ">>> from sklearn.preprocessing import LabelEncoder\n>>> set((0,1,2)) == set(cat_data['Property_Area'].unique())\nTrue",
                  "hidden": false,
                  "locked": false
                },
                {
                  "code": ">>> from sklearn.preprocessing import LabelEncoder\n>>> set((0,1,2,3)) == set(cat_data['Dependents'].unique())\nTrue",
                  "hidden": false,
                  "locked": false
                },
                {
                  "code": ">>> from sklearn.preprocessing import LabelEncoder\n>>> set((0,1)) == set(cat_data['Loan_Status'].unique())\nTrue",
                  "hidden": false,
                  "locked": false
                }
              ],
              "scored": true,
              "setup": "",
              "teardown": "",
              "type": "doctest"
            }
          ]
        },
        "q17": {
          "name": "q17",
          "points": null,
          "suites": [
            {
              "cases": [
                {
                  "code": ">>> 'CoapplicantIncome' in df.columns\nTrue",
                  "hidden": false,
                  "locked": false
                }
              ],
              "scored": true,
              "setup": "",
              "teardown": "",
              "type": "doctest"
            }
          ]
        },
        "q18": {
          "name": "q18",
          "points": null,
          "suites": [
            {
              "cases": [
                {
                  "code": ">>> df['Credit_History'].min() >= 0 and df['Credit_History'].max()<=1\nTrue",
                  "hidden": false,
                  "locked": false
                },
                {
                  "code": ">>> df['Dependents'].min() >= 0 and df['Dependents'].max()<=1\nTrue",
                  "hidden": false,
                  "locked": false
                },
                {
                  "code": ">>> df['Education'].min() >= 0 and df['Education'].max()<=1\nTrue",
                  "hidden": false,
                  "locked": false
                },
                {
                  "code": ">>> df['Married'].min() >= 0 and df['Married'].max()<=1\nTrue",
                  "hidden": false,
                  "locked": false
                },
                {
                  "code": ">>> df['Property_Area'].min() >= 0 and df['Property_Area'].max()<=1\nTrue",
                  "hidden": false,
                  "locked": false
                },
                {
                  "code": ">>> df['CoapplicantIncome'].min() >= 0 and df['CoapplicantIncome'].max()<=1\nTrue",
                  "hidden": false,
                  "locked": false
                }
              ],
              "scored": true,
              "setup": "",
              "teardown": "",
              "type": "doctest"
            }
          ]
        },
        "q19": {
          "name": "q19",
          "points": null,
          "suites": [
            {
              "cases": [
                {
                  "code": ">>> x_train.shape == (429,6)\nTrue",
                  "hidden": false,
                  "locked": false
                },
                {
                  "code": ">>> x_val.shape==(185,6)\nTrue",
                  "hidden": false,
                  "locked": false
                },
                {
                  "code": ">>> y_train.shape == (429,)\nTrue",
                  "hidden": false,
                  "locked": false
                },
                {
                  "code": ">>> y_val.shape == (185,)\nTrue",
                  "hidden": false,
                  "locked": false
                }
              ],
              "scored": true,
              "setup": "",
              "teardown": "",
              "type": "doctest"
            }
          ]
        },
        "q2": {
          "name": "q2",
          "points": 2,
          "suites": [
            {
              "cases": [
                {
                  "code": ">>> nRow==614\nTrue",
                  "hidden": false,
                  "locked": false
                },
                {
                  "code": ">>> nCol==13\nTrue",
                  "hidden": false,
                  "locked": false
                }
              ],
              "scored": true,
              "setup": "",
              "teardown": "",
              "type": "doctest"
            }
          ]
        },
        "q20": {
          "name": "q20",
          "points": null,
          "suites": [
            {
              "cases": [
                {
                  "code": ">>> from sklearn.linear_model import LogisticRegression\n>>> isinstance(model, LogisticRegression)\nTrue",
                  "hidden": false,
                  "locked": false
                },
                {
                  "code": ">>> from sklearn.metrics import accuracy_score\n>>> accuracy_score(y_train, model.predict(x_train))>0.5\nTrue",
                  "hidden": false,
                  "locked": false
                },
                {
                  "code": ">>> from sklearn.metrics import accuracy_score\n>>> accuracy_score(y_train, model.predict(x_train))>0.6\nTrue",
                  "hidden": false,
                  "locked": false
                },
                {
                  "code": ">>> from sklearn.metrics import accuracy_score\n>>> accuracy_score(y_train, model.predict(x_train))>0.7\nTrue",
                  "hidden": false,
                  "locked": false
                },
                {
                  "code": ">>> from sklearn.metrics import accuracy_score\n>>> accuracy_score(y_train, model.predict(x_train))>0.8\nTrue",
                  "hidden": false,
                  "locked": false
                }
              ],
              "scored": true,
              "setup": "",
              "teardown": "",
              "type": "doctest"
            }
          ]
        },
        "q21": {
          "name": "q21",
          "points": null,
          "suites": [
            {
              "cases": [
                {
                  "code": ">>> from sklearn.metrics import accuracy_score\n>>> accuracy_score(y_val, pred_val)>0.5\nTrue",
                  "hidden": false,
                  "locked": false
                },
                {
                  "code": ">>> from sklearn.metrics import accuracy_score\n>>> accuracy_score(y_val, pred_val)>0.6\nTrue",
                  "hidden": false,
                  "locked": false
                },
                {
                  "code": ">>> from sklearn.metrics import accuracy_score\n>>> accuracy_score(y_val, pred_val)>0.7\nTrue",
                  "hidden": false,
                  "locked": false
                },
                {
                  "code": ">>> from sklearn.metrics import accuracy_score\n>>> accuracy_score(y_val, pred_val)>0.75\nTrue",
                  "hidden": false,
                  "locked": false
                }
              ],
              "scored": true,
              "setup": "",
              "teardown": "",
              "type": "doctest"
            }
          ]
        },
        "q22": {
          "name": "q22",
          "points": null,
          "suites": [
            {
              "cases": [
                {
                  "code": ">>> from sklearn.linear_model import LogisticRegression \n>>> features_importance.max() > 2\nTrue",
                  "hidden": false,
                  "locked": false
                },
                {
                  "code": ">>> from sklearn.linear_model import LogisticRegression \n>>> features_importance.min()<0\nTrue",
                  "hidden": false,
                  "locked": false
                },
                {
                  "code": ">>> from sklearn.linear_model import LogisticRegression \n>>> if features_importance.ndim == 2:  \n...   correct = (features_importance[0][np.where(columns_names=='Credit_History')] == features_importance.max())[0]\n... else:\n...   correct = (features_importance[np.where(columns_names=='Credit_History')] == features_importance.max())[0]\n>>> \n>>> correct\nTrue",
                  "hidden": false,
                  "locked": false
                }
              ],
              "scored": true,
              "setup": "",
              "teardown": "",
              "type": "doctest"
            }
          ]
        },
        "q23": {
          "name": "q23",
          "points": null,
          "suites": [
            {
              "cases": [
                {
                  "code": ">>> assert most_important == \"Credit_History\"\n",
                  "hidden": false,
                  "locked": false
                }
              ],
              "scored": true,
              "setup": "",
              "teardown": "",
              "type": "doctest"
            }
          ]
        },
        "q3": {
          "name": "q3",
          "points": 2,
          "suites": [
            {
              "cases": [
                {
                  "code": ">>> def checkValidity(lst1):\n...   lst2 = [ 'Credit_History', 'Dependents','Gender','LoanAmount','Loan_Amount_Term','Married','Self_Employed']\n...   lst3 = [value for value in lst1 if value in lst2]\n...   return len(lst3)==len(lst2)\n>>> \n>>> checkValidity(columns_with_missing_values)\nTrue",
                  "hidden": false,
                  "locked": false
                }
              ],
              "scored": true,
              "setup": "",
              "teardown": "",
              "type": "doctest"
            }
          ]
        },
        "q4": {
          "name": "q4",
          "points": 3,
          "suites": [
            {
              "cases": [
                {
                  "code": ">>> mean_coapplicant_income == 5403.459283\nTrue",
                  "hidden": false,
                  "locked": false
                },
                {
                  "code": ">>> std_coapplicant_income == 6109.041673\nTrue",
                  "hidden": false,
                  "locked": false
                }
              ],
              "scored": true,
              "setup": "",
              "teardown": "",
              "type": "doctest"
            }
          ]
        },
        "q5": {
          "name": "q5",
          "points": null,
          "suites": [
            {
              "cases": [
                {
                  "code": ">>> def checkValidity(arr):\n...   lst1 = list(arr)\n...   lst2 = [ 1,  0]\n...   lst3 = [value for value in lst1 if value in lst2]\n...   return len(lst3)==len(lst2)\n>>> \n>>> assert checkValidity(unique_credit_history)==True\n",
                  "hidden": false,
                  "locked": false
                },
                {
                  "code": ">>> def checkValidity(arr):\n...   lst1 = list(arr)\n...   lst2 = [ 360., 120., 240., 180.,  60., 300., 480.,  36.,  84.,  12.]\n...   lst3 = [value for value in lst1 if value in lst2]\n...   return len(lst3)==len(lst2)\n>>> \n>>> assert checkValidity(loan_amount_term_unique)==True\n",
                  "hidden": false,
                  "locked": false
                }
              ],
              "scored": true,
              "setup": "",
              "teardown": "",
              "type": "doctest"
            }
          ]
        },
        "q6": {
          "name": "q6",
          "points": 2,
          "suites": [
            {
              "cases": [
                {
                  "code": ">>> assert instances_top_gender == 489\n",
                  "hidden": false,
                  "locked": false
                }
              ],
              "scored": true,
              "setup": "",
              "teardown": "",
              "type": "doctest"
            }
          ]
        },
        "q7": {
          "name": "q7",
          "points": 2,
          "suites": [
            {
              "cases": [
                {
                  "code": ">>> assert len(dependents_counts)==4\n",
                  "hidden": false,
                  "locked": false
                },
                {
                  "code": ">>> assert len(property_area_counts)==3\n",
                  "hidden": false,
                  "locked": false
                },
                {
                  "code": ">>> for l in ['Semiurban', 'Urban', 'Rural']:\n...   assert l in property_area_counts.keys()\n",
                  "hidden": false,
                  "locked": false
                },
                {
                  "code": ">>> for l in ['0', '1', '2', '3+']:\n...   assert l in dependents_counts.keys()\n",
                  "hidden": false,
                  "locked": false
                }
              ],
              "scored": true,
              "setup": "",
              "teardown": "",
              "type": "doctest"
            }
          ]
        },
        "q8": {
          "name": "q8",
          "points": null,
          "suites": [
            {
              "cases": [
                {
                  "code": ">>> assert outliers_1 == \"yes\"\n",
                  "hidden": false,
                  "locked": false
                },
                {
                  "code": ">>> assert outliers_2 == \"yes\"\n",
                  "hidden": false,
                  "locked": false
                },
                {
                  "code": ">>> assert outliers_3 == \"yes\"\n",
                  "hidden": false,
                  "locked": false
                },
                {
                  "code": ">>> assert outliers_4 == \"yes\"\n",
                  "hidden": false,
                  "locked": false
                },
                {
                  "code": ">>> assert skew_1 == 'right'\n",
                  "hidden": false,
                  "locked": false
                },
                {
                  "code": ">>> assert skew_2 == 'right'\n",
                  "hidden": false,
                  "locked": false
                },
                {
                  "code": ">>> assert skew_3 == 'right'\n",
                  "hidden": false,
                  "locked": false
                }
              ],
              "scored": true,
              "setup": "",
              "teardown": "",
              "type": "doctest"
            }
          ]
        },
        "q9": {
          "name": "q9",
          "points": null,
          "suites": [
            {
              "cases": [
                {
                  "code": ">>> from pandas.testing import assert_frame_equal\n>>> assert_frame_equal(Gender, pd.crosstab(df['Gender'],df['Loan_Status']))\n",
                  "hidden": false,
                  "locked": false
                },
                {
                  "code": ">>> from pandas.testing import assert_frame_equal\n>>> assert_frame_equal(Credit_History, pd.crosstab(df['Credit_History'],df['Loan_Status']))\n",
                  "hidden": false,
                  "locked": false
                },
                {
                  "code": ">>> from pandas.testing import assert_frame_equal\n>>> assert_frame_equal(Education, pd.crosstab(df['Education'],df['Loan_Status']))\n",
                  "hidden": false,
                  "locked": false
                },
                {
                  "code": ">>> from pandas.testing import assert_frame_equal\n>>> assert_frame_equal(Dependents, pd.crosstab(df['Dependents'],df['Loan_Status']))\n",
                  "hidden": false,
                  "locked": false
                },
                {
                  "code": ">>> from pandas.testing import assert_frame_equal\n>>> assert_frame_equal(Married, pd.crosstab(df['Married'],df['Loan_Status']))\n",
                  "hidden": false,
                  "locked": false
                },
                {
                  "code": ">>> from pandas.testing import assert_frame_equal\n>>> assert_frame_equal(Property_Area, pd.crosstab(df['Property_Area'],df['Loan_Status']))\n",
                  "hidden": false,
                  "locked": false
                },
                {
                  "code": ">>> from pandas.testing import assert_frame_equal\n>>> assert_frame_equal(Self_Employed, pd.crosstab(df['Self_Employed'],df['Loan_Status']))\n",
                  "hidden": false,
                  "locked": false
                }
              ],
              "scored": true,
              "setup": "",
              "teardown": "",
              "type": "doctest"
            }
          ]
        }
      }
    },
    "vscode": {
      "interpreter": {
        "hash": "8c3d4d9970fc5c09c50d9318a9c7fbf4d0159e4b28833276f5678ee22bded273"
      }
    }
  },
  "nbformat": 4,
  "nbformat_minor": 0
}