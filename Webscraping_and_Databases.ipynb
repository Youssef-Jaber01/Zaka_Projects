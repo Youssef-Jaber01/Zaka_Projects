{
  "nbformat": 4,
  "nbformat_minor": 0,
  "metadata": {
    "colab": {
      "provenance": []
    },
    "kernelspec": {
      "name": "python3",
      "display_name": "Python 3"
    },
    "language_info": {
      "name": "python"
    }
  },
  "cells": [
    {
      "cell_type": "markdown",
      "source": [
        "##Project of the Week: Dive Deeper into Web Scraping and Databases\n",
        "\n",
        "\n",
        "---\n",
        "###**Case Study:** Building a Database for your favorite Movies\n",
        "**Objective:** The goal of this challenge is to let you go over a project that allows you to dive deeper into webscraping and learn some new related concepts (e.g. API scraping). The challenge is divided into 2 parts:\n",
        "\n",
        "* **Part A:** You will scrape the website https://www.digitaltrends.com/movies/best-movies-on-netflix/ using Beautifulsoup, and get the required information about the presented movies. Once you clean them, you would save them in a SQL database, and run some queries over them.\n",
        "\n",
        "* **Part B:** You will use the OMDB API to get information about specific movies or series and you would save them in a MongoDB instance. Then you would run some queries over the database."
      ],
      "metadata": {
        "id": "EbSPk02xoRmx"
      }
    },
    {
      "cell_type": "markdown",
      "source": [
        "##Part A: Scraping the best movies on Netflix from the digitaltrends website"
      ],
      "metadata": {
        "id": "y2X8ZqHBqfiB"
      }
    },
    {
      "cell_type": "markdown",
      "source": [
        "In this part you will get the necessary information about the movies on the website an save them in a SQL database. Before doing that, you need to familiarize yourself with the sqlite3 library"
      ],
      "metadata": {
        "id": "GZLKTMt0IUo4"
      }
    },
    {
      "cell_type": "markdown",
      "source": [
        "####1. Familiarize yourself with sqlite3."
      ],
      "metadata": {
        "id": "nvTwHln_q400"
      }
    },
    {
      "cell_type": "markdown",
      "source": [
        "The goal of this section is just for you to practice the sqlite3 python's library.\n",
        "Start by importing the library and creating a new database."
      ],
      "metadata": {
        "id": "C59E2dbbq_nd"
      }
    },
    {
      "cell_type": "code",
      "execution_count": 1,
      "metadata": {
        "id": "Q0587rNTP-Gt"
      },
      "outputs": [],
      "source": [
        "#Test your Zaka\n",
        "import sqlite3"
      ]
    },
    {
      "cell_type": "markdown",
      "source": [
        "Create a table in this database. This table should contain a few columns. You can add whatever columns you want. The goal is just to practice."
      ],
      "metadata": {
        "id": "d4RcIbUDrPWs"
      }
    },
    {
      "cell_type": "code",
      "source": [
        "#Test your Zaka\n",
        "conn = sqlite3.connect('Demo.db')\n",
        "c = conn.cursor()\n",
        "c.execute('''CREATE TABLE movies\n",
        "             (name TEXT, rating REAL, release_date TEXT, director TEXT, genre TEXT)''')"
      ],
      "metadata": {
        "id": "ZEe3__BRQUU9",
        "colab": {
          "base_uri": "https://localhost:8080/"
        },
        "outputId": "ec05b018-f116-4ed9-dc0d-98e5443a8d73"
      },
      "execution_count": 2,
      "outputs": [
        {
          "output_type": "execute_result",
          "data": {
            "text/plain": [
              "<sqlite3.Cursor at 0x7f9757ea2940>"
            ]
          },
          "metadata": {},
          "execution_count": 2
        }
      ]
    },
    {
      "cell_type": "markdown",
      "source": [
        "Add data to the table you created"
      ],
      "metadata": {
        "id": "niJBGNprRVbk"
      }
    },
    {
      "cell_type": "code",
      "source": [
        "#Test your Zaka\n",
        "c.execute(\"INSERT INTO movies VALUES ('The Shawshank Redemption', 9.3, '1994-09-23', 'Frank Darabont', 'Drama')\")\n",
        "c.execute(\"INSERT INTO movies VALUES ('The Godfather', 9.2, '1972-03-24', 'Francis Ford Coppola', 'Crime, Drama')\")\n",
        "c.execute(\"INSERT INTO movies VALUES ('The Dark Knight', 9.0, '2008-07-18', 'Christopher Nolan', 'Action, Crime, Drama')\")\n",
        "c.execute(\"INSERT INTO movies VALUES ('Forrest Gump', 8.8, '1994-07-06', 'Robert Zemeckis', 'Drama, Romance')\")"
      ],
      "metadata": {
        "id": "mhqf9DueRU1j",
        "colab": {
          "base_uri": "https://localhost:8080/"
        },
        "outputId": "7ea4ad55-3c6d-4b74-8a6b-b20879d58a96"
      },
      "execution_count": 3,
      "outputs": [
        {
          "output_type": "execute_result",
          "data": {
            "text/plain": [
              "<sqlite3.Cursor at 0x7f9757ea2940>"
            ]
          },
          "metadata": {},
          "execution_count": 3
        }
      ]
    },
    {
      "cell_type": "markdown",
      "source": [
        "Perform a few basic queries (2-3) to familiarize yourself with the usage (The queries can be anything like selecting all rows in the table or selecting a specific column according to a condition, etc.)"
      ],
      "metadata": {
        "id": "cqvl5wvwR023"
      }
    },
    {
      "cell_type": "code",
      "source": [
        "#Test your Zaka\n",
        "# Query 1: view all rows in the table\n",
        "c.execute(\"SELECT * FROM movies;\")\n",
        "result = c.fetchall()\n",
        "for row in result:\n",
        "  print(\"Movie name:\",row[0],\"with rating\",row[1],\"released on\",row[2],\"is of genre\",row[3])"
      ],
      "metadata": {
        "id": "rpFuLiESRv1S",
        "colab": {
          "base_uri": "https://localhost:8080/"
        },
        "outputId": "4a040257-c055-4c1f-de90-aa082c8f54d0"
      },
      "execution_count": 4,
      "outputs": [
        {
          "output_type": "stream",
          "name": "stdout",
          "text": [
            "Movie name: The Shawshank Redemption with rating 9.3 released on 1994-09-23 is of genre Frank Darabont\n",
            "Movie name: The Godfather with rating 9.2 released on 1972-03-24 is of genre Francis Ford Coppola\n",
            "Movie name: The Dark Knight with rating 9.0 released on 2008-07-18 is of genre Christopher Nolan\n",
            "Movie name: Forrest Gump with rating 8.8 released on 1994-07-06 is of genre Robert Zemeckis\n"
          ]
        }
      ]
    },
    {
      "cell_type": "code",
      "source": [
        "#Test your Zaka\n",
        "# Query 2: The oldest movie\n",
        "c.execute(\"SELECT name, release_date FROM movies ORDER BY release_date ASC LIMIT 1;\")\n",
        "result = c.fetchone()\n",
        "print(\"The oldest movie is:\", result[0], \"released on\", result[1])"
      ],
      "metadata": {
        "id": "mB4cf63LSLbm",
        "colab": {
          "base_uri": "https://localhost:8080/"
        },
        "outputId": "49aba807-0305-4a42-e0c8-74b02c2d0f02"
      },
      "execution_count": 5,
      "outputs": [
        {
          "output_type": "stream",
          "name": "stdout",
          "text": [
            "The oldest movie is: The Godfather released on 1972-03-24\n"
          ]
        }
      ]
    },
    {
      "cell_type": "code",
      "source": [
        "#Test your Zaka\n",
        "# Query 3: The highest rating movie\n",
        "c.execute(\"SELECT name, rating FROM movies ORDER BY rating DESC LIMIT 1;\")\n",
        "result = c.fetchone()\n",
        "print(\"The highest rating movie is:\", result[0], \"with a rating of\", result[1])"
      ],
      "metadata": {
        "id": "697YuqvZS21W",
        "colab": {
          "base_uri": "https://localhost:8080/"
        },
        "outputId": "5643bcfb-d641-4c9b-d6ea-4e075efb3e8b"
      },
      "execution_count": 6,
      "outputs": [
        {
          "output_type": "stream",
          "name": "stdout",
          "text": [
            "The highest rating movie is: The Shawshank Redemption with a rating of 9.3\n"
          ]
        }
      ]
    },
    {
      "cell_type": "code",
      "source": [
        "conn.commit()\n",
        "conn.close()"
      ],
      "metadata": {
        "id": "hcf5trivpeDw"
      },
      "execution_count": 7,
      "outputs": []
    },
    {
      "cell_type": "markdown",
      "source": [
        "###2. Scraping the website via BeautifulSoup."
      ],
      "metadata": {
        "id": "3YLWShuibUXL"
      }
    },
    {
      "cell_type": "markdown",
      "source": [
        "The website to scrape is the following https://www.digitaltrends.com/movies/best-movies-on-netflix/. Start by sending a request to the website and make sure you obtain the right response."
      ],
      "metadata": {
        "id": "Mq5Mh2TWsYH3"
      }
    },
    {
      "cell_type": "code",
      "source": [
        "#Test your Zaka\n",
        "import pandas as pd\n",
        "import requests\n",
        "from bs4 import BeautifulSoup\n",
        "\n",
        "link = 'https://www.digitaltrends.com/movies/best-movies-on-netflix/'\n",
        "response = requests.get(link)\n",
        "soup = BeautifulSoup(response.content, 'html.parser')\n",
        "response.status_code"
      ],
      "metadata": {
        "id": "pjl2J1Tmbc1_",
        "colab": {
          "base_uri": "https://localhost:8080/"
        },
        "outputId": "5bd9b3bd-3ac2-44aa-c97d-2e1a59b556a5"
      },
      "execution_count": 8,
      "outputs": [
        {
          "output_type": "execute_result",
          "data": {
            "text/plain": [
              "200"
            ]
          },
          "metadata": {},
          "execution_count": 8
        }
      ]
    },
    {
      "cell_type": "code",
      "source": [
        "#Creating variable containing info about all the movies\n",
        "movie_divs = soup.find_all('div', class_=lambda x: x and x.startswith('b-media h-'))\n",
        "movie_divs[0]"
      ],
      "metadata": {
        "id": "mua0H9Jrrayl",
        "colab": {
          "base_uri": "https://localhost:8080/"
        },
        "outputId": "5453fadf-127f-415c-ad94-2067f40902b0"
      },
      "execution_count": 9,
      "outputs": [
        {
          "output_type": "execute_result",
          "data": {
            "text/plain": [
              "<div class=\"b-media h-648caab86cfc4\">\n",
              "<div class=\"b-media__wrapper\">\n",
              "<div class=\"b-media__title\">\n",
              "<a id=\"dt-media-extraction-2\"></a>\n",
              "\t\t\tExtraction 2 (2023)\t\t\t\t\t\t\t<span class=\"b-media__new\">\n",
              "\t\t\t\t\tnew\t\t\t\t</span>\n",
              "</div>\n",
              "<div class=\"b-media__inner\">\n",
              "<div class=\"b-media__poster\">\n",
              "<img alt=\"Extraction 2\" class=\"dt-lazy-load dt-lazy-pending\" data-dt-lazy-src=\"https://www.digitaltrends.com/wp-content/uploads/2023/06/7gKI9hpEMcZUQpNgKrkDzJpbnNS.jpg?p=1#038;p=1.jpg\" onerror=\"dti_load_error(this)\" src=\"data:image/gif;base64,R0lGODlhAQABAIAAAAAAAP///yH5BAEAAAAALAAAAAABAAEAAAIBRAA7\"/>\n",
              "</div>\n",
              "<div class=\"b-media__info\">\n",
              "<div class=\"b-media__header\">\n",
              "<div class=\"b-media__rating\">\n",
              "<div class=\"b-media__rating-item\">\n",
              "<div class=\"b-media__rating-img\">\n",
              "<img alt=\"\" class=\"dt-lazy-load dt-lazy-pending\" data-dt-lazy-src=\"https://www.digitaltrends.com/wp-content/themes/dt-stardust/assets/images/svg/icon-metacritic.svg\" onerror=\"dti_load_error(this)\" src=\"data:image/gif;base64,R0lGODlhAQABAIAAAAAAAP///yH5BAEAAAAALAAAAAABAAEAAAIBRAA7\"/>\n",
              "</div>\n",
              "<div class=\"b-media__rating-score\">\n",
              "\t\t55 %\t</div>\n",
              "</div>\n",
              "<div class=\"b-media__rating-item\">\n",
              "<div class=\"b-media__rating-img\">\n",
              "<img alt=\"\" class=\"dt-lazy-load dt-lazy-pending\" data-dt-lazy-src=\"https://www.digitaltrends.com/wp-content/themes/dt-stardust/assets/images/svg/icon-imdb.svg\" onerror=\"dti_load_error(this)\" src=\"data:image/gif;base64,R0lGODlhAQABAIAAAAAAAP///yH5BAEAAAAALAAAAAABAAEAAAIBRAA7\"/>\n",
              "</div>\n",
              "<div class=\"b-media__rating-score\">\n",
              "\t\t7.9/10\t</div>\n",
              "</div>\n",
              "</div>\n",
              "<div class=\"b-media__duration\">\n",
              "<span class=\"b-media__tv-rating\">\n",
              "\t\t\t\t\t\t\t\t\t\tr\t\t\t\t\t\t\t\t\t</span>\n",
              "<span>\n",
              "\t\t\t\t\t\t\t\t\t123m\t\t\t\t\t\t\t\t</span>\n",
              "</div>\n",
              "</div>\n",
              "<div class=\"b-media__info-item\">\n",
              "<strong class=\"b-media__info-title\">\n",
              "\t\t\t\t\t\t\tGenre\t\t\t\t\t\t</strong>\n",
              "<span class=\"dt-clamp dt-clamp-2\">\n",
              "\t\t\t\t\t\t\tAction, Thriller\t\t\t\t\t\t</span>\n",
              "</div>\n",
              "<div class=\"b-media__info-item\">\n",
              "<strong class=\"b-media__info-title\">\n",
              "\t\tStars\t</strong>\n",
              "<span class=\"dt-clamp dt-clamp-2\">\n",
              "\t\tChris Hemsworth, Rudhraksh Jaiswal, Golshifteh Farahani\t</span>\n",
              "</div>\n",
              "<div class=\"b-media__info-item\">\n",
              "<strong class=\"b-media__info-title\">\n",
              "\t\tDirected by\t</strong>\n",
              "<span class=\"dt-clamp dt-clamp-1\">\n",
              "\t\tSam Hargrave\t</span>\n",
              "</div>\n",
              "<div class=\"b-media__buttons b-media__buttons--desktop\">\n",
              "<a class=\"b-buy\" href=\"https://www.netflix.com/title/81098494\" rel=\"nofollow\" target=\"_blank\">\n",
              "<span class=\"b-buy__inner\">watch on Netflix</span>\n",
              "</a>\n",
              "</div>\n",
              "</div>\n",
              "</div>\n",
              "<div class=\"b-media__buttons b-media__buttons--mobile\">\n",
              "<a class=\"b-buy\" href=\"https://www.netflix.com/title/81098494\" rel=\"nofollow\" target=\"_blank\">\n",
              "<span class=\"b-buy__inner\">watch on Netflix</span>\n",
              "</a>\n",
              "</div>\n",
              "<div class=\"b-media__content dt-clamp dt-clamp-6 dt-clamp-large-3\">\n",
              "<div class=\"b-media__text-wrapper\">\n",
              "<div class=\"b-media__text\">\n",
              "<p>Surprise! Chris Hemsworth’s Tyler Rake survived the events of <em>Extraction</em>, and he’s back in the field in <em>Extraction 2</em>. No one could ever say that Netflix skimped on the action in this film, which has even more ambitious battle scenes than the original. Within the sequel, Tyler has a personal stake in rescuing his former sister-in-law, Ketevan (Tinatin Dalakishvili) and her children Sandro (Andro Japaridzo) and Nina (Mariami Kovziashvili), from Ketevan’s deadly husband, Davit (Torniko Bziava).</p><p>Unfortunately for Tyler and his team, their actions have earned them the enmity of Davit’s brother, Zurab (Torniko Gogrichiani). And Zurab will go to great lengths to get his revenge.</p> </div>\n",
              "<span class=\"b-media__collapse-wrapper\">\n",
              "<button class=\"b-media__collapse\" data-content-collapse=\"\">\n",
              "\t\t\t\t\t\t\t\tRead less\t\t\t\t\t\t\t</button>\n",
              "</span>\n",
              "</div>\n",
              "</div>\n",
              "<button class=\"b-media__more\" data-content-expand=\"\">\n",
              "\t\t\t\tRead more\t\t\t</button>\n",
              "</div>\n",
              "</div>"
            ]
          },
          "metadata": {},
          "execution_count": 9
        }
      ]
    },
    {
      "cell_type": "markdown",
      "source": [
        "For each movie, extract the following:\n",
        "* Title\n",
        "* Year\n",
        "* Poster\n",
        "* Duration\n",
        "* IMDB Rating\n",
        "* Genre\n",
        "* Stars (Actors)\n",
        "* Director TEXT"
      ],
      "metadata": {
        "id": "XJ9BEyX5dmwZ"
      }
    },
    {
      "cell_type": "markdown",
      "source": [
        "**Tip:** You can start by extracting each element alone to make sure everything is function as expected and then wrap the whole thing within a function when you need to save them into a database"
      ],
      "metadata": {
        "id": "ERQSkh7VtX22"
      }
    },
    {
      "cell_type": "code",
      "source": [
        "#title and year\n",
        "Title = []\n",
        "Year = []\n",
        "\n",
        "for movie_div in movie_divs:\n",
        "    title_element = movie_div.find('div', class_='b-media__title').text.strip()\n",
        "    title = title_element.split('(')[0].strip()\n",
        "    Title.append(title)\n",
        "    year = int(title_element.split('(')[1].split(')')[0])\n",
        "    Year.append(year)\n",
        "\n",
        "print(len(Title))\n",
        "print(len(Year))"
      ],
      "metadata": {
        "id": "TQnsthHIAtbo",
        "colab": {
          "base_uri": "https://localhost:8080/"
        },
        "outputId": "1a10abea-c874-44c8-abfc-c76eb308f8bd"
      },
      "execution_count": 10,
      "outputs": [
        {
          "output_type": "stream",
          "name": "stdout",
          "text": [
            "50\n",
            "50\n"
          ]
        }
      ]
    },
    {
      "cell_type": "code",
      "source": [
        "#poster\n",
        "URL = []\n",
        "\n",
        "all_img = soup.find_all('img')\n",
        "all_img = all_img[2:-7]\n",
        "\n",
        "for img in all_img:\n",
        "    img_url = img.get('data-dt-lazy-src')\n",
        "    if img_url and img_url.endswith('.jpg'):\n",
        "      URL.append(img_url)\n",
        "print(len(URL))\n",
        "\n",
        "#we notice that there is 8 duplicated picture of letter S\n",
        "\n",
        "new_list = list(set(URL))\n",
        "\n",
        "#we transformed the list into a set to remove duplicate then returned it to list\n",
        "\n",
        "print(len(new_list))\n",
        "\n",
        "#51 so we need to save letter S in a variable, find it's index and remove it\n",
        "\n",
        "S = 'https://www.digitaltrends.com/wp-content/uploads/2021/12/shudder-icon.jpg?p=1#038;p=1.jpg'\n",
        "index = new_list.index(S)\n",
        "del new_list[index]\n",
        "\n",
        "print(len(new_list))"
      ],
      "metadata": {
        "id": "j64kMtXPAtuS",
        "colab": {
          "base_uri": "https://localhost:8080/"
        },
        "outputId": "7962a272-6562-4ffb-bc6b-53e58876e050"
      },
      "execution_count": 11,
      "outputs": [
        {
          "output_type": "stream",
          "name": "stdout",
          "text": [
            "58\n",
            "51\n",
            "50\n"
          ]
        }
      ]
    },
    {
      "cell_type": "code",
      "source": [
        "#duration\n",
        "Duration = []\n",
        "\n",
        "for movie_div in movie_divs:\n",
        "    duration_div = movie_div.find('div', class_='b-media__duration')\n",
        "    duration_spans = duration_div.find_all('span')\n",
        "\n",
        "    if len(duration_spans) > 1: #case where we have \"r\" or other mark next to duration\n",
        "        duration = duration_spans[1].text.strip()\n",
        "    elif len(duration_spans) == 1: #case where we only have duration\n",
        "        duration = duration_spans[0].text.strip()\n",
        "    else:\n",
        "        duration = '' # case where no duration is found\n",
        "\n",
        "    Duration.append(duration)\n",
        "\n",
        "print(len(Duration))"
      ],
      "metadata": {
        "id": "EvXle3ZsgvGj",
        "colab": {
          "base_uri": "https://localhost:8080/"
        },
        "outputId": "6a0bc119-e26d-441f-96cf-c67be9131633"
      },
      "execution_count": 12,
      "outputs": [
        {
          "output_type": "stream",
          "name": "stdout",
          "text": [
            "50\n"
          ]
        }
      ]
    },
    {
      "cell_type": "code",
      "source": [
        "#rating\n",
        "Rating = []\n",
        "\n",
        "for movie_div in movie_divs:\n",
        "    rating_div = movie_div.find('div', class_='b-media__rating')\n",
        "    if rating_div is None: #in case there was no rating for the movie\n",
        "        rating = 'Nan'\n",
        "    else:\n",
        "        rating_scores = rating_div.find_all('div', class_='b-media__rating-score')\n",
        "        if len(rating_scores) > 1: #case where we have metametric and imbd\n",
        "            rating = rating_scores[1].text.strip()\n",
        "        elif len(rating_scores) == 1: #case where we have imbd rating only\n",
        "            rating = rating_scores[0].text.strip()\n",
        "        else:\n",
        "            rating = 'Nan'\n",
        "    Rating.append(rating)\n",
        "print(len(Rating))"
      ],
      "metadata": {
        "colab": {
          "base_uri": "https://localhost:8080/"
        },
        "id": "TbCpx2pYtbsh",
        "outputId": "a7fd8197-95ec-4167-f207-60a059684658"
      },
      "execution_count": 13,
      "outputs": [
        {
          "output_type": "stream",
          "name": "stdout",
          "text": [
            "50\n"
          ]
        }
      ]
    },
    {
      "cell_type": "code",
      "source": [
        "#genre\n",
        "Genre = []\n",
        "for movie_div in movie_divs:\n",
        "  genre = movie_div.find('div',class_='b-media__info').find(\"span\",class_='dt-clamp dt-clamp-2').text.replace(\"\\n\",\"\").replace(\"\\t\",\"\")\n",
        "  Genre.append(genre)\n",
        "print(len(Genre))"
      ],
      "metadata": {
        "id": "L7ReSEaFAuEr",
        "colab": {
          "base_uri": "https://localhost:8080/"
        },
        "outputId": "0a1af5f3-015b-4460-d8a5-0cbd0b508c1d"
      },
      "execution_count": 14,
      "outputs": [
        {
          "output_type": "stream",
          "name": "stdout",
          "text": [
            "50\n"
          ]
        }
      ]
    },
    {
      "cell_type": "code",
      "source": [
        "#stars\n",
        "Stars = []\n",
        "for movie_div in movie_divs:\n",
        "    stars = movie_div.find('div',class_='b-media__info').find_all(\"span\",class_='dt-clamp dt-clamp-2')\n",
        "    if len(stars) > 1:#because we have stars as the 2nd idex , in case there was a 2nd span then we extract it\n",
        "        stars = stars[1].text.replace(\"\\n\",\"\").replace(\"\\t\",\"\")\n",
        "    else: # no info about the stars\n",
        "        stars = 'Nan'\n",
        "    Stars.append(stars)\n",
        "print(len(Stars))"
      ],
      "metadata": {
        "id": "e_0Qxu7aAuKp",
        "colab": {
          "base_uri": "https://localhost:8080/"
        },
        "outputId": "06fee9a9-c68a-428a-fb51-9fc9fc2066bb"
      },
      "execution_count": 15,
      "outputs": [
        {
          "output_type": "stream",
          "name": "stdout",
          "text": [
            "50\n"
          ]
        }
      ]
    },
    {
      "cell_type": "code",
      "source": [
        "#director\n",
        "Director = []\n",
        "for movie_div in movie_divs:\n",
        "  director = movie_div.find('div',class_='b-media__info').find(\"span\",class_='dt-clamp dt-clamp-1').text.replace(\"\\n\",\"\").replace(\"\\t\",\"\")\n",
        "  Director.append(director)\n",
        "print(len(Director))"
      ],
      "metadata": {
        "id": "r3--6uUWA6w1",
        "colab": {
          "base_uri": "https://localhost:8080/"
        },
        "outputId": "6a4f5acb-a98e-470a-bfd6-8cc35c29cfcb"
      },
      "execution_count": 16,
      "outputs": [
        {
          "output_type": "stream",
          "name": "stdout",
          "text": [
            "50\n"
          ]
        }
      ]
    },
    {
      "cell_type": "code",
      "source": [
        "#Test your Zaka\n",
        "def movie(title, year, poster, durations, ratings, genres, stars, directors):\n",
        "    movies = []\n",
        "    for i in range(len(title)):#since we have all same length\n",
        "        movie_info = {\n",
        "            'Title': title[i],\n",
        "            'Year': year[i],\n",
        "            'Poster': poster[i],\n",
        "            'Duration': durations[i],\n",
        "            'Rating': ratings[i],\n",
        "            'Genre': genres[i],\n",
        "            'Stars': stars[i],\n",
        "            'Director': directors[i]\n",
        "        }\n",
        "        movies.append(movie_info)\n",
        "    return movies\n",
        "\n",
        "movies = movie(Title, Year, URL, Duration, Rating, Genre, Stars, Director)\n",
        "\n",
        "#To visualize our first row to see if function working well\n",
        "print(movies[0])"
      ],
      "metadata": {
        "id": "853iQGmIJ3MY",
        "colab": {
          "base_uri": "https://localhost:8080/"
        },
        "outputId": "10a4badb-713c-4c21-8600-a6ee78548159"
      },
      "execution_count": 17,
      "outputs": [
        {
          "output_type": "stream",
          "name": "stdout",
          "text": [
            "{'Title': 'Extraction 2', 'Year': 2023, 'Poster': 'https://www.digitaltrends.com/wp-content/uploads/2023/06/7gKI9hpEMcZUQpNgKrkDzJpbnNS.jpg?p=1#038;p=1.jpg', 'Duration': '123m', 'Rating': '7.9/10', 'Genre': 'Action, Thriller', 'Stars': 'Chris Hemsworth, Rudhraksh Jaiswal, Golshifteh Farahani', 'Director': 'Sam Hargrave'}\n"
          ]
        }
      ]
    },
    {
      "cell_type": "code",
      "source": [
        "#For practice only, transforming into dataframe\n",
        "df = pd.DataFrame(movies)\n",
        "df =  df.set_index(\"Title\")\n",
        "df.head(5)"
      ],
      "metadata": {
        "colab": {
          "base_uri": "https://localhost:8080/",
          "height": 237
        },
        "id": "TF_bHGcsCFaC",
        "outputId": "b9487cd7-5017-4956-c5e0-7fec2b69a4a5"
      },
      "execution_count": 18,
      "outputs": [
        {
          "output_type": "execute_result",
          "data": {
            "text/plain": [
              "                   Year                                             Poster  \\\n",
              "Title                                                                        \n",
              "Extraction 2       2023  https://www.digitaltrends.com/wp-content/uploa...   \n",
              "Dunkirk            2017  https://www.digitaltrends.com/wp-content/uploa...   \n",
              "The Boss Baby      2017  https://www.digitaltrends.com/wp-content/uploa...   \n",
              "We're the Millers  2013  https://www.digitaltrends.com/wp-content/uploa...   \n",
              "Blood & Gold       2023  https://www.digitaltrends.com/wp-content/uploa...   \n",
              "\n",
              "                  Duration  Rating                      Genre  \\\n",
              "Title                                                           \n",
              "Extraction 2          123m  7.9/10           Action, Thriller   \n",
              "Dunkirk               107m  7.8/10         War, Action, Drama   \n",
              "The Boss Baby          97m  6.3/10  Animation, Comedy, Family   \n",
              "We're the Millers     110m  7.0/10              Comedy, Crime   \n",
              "Blood & Gold          100m  6.5/10         Action, Drama, War   \n",
              "\n",
              "                                                               Stars  \\\n",
              "Title                                                                  \n",
              "Extraction 2       Chris Hemsworth, Rudhraksh Jaiswal, Golshifteh...   \n",
              "Dunkirk                     Fionn Whitehead, Tom Hardy, Mark Rylance   \n",
              "The Boss Baby              Alec Baldwin, Steve Buscemi, Miles Bakshi   \n",
              "We're the Millers     Jennifer Aniston, Jason Sudeikis, Emma Roberts   \n",
              "Blood & Gold              Robert Maaser, Jördis Triebel, Marie Hacke   \n",
              "\n",
              "                                  Director  \n",
              "Title                                       \n",
              "Extraction 2                  Sam Hargrave  \n",
              "Dunkirk                  Christopher Nolan  \n",
              "The Boss Baby                  Tom McGrath  \n",
              "We're the Millers  Rawson Marshall Thurber  \n",
              "Blood & Gold               Peter Thorwarth  "
            ],
            "text/html": [
              "\n",
              "  <div id=\"df-c48a67cc-b211-4cb2-a0b5-44fa8bf40c2f\">\n",
              "    <div class=\"colab-df-container\">\n",
              "      <div>\n",
              "<style scoped>\n",
              "    .dataframe tbody tr th:only-of-type {\n",
              "        vertical-align: middle;\n",
              "    }\n",
              "\n",
              "    .dataframe tbody tr th {\n",
              "        vertical-align: top;\n",
              "    }\n",
              "\n",
              "    .dataframe thead th {\n",
              "        text-align: right;\n",
              "    }\n",
              "</style>\n",
              "<table border=\"1\" class=\"dataframe\">\n",
              "  <thead>\n",
              "    <tr style=\"text-align: right;\">\n",
              "      <th></th>\n",
              "      <th>Year</th>\n",
              "      <th>Poster</th>\n",
              "      <th>Duration</th>\n",
              "      <th>Rating</th>\n",
              "      <th>Genre</th>\n",
              "      <th>Stars</th>\n",
              "      <th>Director</th>\n",
              "    </tr>\n",
              "    <tr>\n",
              "      <th>Title</th>\n",
              "      <th></th>\n",
              "      <th></th>\n",
              "      <th></th>\n",
              "      <th></th>\n",
              "      <th></th>\n",
              "      <th></th>\n",
              "      <th></th>\n",
              "    </tr>\n",
              "  </thead>\n",
              "  <tbody>\n",
              "    <tr>\n",
              "      <th>Extraction 2</th>\n",
              "      <td>2023</td>\n",
              "      <td>https://www.digitaltrends.com/wp-content/uploa...</td>\n",
              "      <td>123m</td>\n",
              "      <td>7.9/10</td>\n",
              "      <td>Action, Thriller</td>\n",
              "      <td>Chris Hemsworth, Rudhraksh Jaiswal, Golshifteh...</td>\n",
              "      <td>Sam Hargrave</td>\n",
              "    </tr>\n",
              "    <tr>\n",
              "      <th>Dunkirk</th>\n",
              "      <td>2017</td>\n",
              "      <td>https://www.digitaltrends.com/wp-content/uploa...</td>\n",
              "      <td>107m</td>\n",
              "      <td>7.8/10</td>\n",
              "      <td>War, Action, Drama</td>\n",
              "      <td>Fionn Whitehead, Tom Hardy, Mark Rylance</td>\n",
              "      <td>Christopher Nolan</td>\n",
              "    </tr>\n",
              "    <tr>\n",
              "      <th>The Boss Baby</th>\n",
              "      <td>2017</td>\n",
              "      <td>https://www.digitaltrends.com/wp-content/uploa...</td>\n",
              "      <td>97m</td>\n",
              "      <td>6.3/10</td>\n",
              "      <td>Animation, Comedy, Family</td>\n",
              "      <td>Alec Baldwin, Steve Buscemi, Miles Bakshi</td>\n",
              "      <td>Tom McGrath</td>\n",
              "    </tr>\n",
              "    <tr>\n",
              "      <th>We're the Millers</th>\n",
              "      <td>2013</td>\n",
              "      <td>https://www.digitaltrends.com/wp-content/uploa...</td>\n",
              "      <td>110m</td>\n",
              "      <td>7.0/10</td>\n",
              "      <td>Comedy, Crime</td>\n",
              "      <td>Jennifer Aniston, Jason Sudeikis, Emma Roberts</td>\n",
              "      <td>Rawson Marshall Thurber</td>\n",
              "    </tr>\n",
              "    <tr>\n",
              "      <th>Blood &amp; Gold</th>\n",
              "      <td>2023</td>\n",
              "      <td>https://www.digitaltrends.com/wp-content/uploa...</td>\n",
              "      <td>100m</td>\n",
              "      <td>6.5/10</td>\n",
              "      <td>Action, Drama, War</td>\n",
              "      <td>Robert Maaser, Jördis Triebel, Marie Hacke</td>\n",
              "      <td>Peter Thorwarth</td>\n",
              "    </tr>\n",
              "  </tbody>\n",
              "</table>\n",
              "</div>\n",
              "      <button class=\"colab-df-convert\" onclick=\"convertToInteractive('df-c48a67cc-b211-4cb2-a0b5-44fa8bf40c2f')\"\n",
              "              title=\"Convert this dataframe to an interactive table.\"\n",
              "              style=\"display:none;\">\n",
              "        \n",
              "  <svg xmlns=\"http://www.w3.org/2000/svg\" height=\"24px\"viewBox=\"0 0 24 24\"\n",
              "       width=\"24px\">\n",
              "    <path d=\"M0 0h24v24H0V0z\" fill=\"none\"/>\n",
              "    <path d=\"M18.56 5.44l.94 2.06.94-2.06 2.06-.94-2.06-.94-.94-2.06-.94 2.06-2.06.94zm-11 1L8.5 8.5l.94-2.06 2.06-.94-2.06-.94L8.5 2.5l-.94 2.06-2.06.94zm10 10l.94 2.06.94-2.06 2.06-.94-2.06-.94-.94-2.06-.94 2.06-2.06.94z\"/><path d=\"M17.41 7.96l-1.37-1.37c-.4-.4-.92-.59-1.43-.59-.52 0-1.04.2-1.43.59L10.3 9.45l-7.72 7.72c-.78.78-.78 2.05 0 2.83L4 21.41c.39.39.9.59 1.41.59.51 0 1.02-.2 1.41-.59l7.78-7.78 2.81-2.81c.8-.78.8-2.07 0-2.86zM5.41 20L4 18.59l7.72-7.72 1.47 1.35L5.41 20z\"/>\n",
              "  </svg>\n",
              "      </button>\n",
              "      \n",
              "  <style>\n",
              "    .colab-df-container {\n",
              "      display:flex;\n",
              "      flex-wrap:wrap;\n",
              "      gap: 12px;\n",
              "    }\n",
              "\n",
              "    .colab-df-convert {\n",
              "      background-color: #E8F0FE;\n",
              "      border: none;\n",
              "      border-radius: 50%;\n",
              "      cursor: pointer;\n",
              "      display: none;\n",
              "      fill: #1967D2;\n",
              "      height: 32px;\n",
              "      padding: 0 0 0 0;\n",
              "      width: 32px;\n",
              "    }\n",
              "\n",
              "    .colab-df-convert:hover {\n",
              "      background-color: #E2EBFA;\n",
              "      box-shadow: 0px 1px 2px rgba(60, 64, 67, 0.3), 0px 1px 3px 1px rgba(60, 64, 67, 0.15);\n",
              "      fill: #174EA6;\n",
              "    }\n",
              "\n",
              "    [theme=dark] .colab-df-convert {\n",
              "      background-color: #3B4455;\n",
              "      fill: #D2E3FC;\n",
              "    }\n",
              "\n",
              "    [theme=dark] .colab-df-convert:hover {\n",
              "      background-color: #434B5C;\n",
              "      box-shadow: 0px 1px 3px 1px rgba(0, 0, 0, 0.15);\n",
              "      filter: drop-shadow(0px 1px 2px rgba(0, 0, 0, 0.3));\n",
              "      fill: #FFFFFF;\n",
              "    }\n",
              "  </style>\n",
              "\n",
              "      <script>\n",
              "        const buttonEl =\n",
              "          document.querySelector('#df-c48a67cc-b211-4cb2-a0b5-44fa8bf40c2f button.colab-df-convert');\n",
              "        buttonEl.style.display =\n",
              "          google.colab.kernel.accessAllowed ? 'block' : 'none';\n",
              "\n",
              "        async function convertToInteractive(key) {\n",
              "          const element = document.querySelector('#df-c48a67cc-b211-4cb2-a0b5-44fa8bf40c2f');\n",
              "          const dataTable =\n",
              "            await google.colab.kernel.invokeFunction('convertToInteractive',\n",
              "                                                     [key], {});\n",
              "          if (!dataTable) return;\n",
              "\n",
              "          const docLinkHtml = 'Like what you see? Visit the ' +\n",
              "            '<a target=\"_blank\" href=https://colab.research.google.com/notebooks/data_table.ipynb>data table notebook</a>'\n",
              "            + ' to learn more about interactive tables.';\n",
              "          element.innerHTML = '';\n",
              "          dataTable['output_type'] = 'display_data';\n",
              "          await google.colab.output.renderOutput(dataTable, element);\n",
              "          const docLink = document.createElement('div');\n",
              "          docLink.innerHTML = docLinkHtml;\n",
              "          element.appendChild(docLink);\n",
              "        }\n",
              "      </script>\n",
              "    </div>\n",
              "  </div>\n",
              "  "
            ]
          },
          "metadata": {},
          "execution_count": 18
        }
      ]
    },
    {
      "cell_type": "markdown",
      "source": [
        "####*Save the result in a SQL database*"
      ],
      "metadata": {
        "id": "2C-d-y3wnDp0"
      }
    },
    {
      "cell_type": "code",
      "source": [
        "#Test your Zaka\n",
        "conn = sqlite3.connect('Top50NetflixMovies.db')\n",
        "c = conn.cursor()\n",
        "\n",
        "c.execute('''CREATE TABLE Top50movies\n",
        "             (Title TEXT, Year INTEGER, Poster TEXT, Duration TEXT, Rating TEXT, Genre TEXT, Stars TEXT, Director TEXT)''')\n",
        "\n",
        "for movie in movies:\n",
        "    c.execute(\"INSERT INTO Top50movies VALUES (?, ?, ?, ?, ?, ?, ?, ?)\", (movie['Title'], movie['Year'], movie['Poster'], movie['Duration'], movie['Rating'], movie['Genre'], movie['Stars'], movie['Director']))\n",
        "\n",
        "\n",
        "c.execute(\"SELECT * FROM Top50movies LIMIT 1;\")\n",
        "row = c.fetchone()\n",
        "\n",
        "# Print the first row to make sure my data was saved correctly\n",
        "if row:\n",
        "    print('Title:', row[0])\n",
        "    print('Year:', row[1])\n",
        "    print('Poster:', row[2])\n",
        "    print('Duration:', row[3])\n",
        "    print('Rating:', row[4])\n",
        "    print('Genre:', row[5])\n",
        "    print('Stars:', row[6])\n",
        "    print('Director:', row[7])\n",
        "\n",
        "#conn.commit()"
      ],
      "metadata": {
        "id": "AGYsKHAhoKYu",
        "colab": {
          "base_uri": "https://localhost:8080/"
        },
        "outputId": "45c8e565-8b5c-4411-cf45-c842cbb4a271"
      },
      "execution_count": 19,
      "outputs": [
        {
          "output_type": "stream",
          "name": "stdout",
          "text": [
            "Title: Extraction 2\n",
            "Year: 2023\n",
            "Poster: https://www.digitaltrends.com/wp-content/uploads/2023/06/7gKI9hpEMcZUQpNgKrkDzJpbnNS.jpg?p=1#038;p=1.jpg\n",
            "Duration: 123m\n",
            "Rating: 7.9/10\n",
            "Genre: Action, Thriller\n",
            "Stars: Chris Hemsworth, Rudhraksh Jaiswal, Golshifteh Farahani\n",
            "Director: Sam Hargrave\n"
          ]
        }
      ]
    },
    {
      "cell_type": "markdown",
      "source": [
        "####3. Running some queries against the database we created"
      ],
      "metadata": {
        "id": "cbv4e4lvwZjN"
      }
    },
    {
      "cell_type": "markdown",
      "source": [
        "Write a query that returns all movies with all their specifications"
      ],
      "metadata": {
        "id": "RaHls7pSwetS"
      }
    },
    {
      "cell_type": "code",
      "source": [
        "#Test your Zaka\n",
        "c.execute(\"SELECT * FROM Top50movies\")\n",
        "\n",
        "# Fetch all rows and print them out\n",
        "rows = c.fetchall()\n",
        "for row in rows:\n",
        "    print(row)"
      ],
      "metadata": {
        "id": "SMrdy6xjpQHv",
        "colab": {
          "base_uri": "https://localhost:8080/"
        },
        "outputId": "7bdbc789-75b5-4bea-f324-753e6d1101a4"
      },
      "execution_count": 20,
      "outputs": [
        {
          "output_type": "stream",
          "name": "stdout",
          "text": [
            "('Extraction 2', 2023, 'https://www.digitaltrends.com/wp-content/uploads/2023/06/7gKI9hpEMcZUQpNgKrkDzJpbnNS.jpg?p=1#038;p=1.jpg', '123m', '7.9/10', 'Action, Thriller', 'Chris Hemsworth, Rudhraksh Jaiswal, Golshifteh Farahani', 'Sam Hargrave')\n",
            "('Dunkirk', 2017, 'https://www.digitaltrends.com/wp-content/uploads/2021/10/ebsnoddg9lbsmiawg2uabjn7to5.jpg?p=1#038;p=1.jpg', '107m', '7.8/10', 'War, Action, Drama', 'Fionn Whitehead, Tom Hardy, Mark Rylance', 'Christopher Nolan')\n",
            "('The Boss Baby', 2017, 'https://www.digitaltrends.com/wp-content/uploads/2023/05/unPB1iyEeTBcKiLg8W083rlViFH.jpg?p=1#038;p=1.jpg', '97m', '6.3/10', 'Animation, Comedy, Family', 'Alec Baldwin, Steve Buscemi, Miles Bakshi', 'Tom McGrath')\n",
            "(\"We're the Millers\", 2013, 'https://www.digitaltrends.com/wp-content/uploads/2023/06/qF2LJ0jwWrtXSuT4AFD5OS2IqaT.jpg?p=1#038;p=1.jpg', '110m', '7.0/10', 'Comedy, Crime', 'Jennifer Aniston, Jason Sudeikis, Emma Roberts', 'Rawson Marshall Thurber')\n",
            "('Blood & Gold', 2023, 'https://www.digitaltrends.com/wp-content/uploads/2023/06/oLRQP5cEjiT1DxeIHUYEV96Ijum.jpg?p=1#038;p=1.jpg', '100m', '6.5/10', 'Action, Drama, War', 'Robert Maaser, Jördis Triebel, Marie Hacke', 'Peter Thorwarth')\n",
            "('The Son', 2022, 'https://www.digitaltrends.com/wp-content/uploads/2023/05/hYR2doH3arnX0Y6WULuBPbtaLjN.jpg?p=1#038;p=1.jpg', '123m', '6.3/10', 'Drama', 'Hugh Jackman, Zen McGrath, Vanessa Kirby', 'Florian Zeller')\n",
            "('Missing', 2023, 'https://www.digitaltrends.com/wp-content/uploads/2023/05/qgZuXiDAkXdARlsDzQwmrCpkqpL.jpg?p=1#038;p=1.jpg', '111m', '7.1/10', 'Thriller, Mystery', 'Storm Reid, Joaquim de Almeida, Ken Leung', 'Nicholas D. Johnson, Will Merrick')\n",
            "('Ted', 2012, 'https://www.digitaltrends.com/wp-content/uploads/2023/05/osJNr64CNyGhCzdlg6oHt3a6vNA.jpg?p=1#038;p=1.jpg', '107m', '6.9/10', 'Comedy, Fantasy', 'Mark Wahlberg, Mila Kunis, Seth MacFarlane', 'Seth MacFarlane')\n",
            "('The Mother', 2023, 'https://www.digitaltrends.com/wp-content/uploads/2023/05/vnRthEZz16Q9VWcP5homkHxyHoy.jpg?p=1#038;p=1.jpg', '115m', '7.4/10', 'Action, Thriller', 'Jennifer Lopez, Joseph Fiennes, Omari Hardwick', 'Niki Caro')\n",
            "('A Man Called Otto', 2022, 'https://www.digitaltrends.com/wp-content/uploads/2023/05/130H1gap9lFfiTF9iDrqNIkFvC9.jpg?p=1#038;p=1.jpg', '126m', '7.5/10', 'Comedy, Drama', 'Tom Hanks, Mariana Treviño, Rachel Keller', 'Marc Forster')\n",
            "('Pitch Perfect', 2012, 'https://www.digitaltrends.com/wp-content/uploads/2023/05/ntRIoh8Qf1BI1AYGx0STfq0wUmb.jpg?p=1#038;p=1.jpg', '112m', '7.1/10', 'Comedy, Music, Romance', 'Anna Kendrick, Brittany Snow, Anna Camp', 'Jason Moore')\n",
            "('Whitney Houston: I Wanna Dance with Somebody', 2022, 'https://www.digitaltrends.com/wp-content/uploads/2023/04/oodPJ3Op1pWBhnEFyw5fampRCWf.jpg?p=1#038;p=1.jpg', '144m', '6.6/10', 'Music, History, Drama', 'Naomi Ackie, Ashton Sanders, Stanley Tucci', 'Kasi Lemmons')\n",
            "('Shrek Forever After', 2010, 'https://www.digitaltrends.com/wp-content/uploads/2023/04/6HrfPZtKcGmX2tUWW3cnciZTaSD.jpg?p=1#038;p=1.jpg', '93m', '6.3/10', 'Comedy, Adventure, Fantasy, Animation, Family', 'Mike Myers, Eddie Murphy, Cameron Diaz', 'Mike Mitchell')\n",
            "('The Best Man Holiday', 2013, 'https://www.digitaltrends.com/wp-content/uploads/2023/04/i4ecMHJQpclIEr4mh5uzjWr38GC.jpg?p=1#038;p=1.jpg', '123m', '6.6/10', 'Comedy', 'Terrence Howard, Harold Perrineau, Morris Chestnut', 'Malcolm D. Lee')\n",
            "('Chupa', 2023, 'https://www.digitaltrends.com/wp-content/uploads/2023/04/ra3xm8KFAkwK0CdbPRkfYADJYTB.jpg?p=1#038;p=1.jpg', '95m', '5.6/10', 'Adventure, Fantasy, Family', 'Demián Bichir, Evan Whitten, Christian Slater', 'Jonás Cuarón')\n",
            "('Inception', 2010, 'https://www.digitaltrends.com/wp-content/uploads/2022/03/edv5czvwj09uposy2y6iwdhk8bt.jpg?p=1#038;p=1.jpg', '148m', '8.8/10', 'Action, Science Fiction, Adventure', 'Leonardo DiCaprio, Joseph Gordon-Levitt, Ken Watanabe', 'Christopher Nolan')\n",
            "('Psycho', 1960, 'https://www.digitaltrends.com/wp-content/uploads/2022/12/yz4QVqPx3h1hD1DfqqQkCq3rmxW.jpg?p=1#038;p=1.jpg', '109m', '8.5/10', 'Horror, Drama, Thriller', 'Anthony Perkins, Vera Miles, John Gavin', 'Alfred Hitchcock')\n",
            "('Minions: The Rise of Gru', 2022, 'https://www.digitaltrends.com/wp-content/uploads/2022/04/wkiokztn9luuunzlmtnwubzyong.jpg?p=1#038;p=1.jpg', '87m', '6.5/10', 'Animation, Comedy, Family', 'Pierre Coffin, Steve Carell, Russell Brand', 'Kyle Balda')\n",
            "('Pitch Black', 2000, 'https://www.digitaltrends.com/wp-content/uploads/2023/03/3AnlxZ5CZnhKKzjgFyY6EHxmOyl.jpg?p=1#038;p=1.jpg', '108m', '7.1/10', 'Thriller, Science Fiction, Action', 'Vin Diesel, Radha Mitchell, Cole Hauser', 'David Twohy')\n",
            "(\"The Magician's Elephant\", 2023, 'https://www.digitaltrends.com/wp-content/uploads/2023/03/cAoAgzOCxSytYBqqCQulhXNR3LB.jpg?p=1#038;p=1.jpg', '99m', '9.7/10', 'Adventure, Animation, Family, Fantasy', 'Noah Jupe, Mandy Patinkin, Natasia Demetriou', 'Wendy Rogers')\n",
            "('Luther: The Fallen Sun', 2023, 'https://www.digitaltrends.com/wp-content/uploads/2023/03/xsW7M4b4gawgFKCzcXHL2MSeswj.jpg?p=1#038;p=1.jpg', '129m', '7.0/10', 'Crime, Drama', 'Idris Elba, Dermot Crowley, Cynthia Erivo', 'Jamie Payne')\n",
            "('World War Z', 2013, 'https://www.digitaltrends.com/wp-content/uploads/2022/03/1swbsyjsnyhdnrfli1t6rscxaq4.jpg?p=1#038;p=1.jpg', '116m', '7.0/10', 'Action, Drama, Horror, Science Fiction, Thriller', 'Brad Pitt, Mireille Enos, Daniella Kertesz', 'Marc Forster')\n",
            "('If Anything Happens I Love You', 2020, 'https://www.digitaltrends.com/wp-content/uploads/2021/12/85tdhacvkdqxqojhbylvdu0ik1n.jpg?p=1#038;p=1.jpg', '12m', '7.8/10', 'Drama, Animation', 'Nan', 'Will McCormack, Michael Govier')\n",
            "('Easy A', 2010, 'https://www.digitaltrends.com/wp-content/uploads/2023/02/pYeY5lBudgWAunG4qlsWCA3PlxM.jpg?p=1#038;p=1.jpg', '93m', 'Nan', 'Comedy', 'Emma Stone, Cam Gigandet, Amanda Bynes', 'Will Gluck')\n",
            "('We Have a Ghost', 2023, 'https://www.digitaltrends.com/wp-content/uploads/2023/01/xo0fgAUoEeVQ7KsKeMWypyglvnf.jpg?p=1#038;p=1.jpg', '127m', 'Nan', 'Adventure, Fantasy, Family, Comedy', \"David Harbour, Jahi Di'Allo Winston, Anthony Mackie\", 'Christopher Landon')\n",
            "('The Summit of the Gods', 2021, 'https://www.digitaltrends.com/wp-content/uploads/2021/12/iowz7mwatwmylflue6gem0m3hze.jpg?p=1#038;p=1.jpg', '95m', '7.5/10', 'Animation, Adventure, Mystery', 'Éric Herson-Macarel, Damien Boisseau, Elisabeth Ventura', 'Patrick Imbert')\n",
            "('Penguin Bloom', 2021, 'https://www.digitaltrends.com/wp-content/uploads/2023/02/iUn7594Rwfstu5njA8hf9WQIcFi.jpg?p=1#038;p=1.jpg', '95m', 'Nan', 'Drama', 'Naomi Watts, Andrew Lincoln, Griffin Murray-Johnston', 'Glendyn Ivin')\n",
            "('Munich: The Edge of War', 2022, 'https://www.digitaltrends.com/wp-content/uploads/2022/06/1SOiUTDnwW9gU4GzSIsOCQUlHJF.jpg?p=1#038;p=1.jpg', '129m', '6.8/10', 'Drama, History', 'George MacKay, Jannis Niewöhner, Jeremy Irons', 'Christian Schwochow')\n",
            "('Your Place or Mine', 2023, 'https://www.digitaltrends.com/wp-content/uploads/2023/02/o5hbH2F8ovEEuyOjcLVJgPN2OQq.jpg?p=1#038;p=1.jpg', '109m', 'Nan', 'Comedy, Romance', 'Reese Witherspoon, Ashton Kutcher, Jesse Williams', 'Aline Brosh McKenna')\n",
            "('Day Shift', 2022, 'https://www.digitaltrends.com/wp-content/uploads/2022/07/bI7lGR5HuYlENlp11brKUAaPHuO.jpg?p=1#038;p=1.jpg', '113m', 'Nan', 'Action, Fantasy, Horror', 'Jamie Foxx, Dave Franco, Natasha Liu Bordizzo', 'J.J. Perry')\n",
            "('The Pez Outlaw', 2022, 'https://www.digitaltrends.com/wp-content/uploads/2023/01/aUDtVR3t0uCGWuXnVAUYMrv4Wqs.jpg?p=1#038;p=1.jpg', '85m', 'Nan', 'Documentary', 'Steve Glew, Kathy Glew, Ridoyanul Hoq', 'Bryan Storkel, Amy Bandlien Storkel')\n",
            "('The Sea Beast', 2022, 'https://www.digitaltrends.com/wp-content/uploads/2022/07/7363mrbx0Le5VOgX3GuxTF8ORbN.jpg?p=1#038;p=1.jpg', '115m', 'Nan', 'Animation, Adventure, Family, Fantasy', 'Karl Urban, Zaris-Angel Hator, Jared Harris', 'Chris Williams')\n",
            "('Enola Holmes', 2020, 'https://www.digitaltrends.com/wp-content/uploads/2021/10/riyinlsq2kf1awogm80jqw5dlkp.jpg?p=1#038;p=1.jpg', '123m', '6.6/10', 'Action, Adventure, Mystery, Comedy, Crime', 'Millie Bobby Brown, Henry Cavill, Sam Claflin', 'Harry Bradbeer')\n",
            "('Metal Lords', 2022, 'https://www.digitaltrends.com/wp-content/uploads/2023/01/r97txZRmBb75SGsIAWqmplWJnO3.jpg?p=1#038;p=1.jpg', '97m', 'Nan', 'Comedy, Drama, Music', 'Jaeden Martell, Isis Hainsworth, Adrian Greensmith', 'Peter Sollett')\n",
            "('The Pale Blue Eye', 2022, 'https://www.digitaltrends.com/wp-content/uploads/2022/12/9xkGlFRqrN8btTLU0KQvOfn2PHr.jpg?p=1#038;p=1.jpg', '130m', 'Nan', 'Mystery, Thriller', 'Christian Bale, Harry Melling, Gillian Anderson', 'Scott Cooper')\n",
            "(\"Roald Dahl's Matilda the Musical\", 2022, 'https://www.digitaltrends.com/wp-content/uploads/2022/12/ga8R3OiOMMgSvZ4cOj8x7prUNYZ.jpg?p=1#038;p=1.jpg', '117m', 'Nan', 'Family, Comedy, Fantasy', 'Alisha Weir, Emma Thompson, Lashana Lynch', 'Matthew Warchus')\n",
            "('The Ballad of Buster Scruggs', 2018, 'https://www.digitaltrends.com/wp-content/uploads/2022/02/voxl654m7p36y8flu8oqd7dfwwk.jpg?p=1#038;p=1.jpg', '132m', '7.3/10', 'Western, Comedy, Drama', 'Tim Blake Nelson, James Franco, Zoe Kazan', 'Joel Coen, Ethan Coen')\n",
            "('Glass Onion: A Knives Out Mystery', 2022, 'https://www.digitaltrends.com/wp-content/uploads/2022/11/vDGr1YdrlfbU9wxTOdpf3zChmv9.jpg?p=1#038;p=1.jpg', '139m', 'Nan', 'Comedy, Crime, Mystery', 'Daniel Craig, Edward Norton, Janelle Monáe', 'Rian Johnson')\n",
            "('Bubble', 2022, 'https://www.digitaltrends.com/wp-content/uploads/2022/04/kk28lk8oqbgjohrgucn2vxkb4o2.jpg?p=1#038;p=1.jpg', '101m', '6.4/10', 'Animation, Adventure, Science Fiction', 'Jun Shison, Riria, Alice Hirose', 'Tetsuro Araki')\n",
            "('Untold: Crimes & Penalties', 2021, 'https://www.digitaltrends.com/wp-content/uploads/2022/07/cCvMz9zMBX13pha00z9BKR5Yy7r.jpg?p=1#038;p=1.jpg', '85m', 'Nan', 'Documentary, Crime', 'Nan', 'Chapman Way, Maclain Way')\n",
            "(\"Guillermo del Toro's Pinocchio\", 2022, 'https://www.digitaltrends.com/wp-content/uploads/2022/11/vx1u0uwxdlhV2MUzj4VlcMB0N6m.jpg?p=1#038;p=1.jpg', '117m', 'Nan', 'Animation, Fantasy, Drama, Music', 'Ewan McGregor, David Bradley, Gregory Mann', 'Guillermo del Toro, Mark Gustafson')\n",
            "('Bullet Train', 2022, 'https://www.digitaltrends.com/wp-content/uploads/2022/12/tVxDe01Zy3kZqaZRNiXFGDICdZk.jpg?p=1#038;p=1.jpg', '127m', 'Nan', 'Action, Comedy, Thriller', 'Brad Pitt, Joey King, Aaron Taylor-Johnson', 'David Leitch')\n",
            "('Misha and the Wolves', 2021, 'https://www.digitaltrends.com/wp-content/uploads/2022/02/1wjefbdtcmnrij8fb472op30cjo.jpg?p=1#038;p=1.jpg', '90m', '6.7/10', 'Documentary', 'Misha Defonseca', 'Sam Hobkinson')\n",
            "('Always Be My Maybe', 2019, 'https://www.digitaltrends.com/wp-content/uploads/2021/08/always-be-my-maybe-2019-netflix-poster.jpg?p=1#038;p=1.jpg', '102m', '6.8/10', 'Comedy, Romance', 'Ali Wong, Randall Park, Keanu Reeves', 'Nahnatchka Khan')\n",
            "('Da 5 Bloods', 2020, 'https://www.digitaltrends.com/wp-content/uploads/2021/11/yx4cp1ljjmdsfeeex0zjv45b55e.jpg?p=1#038;p=1.jpg', '156m', '6.5/10', 'War, Drama', 'Delroy Lindo, Jonathan Majors, Clarke Peters', 'Spike Lee')\n",
            "('tick, tick...BOOM!', 2021, 'https://www.digitaltrends.com/wp-content/uploads/2021/11/j03wwyfhxwjipy1b5v2i1lczcor.jpg?p=1#038;p=1.jpg', '121m', '7.5/10', 'Drama, Music', 'Andrew Garfield, Alexandra Shipp, Robin de Jesús', 'Lin-Manuel Miranda')\n",
            "('Passing', 2021, 'https://www.digitaltrends.com/wp-content/uploads/2021/11/jxp6ernrfdg04gli3d34gtansuw.jpg?p=1#038;p=1.jpg', '98m', '6.7/10', 'Drama', 'Tessa Thompson, Ruth Negga, André Holland', 'Rebecca Hall')\n",
            "('If Beale Street Could Talk', 2018, 'https://www.digitaltrends.com/wp-content/uploads/2021/12/shudder-icon.jpg?p=1#038;p=1.jpg', '120m', '7.1/10', 'Romance, Drama', 'KiKi Layne, Stephan James, Regina King', 'Barry Jenkins')\n",
            "('The Trial of the Chicago 7', 2020, 'https://www.digitaltrends.com/wp-content/uploads/2021/12/shudder-icon.jpg?p=1#038;p=1.jpg', '130m', '7.8/10', 'Drama, History', 'Eddie Redmayne, Sacha Baren Cohen, Yahya Abdul-Mateen II', 'Aaron Sorkin')\n",
            "('RRR', 2022, 'https://www.digitaltrends.com/wp-content/uploads/2021/12/shudder-icon.jpg?p=1#038;p=1.jpg', '187m', '8/10', 'Action, Drama', 'N.T. Rama Rao Jr., Ram Charan, Alia Bhatt', 'S. S. Rajamouli')\n"
          ]
        }
      ]
    },
    {
      "cell_type": "markdown",
      "source": [
        "Write a query that selects movies having an IMDB rating higher than 8.5"
      ],
      "metadata": {
        "id": "qaQuUyk8pbMS"
      }
    },
    {
      "cell_type": "code",
      "source": [
        "#Test your Zaka\n",
        "c.execute(\"SELECT DISTINCT(Title), Rating FROM Top50movies WHERE Rating > 8.5 AND Rating != 'Nan';\")\n",
        "row = c.fetchone()\n",
        "#We have 1 movie only with imbd rating greater than 8.5/10 , among the ones without Nan rating\n",
        "print(\"The movie\",row[0],\"with rating\",row[1])\n",
        "#we had to use distinct cause for some reason every query we run return the result 4 times"
      ],
      "metadata": {
        "id": "U9IDw7VypgGS",
        "colab": {
          "base_uri": "https://localhost:8080/"
        },
        "outputId": "959288b1-db7b-4cdb-b67e-67630e1dff70"
      },
      "execution_count": 21,
      "outputs": [
        {
          "output_type": "stream",
          "name": "stdout",
          "text": [
            "The movie Inception with rating 8.8/10\n"
          ]
        }
      ]
    },
    {
      "cell_type": "markdown",
      "source": [
        "Write a query that selects only comedy movies"
      ],
      "metadata": {
        "id": "Oe5ze8Qxp6rH"
      }
    },
    {
      "cell_type": "code",
      "source": [
        "#Test your Zaka\n",
        "#Return movies that has only comedy as genre\n",
        "c.execute(\"SELECT DISTINCT(Title),Genre FROM Top50movies WHERE Genre IN('Comedy')\")\n",
        "rows = c.fetchall()\n",
        "for row in rows :\n",
        "  print(\"The movie\",row[0],\"is\",row[1],\"only\")"
      ],
      "metadata": {
        "id": "-WL60hjRwOi6",
        "colab": {
          "base_uri": "https://localhost:8080/"
        },
        "outputId": "d5effa8a-ceba-4c54-e390-9e67c78713b8"
      },
      "execution_count": 22,
      "outputs": [
        {
          "output_type": "stream",
          "name": "stdout",
          "text": [
            "The movie The Best Man Holiday is Comedy only\n",
            "The movie Easy A is Comedy only\n"
          ]
        }
      ]
    },
    {
      "cell_type": "code",
      "source": [
        "#In case you wanted comedy among other genres :\n",
        "\n",
        "#c.execute(\"SELECT DISTINCT(Title),Genre FROM Top50movies WHERE Genre LIKE '%Comedy%'\")\n",
        "#rows = c.fetchall()\n",
        "#for row in rows :\n",
        "#  print(\"The movie\",row[0],\"include these genres\",row[1])"
      ],
      "metadata": {
        "id": "GJUtjLgUp9cX"
      },
      "execution_count": 23,
      "outputs": []
    },
    {
      "cell_type": "markdown",
      "source": [
        "Write a query that selects comedy or action movies shorter than 120 minutes."
      ],
      "metadata": {
        "id": "bNECqCzZCk2C"
      }
    },
    {
      "cell_type": "code",
      "source": [
        "#Test your Zaka\n",
        "c.execute(\"SELECT DISTINCT(Title),Genre, Duration  FROM Top50movies WHERE (Genre LIKE'%Comedy%' OR Genre LIKE '%action%') AND CAST(Duration AS INTEGER) < 120;\")\n",
        "rows = c.fetchall()\n",
        "for row in rows :\n",
        "  print(\"The movie\",row[0],\"include these genres\",row[1],\"and it's duration is \",row[2])"
      ],
      "metadata": {
        "id": "9CM_xIx9Cr9Z",
        "colab": {
          "base_uri": "https://localhost:8080/"
        },
        "outputId": "47e0be47-69b7-4fd5-ce56-8221c0371d8c"
      },
      "execution_count": 24,
      "outputs": [
        {
          "output_type": "stream",
          "name": "stdout",
          "text": [
            "The movie Dunkirk include these genres War, Action, Drama and it's duration is  107m\n",
            "The movie The Boss Baby include these genres Animation, Comedy, Family and it's duration is  97m\n",
            "The movie We're the Millers include these genres Comedy, Crime and it's duration is  110m\n",
            "The movie Blood & Gold include these genres Action, Drama, War and it's duration is  100m\n",
            "The movie Ted include these genres Comedy, Fantasy and it's duration is  107m\n",
            "The movie The Mother include these genres Action, Thriller and it's duration is  115m\n",
            "The movie Pitch Perfect include these genres Comedy, Music, Romance and it's duration is  112m\n",
            "The movie Shrek Forever After include these genres Comedy, Adventure, Fantasy, Animation, Family and it's duration is  93m\n",
            "The movie Minions: The Rise of Gru include these genres Animation, Comedy, Family and it's duration is  87m\n",
            "The movie Pitch Black include these genres Thriller, Science Fiction, Action and it's duration is  108m\n",
            "The movie World War Z include these genres Action, Drama, Horror, Science Fiction, Thriller and it's duration is  116m\n",
            "The movie Easy A include these genres Comedy and it's duration is  93m\n",
            "The movie Your Place or Mine include these genres Comedy, Romance and it's duration is  109m\n",
            "The movie Day Shift include these genres Action, Fantasy, Horror and it's duration is  113m\n",
            "The movie Metal Lords include these genres Comedy, Drama, Music and it's duration is  97m\n",
            "The movie Roald Dahl's Matilda the Musical include these genres Family, Comedy, Fantasy and it's duration is  117m\n",
            "The movie Always Be My Maybe include these genres Comedy, Romance and it's duration is  102m\n"
          ]
        }
      ]
    },
    {
      "cell_type": "markdown",
      "source": [
        "#Part B: Scraping Movies and series using the OMDB API"
      ],
      "metadata": {
        "id": "2C4jj7OfbfTt"
      }
    },
    {
      "cell_type": "markdown",
      "source": [
        "An alternative to web scraping via Beautifulsoup or selenium is the use of APIs to scrape the web. APIs give you regulated access to the information you want, and if an API is available, it is always better to use it rather than scrpaing via libraries. In our example, we will use the OMDB API: http://www.omdbapi.com/"
      ],
      "metadata": {
        "id": "oTPPY5MFq3bX"
      }
    },
    {
      "cell_type": "markdown",
      "source": [
        "####1. Familiarize yourself with pymongo:\n",
        "Before starting with the scraping part, familiarize yourself with the pymongo library that will help you create a MongoDB instance and add collections of documents to it."
      ],
      "metadata": {
        "id": "uh3H7sFSEBM4"
      }
    },
    {
      "cell_type": "markdown",
      "source": [
        "Start by setting up the requirements to be able to use the pymongo library."
      ],
      "metadata": {
        "id": "JI7WIIo9E2Ey"
      }
    },
    {
      "cell_type": "code",
      "source": [
        "#Test your Zaka\n",
        "!pip install pymongo\n",
        "import pymongo"
      ],
      "metadata": {
        "id": "OGWktj6TEv8s",
        "colab": {
          "base_uri": "https://localhost:8080/"
        },
        "outputId": "9d019d3c-44ba-492d-f804-4e30a6d1ec21"
      },
      "execution_count": 25,
      "outputs": [
        {
          "output_type": "stream",
          "name": "stdout",
          "text": [
            "Looking in indexes: https://pypi.org/simple, https://us-python.pkg.dev/colab-wheels/public/simple/\n",
            "Collecting pymongo\n",
            "  Downloading pymongo-4.3.3-cp310-cp310-manylinux_2_17_x86_64.manylinux2014_x86_64.whl (492 kB)\n",
            "\u001b[2K     \u001b[90m━━━━━━━━━━━━━━━━━━━━━━━━━━━━━━━━━━━━━━━\u001b[0m \u001b[32m492.9/492.9 kB\u001b[0m \u001b[31m9.0 MB/s\u001b[0m eta \u001b[36m0:00:00\u001b[0m\n",
            "\u001b[?25hCollecting dnspython<3.0.0,>=1.16.0 (from pymongo)\n",
            "  Downloading dnspython-2.3.0-py3-none-any.whl (283 kB)\n",
            "\u001b[2K     \u001b[90m━━━━━━━━━━━━━━━━━━━━━━━━━━━━━━━━━━━━━━\u001b[0m \u001b[32m283.7/283.7 kB\u001b[0m \u001b[31m24.3 MB/s\u001b[0m eta \u001b[36m0:00:00\u001b[0m\n",
            "\u001b[?25hInstalling collected packages: dnspython, pymongo\n",
            "Successfully installed dnspython-2.3.0 pymongo-4.3.3\n"
          ]
        }
      ]
    },
    {
      "cell_type": "markdown",
      "source": [
        "Create a database named testdb"
      ],
      "metadata": {
        "id": "NGb9cI-RFeY7"
      }
    },
    {
      "cell_type": "code",
      "source": [
        "#Test your Zaka\n",
        "from pymongo import MongoClient\n",
        "\n",
        "client = pymongo.MongoClient(\"mongodb://localhost:27017/\")\n",
        "\n",
        "#i wasn't able to connect to local had a problem with installation\n",
        "#but will work on further questions assuming it was succesfully connected\n",
        "\n",
        "# create a new database called \"testdb\"\n",
        "db = client[\"testdb\"]"
      ],
      "metadata": {
        "id": "Y4Vf68mfFCV_"
      },
      "execution_count": 26,
      "outputs": []
    },
    {
      "cell_type": "markdown",
      "source": [
        "Create a collection in this database"
      ],
      "metadata": {
        "id": "D50ZfmfIF-W_"
      }
    },
    {
      "cell_type": "code",
      "source": [
        "#Test your Zaka\n",
        "movies_collection = db[\"movies\"]\n"
      ],
      "metadata": {
        "id": "5vOEjXHyF7HG"
      },
      "execution_count": 27,
      "outputs": []
    },
    {
      "cell_type": "markdown",
      "source": [
        "Insert 2 records in this database. You can choose whatever fields you want to define. The goal is just to practice."
      ],
      "metadata": {
        "id": "36qECmltGNu1"
      }
    },
    {
      "cell_type": "code",
      "source": [
        "#Test your Zaka\n",
        "movie1 = {\n",
        "    \"title\": \"The Shawshank Redemption\",\n",
        "    \"year\": 1994,\n",
        "    \"director\": \"Frank Darabont\",\n",
        "    \"actors\": [\"Tim Robbins\", \"Morgan Freeman\"],\n",
        "    \"genre\": [\"Drama\", \"Crime\"],\n",
        "    \"rating\": 9.3\n",
        "}\n",
        "\n",
        "movie2 = {\n",
        "    \"title\": \"The Godfather\",\n",
        "    \"year\": 1972,\n",
        "    \"director\": \"Francis Ford Coppola\",\n",
        "    \"actors\": [\"Marlon Brando\", \"Al Pacino\", \"James Caan\"],\n",
        "    \"genre\": [\"Drama\", \"Crime\"],\n",
        "    \"rating\": 9.2\n",
        "}\n",
        "\n",
        "result = movies_collection.insert_many([movie1, movie2])\n",
        "print(result.inserted_ids)"
      ],
      "metadata": {
        "id": "GpMvXyFIGVe8"
      },
      "execution_count": null,
      "outputs": []
    },
    {
      "cell_type": "markdown",
      "source": [
        "Write a query that selects all documents in your collection."
      ],
      "metadata": {
        "id": "i1wZHY05G_gT"
      }
    },
    {
      "cell_type": "code",
      "source": [
        "#Test your Zaka\n",
        "cursor = movies_collection.find()\n",
        "\n",
        "# print the selected documents\n",
        "for document in cursor:\n",
        "    print(document)"
      ],
      "metadata": {
        "id": "2oLfETVqHEK0"
      },
      "execution_count": null,
      "outputs": []
    },
    {
      "cell_type": "markdown",
      "source": [
        "####2. Use the API to get info about 5 movies/series.\n",
        "Some suggestions:\n",
        "Friends, How I Met Your Mother, Prison Break, La Casa De Papel, and Blindspot.\n",
        "\n",
        "While scraping, make sure to scrape some of the movies via their title, and some of them via their IMDB ID."
      ],
      "metadata": {
        "id": "XnSFJUF2xZds"
      }
    },
    {
      "cell_type": "code",
      "source": [
        "import requests\n",
        "import json"
      ],
      "metadata": {
        "id": "rTBVqeeyedD0"
      },
      "execution_count": null,
      "outputs": []
    },
    {
      "cell_type": "code",
      "source": [
        "#Test your Zaka\n",
        "\n",
        "#friends using title\n",
        "\n",
        "api_key = \"e1ee935a\"\n",
        "\n",
        "title = \"Friends\"\n",
        "\n",
        "# the API query URL\n",
        "url = f\"http://www.omdbapi.com/?apikey=e1ee935a&t={title}&type=series\"\n",
        "\n",
        "\n",
        "response = requests.get(url)\n",
        "\n",
        "data = json.loads(response.text)\n",
        "\n",
        "# Print the series information\n",
        "if 'Error' in data:\n",
        "    print(f\"API error: {data['Error']}\")\n",
        "else:\n",
        "    # Print the series information\n",
        "    print(f\"Title: {data['Title']}\")\n",
        "    print(f\"Year of release: {data['Year']}\")\n",
        "    print(f\"Genre: {data['Genre']}\")\n",
        "    print(f\"Plot: {data['Plot']}\")\n",
        "    print(f\"Actors: {data['Actors']}\")\n",
        "    print(f\"IMDB rating: {data['imdbRating']}\")"
      ],
      "metadata": {
        "id": "pzj0Z4fcLY4T"
      },
      "execution_count": null,
      "outputs": []
    },
    {
      "cell_type": "code",
      "source": [
        "#Test your Zaka\n",
        "\n",
        "# himym using imbd id\n",
        "\n",
        "api_key = \"e1ee935a\"\n",
        "\n",
        "# IMDB ID for \"How I Met Your Mother\"\n",
        "imdb_id = \"tt0460649\"\n",
        "\n",
        "\n",
        "url = f\"http://www.omdbapi.com/?apikey={api_key}&i={imdb_id}&type=series\"\n",
        "\n",
        "\n",
        "response = requests.get(url)\n",
        "\n",
        "\n",
        "data = json.loads(response.text)\n",
        "\n",
        "# Check for errors\n",
        "if 'Error' in data:\n",
        "    print(f\"API error: {data['Error']}\")\n",
        "else:\n",
        "    # Print the series information\n",
        "    print(f\"Title: {data['Title']}\")\n",
        "    print(f\"Year of release: {data['Year']}\")\n",
        "    print(f\"Genre: {data['Genre']}\")\n",
        "    print(f\"Plot: {data['Plot']}\")\n",
        "    print(f\"Actors: {data['Actors']}\")\n",
        "    print(f\"IMDB rating: {data['imdbRating']}\")"
      ],
      "metadata": {
        "id": "sG938hfSM-b7"
      },
      "execution_count": null,
      "outputs": []
    },
    {
      "cell_type": "code",
      "source": [
        "#Test your Zaka\n",
        "\n",
        "#prison break using title\n",
        "\n",
        "api_key = \"e1ee935a\"\n",
        "\n",
        "\n",
        "title = \"Prison break\"\n",
        "\n",
        "\n",
        "url = f\"http://www.omdbapi.com/?apikey={api_key}&t={title}&type=series\"\n",
        "\n",
        "\n",
        "response = requests.get(url)\n",
        "\n",
        "\n",
        "data = json.loads(response.text)\n",
        "\n",
        "\n",
        "if 'Error' in data:\n",
        "    print(f\"API error: {data['Error']}\")\n",
        "else:\n",
        "    # Print the series information\n",
        "    print(f\"Title: {data['Title']}\")\n",
        "    print(f\"Year of release: {data['Year']}\")\n",
        "    print(f\"Genre: {data['Genre']}\")\n",
        "    print(f\"Plot: {data['Plot']}\")\n",
        "    print(f\"Actors: {data['Actors']}\")\n",
        "    print(f\"IMDB rating: {data['imdbRating']}\")"
      ],
      "metadata": {
        "id": "NtzSPjmAO0Ir"
      },
      "execution_count": null,
      "outputs": []
    },
    {
      "cell_type": "code",
      "source": [
        "#Test your Zaka\n",
        "\n",
        "#La casa de papel(Money heist) using imbd id\n",
        "\n",
        "api_key = \"e1ee935a\"\n",
        "\n",
        "title = \"Money heist\"\n",
        "\n",
        "url = f\"http://www.omdbapi.com/?apikey={api_key}&t={title}&type=series\"\n",
        "\n",
        "response = requests.get(url)\n",
        "\n",
        "data = json.loads(response.text)\n",
        "\n",
        "if 'Error' in data:\n",
        "    print(f\"API error: {data['Error']}\")\n",
        "else:\n",
        "    # Print the series information\n",
        "    print(f\"Title: {data['Title']}\")\n",
        "    print(f\"Year of release: {data['Year']}\")\n",
        "    print(f\"Genre: {data['Genre']}\")\n",
        "    print(f\"Plot: {data['Plot']}\")\n",
        "    print(f\"Actors: {data['Actors']}\")\n",
        "    print(f\"IMDB rating: {data['imdbRating']}\")\n"
      ],
      "metadata": {
        "id": "ouRJwvOnRPTN"
      },
      "execution_count": null,
      "outputs": []
    },
    {
      "cell_type": "code",
      "source": [
        "#Test your Zaka\n",
        "\n",
        "#Blindspot using title\n",
        "\n",
        "api_key = \"e1ee935a\"\n",
        "\n",
        "title = \"Blindspot\"\n",
        "\n",
        "url = f\"http://www.omdbapi.com/?apikey={api_key}&t={title}&type=series\"\n",
        "\n",
        "response = requests.get(url)\n",
        "\n",
        "data = json.loads(response.text)\n",
        "\n",
        "if 'Error' in data:\n",
        "    print(f\"API error: {data['Error']}\")\n",
        "else:\n",
        "    # Print the series information\n",
        "    print(f\"Title: {data['Title']}\")\n",
        "    print(f\"Year of release: {data['Year']}\")\n",
        "    print(f\"Genre: {data['Genre']}\")\n",
        "    print(f\"Plot: {data['Plot']}\")\n",
        "    print(f\"Actors: {data['Actors']}\")\n",
        "    print(f\"IMDB rating: {data['imdbRating']}\")\n"
      ],
      "metadata": {
        "id": "ys5qbWt0RnP3"
      },
      "execution_count": null,
      "outputs": []
    },
    {
      "cell_type": "markdown",
      "source": [
        "####3. Save the results you got into a MongoDB instance.\n",
        "You will use the pymongo library you have imported.\n"
      ],
      "metadata": {
        "id": "b08kxtRtyVXV"
      }
    },
    {
      "cell_type": "code",
      "source": [
        "#Test your Zaka\n",
        "import requests\n",
        "import json\n",
        "from pymongo import MongoClient\n",
        "\n",
        "# API key\n",
        "api_key = \"e1ee935a\"\n",
        "\n",
        "# Connect to MongoDB instance\n",
        "client = MongoClient(\"mongodb://localhost:27017/\")\n",
        "\n",
        "# Get the 'movies' database\n",
        "db = client[\"movies\"]\n",
        "\n",
        "# Get the 'series' collection\n",
        "collection = db[\"series\"]\n",
        "\n",
        "# Search for TV series and insert the results into MongoDB\n",
        "series = [\n",
        "    {\"title\": \"Friends\", \"type\": \"series\"},\n",
        "    {\"imdb_id\": \"tt0460649\", \"type\": \"series\"},\n",
        "    {\"title\": \"Prison Break\", \"type\": \"series\"},\n",
        "    {\"title\": \"Money heist\", \"type\": \"series\"},\n",
        "    {\"imdb_id\": \"tt4474344\", \"type\": \"series\"}\n",
        "]\n",
        "\n",
        "for s in series:\n",
        "    # Construct the API query URL\n",
        "    if \"title\" in s:\n",
        "        url = f\"http://www.omdbapi.com/?apikey={api_key}&t={s['title']}&type={s['type']}\"\n",
        "    elif \"imdb_id\" in s:\n",
        "        url = f\"http://www.omdbapi.com/?apikey={api_key}&i={s['imdb_id']}&type={s['type']}\"\n",
        "\n",
        "    # Send the API query using a GET request\n",
        "    response = requests.get(url)\n",
        "\n",
        "    # Parse the JSON response\n",
        "    data = json.loads(response.text)\n",
        "\n",
        "    # Check for errors\n",
        "    if 'Error' in data:\n",
        "        print(f\"API error: {data['Error']}\")\n",
        "    else:\n",
        "        # Insert the series information into the MongoDB collection\n",
        "        collection.insert_one(data)\n",
        "        print(f\"Data for {data['Title']} inserted successfully.\")\n",
        "\n",
        "# Close the MongoDB connection\n",
        "client.close()\n"
      ],
      "metadata": {
        "id": "D86DfeDrWOj3"
      },
      "execution_count": null,
      "outputs": []
    },
    {
      "cell_type": "markdown",
      "source": [
        "#### 4. Querying the database"
      ],
      "metadata": {
        "id": "j-WFxQcqykNX"
      }
    },
    {
      "cell_type": "markdown",
      "source": [
        "Write a query that selects all movies/series you scraped"
      ],
      "metadata": {
        "id": "1lB6x2h4yunx"
      }
    },
    {
      "cell_type": "code",
      "source": [
        "#Test your Zaka\n",
        "\n",
        "all_series = collection.find()\n",
        "\n",
        "# Print the documents\n",
        "for s in all_series:\n",
        "    print(s)"
      ],
      "metadata": {
        "id": "v2TEcnCqWgIO"
      },
      "execution_count": null,
      "outputs": []
    },
    {
      "cell_type": "markdown",
      "source": [
        "Write a query that selects a specific movie/series based on its title"
      ],
      "metadata": {
        "id": "UNO5S2p4yv8y"
      }
    },
    {
      "cell_type": "code",
      "source": [
        "#Test your Zaka\n",
        "title = \"Friends\"\n",
        "\n",
        "# Find the document with the specified title\n",
        "result = collection.find_one({\"Title\": title})\n",
        "\n",
        "# Print the document\n",
        "print(result)"
      ],
      "metadata": {
        "id": "SM-o4ie2ZErZ"
      },
      "execution_count": null,
      "outputs": []
    },
    {
      "cell_type": "markdown",
      "source": [
        "Write a query that returns all movies/series that were released after 2006."
      ],
      "metadata": {
        "id": "7TdKHA-Yy0fi"
      }
    },
    {
      "cell_type": "code",
      "source": [
        "#Test your Zaka\n",
        "\n",
        "result = collection.find({\"Year\": {\"$gt\": \"2006\"}})\n",
        "\n",
        "# Print the documents\n",
        "for s in result:\n",
        "    print(s)"
      ],
      "metadata": {
        "id": "r65cv-seZdDH"
      },
      "execution_count": null,
      "outputs": []
    },
    {
      "cell_type": "markdown",
      "source": [
        "Write a query that can find comedy series/movies only."
      ],
      "metadata": {
        "id": "YqqjYnJ0apl5"
      }
    },
    {
      "cell_type": "code",
      "source": [
        "#Test your Zaka\n",
        "\n",
        "result = collection.find({\"Genre\": {\"$regex\": \"Comedy\"}})\n",
        "\n",
        "# Print the documents\n",
        "for s in result:\n",
        "    print(s)"
      ],
      "metadata": {
        "id": "0mXEUIEdaBgg"
      },
      "execution_count": null,
      "outputs": []
    },
    {
      "cell_type": "markdown",
      "source": [
        "Use subplots to show for each series/movie you have in your database, its poster and above it the title and the year (or years) it was aired."
      ],
      "metadata": {
        "id": "NvXnVNhFRtw_"
      }
    },
    {
      "cell_type": "code",
      "source": [
        "#Test your Zaka\n",
        "import matplotlib.pyplot as plt\n",
        "import matplotlib.image as mpimg\n",
        "\n",
        "result = collection.find()\n",
        "\n",
        "# Set up the subplots\n",
        "fig, axs = plt.subplots(nrows=1, ncols=result.count(), figsize=(20, 6))\n",
        "\n",
        "# Iterate over the documents and display each poster, title, and year\n",
        "for i, s in enumerate(result):\n",
        "    # Load the poster image from file\n",
        "    img = mpimg.imread(f\"{s['Title']}.jpg\")\n",
        "\n",
        "    # Display the poster, title, and year in the subplot\n",
        "    axs[i].imshow(img)\n",
        "    axs[i].set_title(f\"{s['Title']} ({s['Year']})\", fontsize=12)\n",
        "    axs[i].set_axis_off()\n",
        "\n",
        "# Show the subplots\n",
        "plt.tight_layout()\n",
        "plt.show()"
      ],
      "metadata": {
        "id": "vDIXHNc0RupM"
      },
      "execution_count": null,
      "outputs": []
    }
  ]
}